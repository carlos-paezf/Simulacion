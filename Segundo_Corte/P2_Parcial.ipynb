{
  "nbformat": 4,
  "nbformat_minor": 0,
  "metadata": {
    "colab": {
      "name": "P2_Parcial.ipynb",
      "provenance": [],
      "collapsed_sections": [
        "bxTbQsmph3-d",
        "djZgeZOMiKPl"
      ]
    },
    "kernelspec": {
      "name": "python3",
      "display_name": "Python 3"
    },
    "language_info": {
      "name": "python"
    }
  },
  "cells": [
    {
      "cell_type": "markdown",
      "metadata": {
        "id": "snaRRuPKqgPd"
      },
      "source": [
        "# Punto 1"
      ]
    },
    {
      "cell_type": "markdown",
      "metadata": {
        "id": "bxTbQsmph3-d"
      },
      "source": [
        "## Importar los datos"
      ]
    },
    {
      "cell_type": "code",
      "metadata": {
        "id": "8ZbJJo3VfvUR"
      },
      "source": [
        "import pandas as pd\n",
        "import numpy as np\n",
        "import matplotlib.pyplot as plt\n",
        "import seaborn as sns\n",
        "%matplotlib inline"
      ],
      "execution_count": 1,
      "outputs": []
    },
    {
      "cell_type": "code",
      "metadata": {
        "id": "XzJJGdfbgiaO"
      },
      "source": [
        "path = 'https://raw.githubusercontent.com/carlos-paezf/Simulacion/main/Segundo_Corte/2021.csv'\n",
        "data = pd.read_csv(path, encoding='utf-8')"
      ],
      "execution_count": 2,
      "outputs": []
    },
    {
      "cell_type": "code",
      "metadata": {
        "id": "f5H8EHY0hNQS"
      },
      "source": [
        "df = pd.DataFrame(data)"
      ],
      "execution_count": 3,
      "outputs": []
    },
    {
      "cell_type": "markdown",
      "metadata": {
        "id": "UYYlaSE3iHD4"
      },
      "source": [
        "## Conocer los datos"
      ]
    },
    {
      "cell_type": "code",
      "metadata": {
        "colab": {
          "base_uri": "https://localhost:8080/",
          "height": 402
        },
        "id": "YOlvrL_Ehh-6",
        "outputId": "b7687aca-3c62-47f5-ed49-bbc2e075a022"
      },
      "source": [
        "df.describe()"
      ],
      "execution_count": null,
      "outputs": [
        {
          "output_type": "execute_result",
          "data": {
            "text/html": [
              "<div>\n",
              "<style scoped>\n",
              "    .dataframe tbody tr th:only-of-type {\n",
              "        vertical-align: middle;\n",
              "    }\n",
              "\n",
              "    .dataframe tbody tr th {\n",
              "        vertical-align: top;\n",
              "    }\n",
              "\n",
              "    .dataframe thead th {\n",
              "        text-align: right;\n",
              "    }\n",
              "</style>\n",
              "<table border=\"1\" class=\"dataframe\">\n",
              "  <thead>\n",
              "    <tr style=\"text-align: right;\">\n",
              "      <th></th>\n",
              "      <th>Ladder score</th>\n",
              "      <th>Standard error of ladder score</th>\n",
              "      <th>upperwhisker</th>\n",
              "      <th>lowerwhisker</th>\n",
              "      <th>Logged GDP per capita</th>\n",
              "      <th>Social support</th>\n",
              "      <th>Healthy life expectancy</th>\n",
              "      <th>Freedom to make life choices</th>\n",
              "      <th>Generosity</th>\n",
              "      <th>Perceptions of corruption</th>\n",
              "      <th>Ladder score in Dystopia</th>\n",
              "      <th>Explained by: Log GDP per capita</th>\n",
              "      <th>Explained by: Social support</th>\n",
              "      <th>Explained by: Healthy life expectancy</th>\n",
              "      <th>Explained by: Freedom to make life choices</th>\n",
              "      <th>Explained by: Generosity</th>\n",
              "      <th>Explained by: Perceptions of corruption</th>\n",
              "      <th>Dystopia + residual</th>\n",
              "    </tr>\n",
              "  </thead>\n",
              "  <tbody>\n",
              "    <tr>\n",
              "      <th>count</th>\n",
              "      <td>149.000000</td>\n",
              "      <td>149.000000</td>\n",
              "      <td>149.000000</td>\n",
              "      <td>149.000000</td>\n",
              "      <td>149.000000</td>\n",
              "      <td>149.000000</td>\n",
              "      <td>149.000000</td>\n",
              "      <td>149.000000</td>\n",
              "      <td>149.000000</td>\n",
              "      <td>149.000000</td>\n",
              "      <td>1.490000e+02</td>\n",
              "      <td>149.000000</td>\n",
              "      <td>149.000000</td>\n",
              "      <td>149.000000</td>\n",
              "      <td>149.000000</td>\n",
              "      <td>149.000000</td>\n",
              "      <td>149.000000</td>\n",
              "      <td>149.000000</td>\n",
              "    </tr>\n",
              "    <tr>\n",
              "      <th>mean</th>\n",
              "      <td>5.532839</td>\n",
              "      <td>0.058752</td>\n",
              "      <td>5.648007</td>\n",
              "      <td>5.417631</td>\n",
              "      <td>9.432208</td>\n",
              "      <td>0.814745</td>\n",
              "      <td>64.992799</td>\n",
              "      <td>0.791597</td>\n",
              "      <td>-0.015134</td>\n",
              "      <td>0.727450</td>\n",
              "      <td>2.430000e+00</td>\n",
              "      <td>0.977161</td>\n",
              "      <td>0.793315</td>\n",
              "      <td>0.520161</td>\n",
              "      <td>0.498711</td>\n",
              "      <td>0.178047</td>\n",
              "      <td>0.135141</td>\n",
              "      <td>2.430329</td>\n",
              "    </tr>\n",
              "    <tr>\n",
              "      <th>std</th>\n",
              "      <td>1.073924</td>\n",
              "      <td>0.022001</td>\n",
              "      <td>1.054330</td>\n",
              "      <td>1.094879</td>\n",
              "      <td>1.158601</td>\n",
              "      <td>0.114889</td>\n",
              "      <td>6.762043</td>\n",
              "      <td>0.113332</td>\n",
              "      <td>0.150657</td>\n",
              "      <td>0.179226</td>\n",
              "      <td>5.347044e-15</td>\n",
              "      <td>0.404740</td>\n",
              "      <td>0.258871</td>\n",
              "      <td>0.213019</td>\n",
              "      <td>0.137888</td>\n",
              "      <td>0.098270</td>\n",
              "      <td>0.114361</td>\n",
              "      <td>0.537645</td>\n",
              "    </tr>\n",
              "    <tr>\n",
              "      <th>min</th>\n",
              "      <td>2.523000</td>\n",
              "      <td>0.026000</td>\n",
              "      <td>2.596000</td>\n",
              "      <td>2.449000</td>\n",
              "      <td>6.635000</td>\n",
              "      <td>0.463000</td>\n",
              "      <td>48.478000</td>\n",
              "      <td>0.382000</td>\n",
              "      <td>-0.288000</td>\n",
              "      <td>0.082000</td>\n",
              "      <td>2.430000e+00</td>\n",
              "      <td>0.000000</td>\n",
              "      <td>0.000000</td>\n",
              "      <td>0.000000</td>\n",
              "      <td>0.000000</td>\n",
              "      <td>0.000000</td>\n",
              "      <td>0.000000</td>\n",
              "      <td>0.648000</td>\n",
              "    </tr>\n",
              "    <tr>\n",
              "      <th>25%</th>\n",
              "      <td>4.852000</td>\n",
              "      <td>0.043000</td>\n",
              "      <td>4.991000</td>\n",
              "      <td>4.706000</td>\n",
              "      <td>8.541000</td>\n",
              "      <td>0.750000</td>\n",
              "      <td>59.802000</td>\n",
              "      <td>0.718000</td>\n",
              "      <td>-0.126000</td>\n",
              "      <td>0.667000</td>\n",
              "      <td>2.430000e+00</td>\n",
              "      <td>0.666000</td>\n",
              "      <td>0.647000</td>\n",
              "      <td>0.357000</td>\n",
              "      <td>0.409000</td>\n",
              "      <td>0.105000</td>\n",
              "      <td>0.060000</td>\n",
              "      <td>2.138000</td>\n",
              "    </tr>\n",
              "    <tr>\n",
              "      <th>50%</th>\n",
              "      <td>5.534000</td>\n",
              "      <td>0.054000</td>\n",
              "      <td>5.625000</td>\n",
              "      <td>5.413000</td>\n",
              "      <td>9.569000</td>\n",
              "      <td>0.832000</td>\n",
              "      <td>66.603000</td>\n",
              "      <td>0.804000</td>\n",
              "      <td>-0.036000</td>\n",
              "      <td>0.781000</td>\n",
              "      <td>2.430000e+00</td>\n",
              "      <td>1.025000</td>\n",
              "      <td>0.832000</td>\n",
              "      <td>0.571000</td>\n",
              "      <td>0.514000</td>\n",
              "      <td>0.164000</td>\n",
              "      <td>0.101000</td>\n",
              "      <td>2.509000</td>\n",
              "    </tr>\n",
              "    <tr>\n",
              "      <th>75%</th>\n",
              "      <td>6.255000</td>\n",
              "      <td>0.070000</td>\n",
              "      <td>6.344000</td>\n",
              "      <td>6.128000</td>\n",
              "      <td>10.421000</td>\n",
              "      <td>0.905000</td>\n",
              "      <td>69.600000</td>\n",
              "      <td>0.877000</td>\n",
              "      <td>0.079000</td>\n",
              "      <td>0.845000</td>\n",
              "      <td>2.430000e+00</td>\n",
              "      <td>1.323000</td>\n",
              "      <td>0.996000</td>\n",
              "      <td>0.665000</td>\n",
              "      <td>0.603000</td>\n",
              "      <td>0.239000</td>\n",
              "      <td>0.174000</td>\n",
              "      <td>2.794000</td>\n",
              "    </tr>\n",
              "    <tr>\n",
              "      <th>max</th>\n",
              "      <td>7.842000</td>\n",
              "      <td>0.173000</td>\n",
              "      <td>7.904000</td>\n",
              "      <td>7.780000</td>\n",
              "      <td>11.647000</td>\n",
              "      <td>0.983000</td>\n",
              "      <td>76.953000</td>\n",
              "      <td>0.970000</td>\n",
              "      <td>0.542000</td>\n",
              "      <td>0.939000</td>\n",
              "      <td>2.430000e+00</td>\n",
              "      <td>1.751000</td>\n",
              "      <td>1.172000</td>\n",
              "      <td>0.897000</td>\n",
              "      <td>0.716000</td>\n",
              "      <td>0.541000</td>\n",
              "      <td>0.547000</td>\n",
              "      <td>3.482000</td>\n",
              "    </tr>\n",
              "  </tbody>\n",
              "</table>\n",
              "</div>"
            ],
            "text/plain": [
              "       Ladder score  ...  Dystopia + residual\n",
              "count    149.000000  ...           149.000000\n",
              "mean       5.532839  ...             2.430329\n",
              "std        1.073924  ...             0.537645\n",
              "min        2.523000  ...             0.648000\n",
              "25%        4.852000  ...             2.138000\n",
              "50%        5.534000  ...             2.509000\n",
              "75%        6.255000  ...             2.794000\n",
              "max        7.842000  ...             3.482000\n",
              "\n",
              "[8 rows x 18 columns]"
            ]
          },
          "metadata": {
            "tags": []
          },
          "execution_count": 6
        }
      ]
    },
    {
      "cell_type": "code",
      "metadata": {
        "colab": {
          "base_uri": "https://localhost:8080/"
        },
        "id": "0x9rNPPshlSO",
        "outputId": "68cf62b5-e7e0-4b28-8aa0-d2e365ae0482"
      },
      "source": [
        "df.info()"
      ],
      "execution_count": null,
      "outputs": [
        {
          "output_type": "stream",
          "text": [
            "<class 'pandas.core.frame.DataFrame'>\n",
            "RangeIndex: 149 entries, 0 to 148\n",
            "Data columns (total 20 columns):\n",
            " #   Column                                      Non-Null Count  Dtype  \n",
            "---  ------                                      --------------  -----  \n",
            " 0   Country name                                149 non-null    object \n",
            " 1   Regional indicator                          149 non-null    object \n",
            " 2   Ladder score                                149 non-null    float64\n",
            " 3   Standard error of ladder score              149 non-null    float64\n",
            " 4   upperwhisker                                149 non-null    float64\n",
            " 5   lowerwhisker                                149 non-null    float64\n",
            " 6   Logged GDP per capita                       149 non-null    float64\n",
            " 7   Social support                              149 non-null    float64\n",
            " 8   Healthy life expectancy                     149 non-null    float64\n",
            " 9   Freedom to make life choices                149 non-null    float64\n",
            " 10  Generosity                                  149 non-null    float64\n",
            " 11  Perceptions of corruption                   149 non-null    float64\n",
            " 12  Ladder score in Dystopia                    149 non-null    float64\n",
            " 13  Explained by: Log GDP per capita            149 non-null    float64\n",
            " 14  Explained by: Social support                149 non-null    float64\n",
            " 15  Explained by: Healthy life expectancy       149 non-null    float64\n",
            " 16  Explained by: Freedom to make life choices  149 non-null    float64\n",
            " 17  Explained by: Generosity                    149 non-null    float64\n",
            " 18  Explained by: Perceptions of corruption     149 non-null    float64\n",
            " 19  Dystopia + residual                         149 non-null    float64\n",
            "dtypes: float64(18), object(2)\n",
            "memory usage: 23.4+ KB\n"
          ],
          "name": "stdout"
        }
      ]
    },
    {
      "cell_type": "code",
      "metadata": {
        "colab": {
          "base_uri": "https://localhost:8080/",
          "height": 394
        },
        "id": "QHnAvRC4hn0c",
        "outputId": "d8144dfc-3039-4a34-f8e4-5a4c113d8f3c"
      },
      "source": [
        "df.head()"
      ],
      "execution_count": null,
      "outputs": [
        {
          "output_type": "execute_result",
          "data": {
            "text/html": [
              "<div>\n",
              "<style scoped>\n",
              "    .dataframe tbody tr th:only-of-type {\n",
              "        vertical-align: middle;\n",
              "    }\n",
              "\n",
              "    .dataframe tbody tr th {\n",
              "        vertical-align: top;\n",
              "    }\n",
              "\n",
              "    .dataframe thead th {\n",
              "        text-align: right;\n",
              "    }\n",
              "</style>\n",
              "<table border=\"1\" class=\"dataframe\">\n",
              "  <thead>\n",
              "    <tr style=\"text-align: right;\">\n",
              "      <th></th>\n",
              "      <th>Country name</th>\n",
              "      <th>Regional indicator</th>\n",
              "      <th>Ladder score</th>\n",
              "      <th>Standard error of ladder score</th>\n",
              "      <th>upperwhisker</th>\n",
              "      <th>lowerwhisker</th>\n",
              "      <th>Logged GDP per capita</th>\n",
              "      <th>Social support</th>\n",
              "      <th>Healthy life expectancy</th>\n",
              "      <th>Freedom to make life choices</th>\n",
              "      <th>Generosity</th>\n",
              "      <th>Perceptions of corruption</th>\n",
              "      <th>Ladder score in Dystopia</th>\n",
              "      <th>Explained by: Log GDP per capita</th>\n",
              "      <th>Explained by: Social support</th>\n",
              "      <th>Explained by: Healthy life expectancy</th>\n",
              "      <th>Explained by: Freedom to make life choices</th>\n",
              "      <th>Explained by: Generosity</th>\n",
              "      <th>Explained by: Perceptions of corruption</th>\n",
              "      <th>Dystopia + residual</th>\n",
              "    </tr>\n",
              "  </thead>\n",
              "  <tbody>\n",
              "    <tr>\n",
              "      <th>0</th>\n",
              "      <td>Finland</td>\n",
              "      <td>Western Europe</td>\n",
              "      <td>7.842</td>\n",
              "      <td>0.032</td>\n",
              "      <td>7.904</td>\n",
              "      <td>7.780</td>\n",
              "      <td>10.775</td>\n",
              "      <td>0.954</td>\n",
              "      <td>72.0</td>\n",
              "      <td>0.949</td>\n",
              "      <td>-0.098</td>\n",
              "      <td>0.186</td>\n",
              "      <td>2.43</td>\n",
              "      <td>1.446</td>\n",
              "      <td>1.106</td>\n",
              "      <td>0.741</td>\n",
              "      <td>0.691</td>\n",
              "      <td>0.124</td>\n",
              "      <td>0.481</td>\n",
              "      <td>3.253</td>\n",
              "    </tr>\n",
              "    <tr>\n",
              "      <th>1</th>\n",
              "      <td>Denmark</td>\n",
              "      <td>Western Europe</td>\n",
              "      <td>7.620</td>\n",
              "      <td>0.035</td>\n",
              "      <td>7.687</td>\n",
              "      <td>7.552</td>\n",
              "      <td>10.933</td>\n",
              "      <td>0.954</td>\n",
              "      <td>72.7</td>\n",
              "      <td>0.946</td>\n",
              "      <td>0.030</td>\n",
              "      <td>0.179</td>\n",
              "      <td>2.43</td>\n",
              "      <td>1.502</td>\n",
              "      <td>1.108</td>\n",
              "      <td>0.763</td>\n",
              "      <td>0.686</td>\n",
              "      <td>0.208</td>\n",
              "      <td>0.485</td>\n",
              "      <td>2.868</td>\n",
              "    </tr>\n",
              "    <tr>\n",
              "      <th>2</th>\n",
              "      <td>Switzerland</td>\n",
              "      <td>Western Europe</td>\n",
              "      <td>7.571</td>\n",
              "      <td>0.036</td>\n",
              "      <td>7.643</td>\n",
              "      <td>7.500</td>\n",
              "      <td>11.117</td>\n",
              "      <td>0.942</td>\n",
              "      <td>74.4</td>\n",
              "      <td>0.919</td>\n",
              "      <td>0.025</td>\n",
              "      <td>0.292</td>\n",
              "      <td>2.43</td>\n",
              "      <td>1.566</td>\n",
              "      <td>1.079</td>\n",
              "      <td>0.816</td>\n",
              "      <td>0.653</td>\n",
              "      <td>0.204</td>\n",
              "      <td>0.413</td>\n",
              "      <td>2.839</td>\n",
              "    </tr>\n",
              "    <tr>\n",
              "      <th>3</th>\n",
              "      <td>Iceland</td>\n",
              "      <td>Western Europe</td>\n",
              "      <td>7.554</td>\n",
              "      <td>0.059</td>\n",
              "      <td>7.670</td>\n",
              "      <td>7.438</td>\n",
              "      <td>10.878</td>\n",
              "      <td>0.983</td>\n",
              "      <td>73.0</td>\n",
              "      <td>0.955</td>\n",
              "      <td>0.160</td>\n",
              "      <td>0.673</td>\n",
              "      <td>2.43</td>\n",
              "      <td>1.482</td>\n",
              "      <td>1.172</td>\n",
              "      <td>0.772</td>\n",
              "      <td>0.698</td>\n",
              "      <td>0.293</td>\n",
              "      <td>0.170</td>\n",
              "      <td>2.967</td>\n",
              "    </tr>\n",
              "    <tr>\n",
              "      <th>4</th>\n",
              "      <td>Netherlands</td>\n",
              "      <td>Western Europe</td>\n",
              "      <td>7.464</td>\n",
              "      <td>0.027</td>\n",
              "      <td>7.518</td>\n",
              "      <td>7.410</td>\n",
              "      <td>10.932</td>\n",
              "      <td>0.942</td>\n",
              "      <td>72.4</td>\n",
              "      <td>0.913</td>\n",
              "      <td>0.175</td>\n",
              "      <td>0.338</td>\n",
              "      <td>2.43</td>\n",
              "      <td>1.501</td>\n",
              "      <td>1.079</td>\n",
              "      <td>0.753</td>\n",
              "      <td>0.647</td>\n",
              "      <td>0.302</td>\n",
              "      <td>0.384</td>\n",
              "      <td>2.798</td>\n",
              "    </tr>\n",
              "  </tbody>\n",
              "</table>\n",
              "</div>"
            ],
            "text/plain": [
              "  Country name  ... Dystopia + residual\n",
              "0      Finland  ...               3.253\n",
              "1      Denmark  ...               2.868\n",
              "2  Switzerland  ...               2.839\n",
              "3      Iceland  ...               2.967\n",
              "4  Netherlands  ...               2.798\n",
              "\n",
              "[5 rows x 20 columns]"
            ]
          },
          "metadata": {
            "tags": []
          },
          "execution_count": 8
        }
      ]
    },
    {
      "cell_type": "markdown",
      "metadata": {
        "id": "djZgeZOMiKPl"
      },
      "source": [
        "## 2.\tAnalizar con un gráfico de caja la esperanza de vida de las personas en el mundo por región, América, Europa…."
      ]
    },
    {
      "cell_type": "code",
      "metadata": {
        "colab": {
          "base_uri": "https://localhost:8080/",
          "height": 780
        },
        "id": "aTs3CwJLiz3H",
        "outputId": "8a6e91be-d179-43d0-f3f3-e4614755d6d9"
      },
      "source": [
        "sns.catplot(x='Regional indicator', y='Healthy life expectancy', data=df, kind='box', height=10, aspect=25/10)"
      ],
      "execution_count": null,
      "outputs": [
        {
          "output_type": "execute_result",
          "data": {
            "text/plain": [
              "<seaborn.axisgrid.FacetGrid at 0x7f0055992110>"
            ]
          },
          "metadata": {
            "tags": []
          },
          "execution_count": 14
        },
        {
          "output_type": "display_data",
          "data": {
            "image/png": "[encoded data removed]",
            "text/plain": [
              "<Figure size 1800x720 with 1 Axes>"
            ]
          },
          "metadata": {
            "tags": [],
            "needs_background": "light"
          }
        }
      ]
    },
    {
      "cell_type": "markdown",
      "metadata": {
        "id": "9HlVs9e6joov"
      },
      "source": [
        "Las regiones de Europa Occidenta, Norteamerica y el Este de Asia, son los sectores donde la espectativa de vida saludable supera los 70 años. Mientras que la region del Sub-Sáhara en África, presenta una espectativa de vida saludable menor de los 60 años. Los demás sectores (Medio este y norte de África, Latinoamerica y el Caribe, el centro y Este de Europa, sureste y sur de asia) presentan una expectativa de vida entre los 60 y 70 años."
      ]
    },
    {
      "cell_type": "markdown",
      "metadata": {
        "id": "s2VSf-xqmEOp"
      },
      "source": [
        "## 3.\t¿Cómo se encuentra Colombia en el puntaje de felicidad respecto a la media mundial?"
      ]
    },
    {
      "cell_type": "code",
      "metadata": {
        "id": "eAHc8_ubjoWp"
      },
      "source": [
        "colombia = df[df['Country name']=='Colombia']"
      ],
      "execution_count": null,
      "outputs": []
    },
    {
      "cell_type": "code",
      "metadata": {
        "colab": {
          "base_uri": "https://localhost:8080/",
          "height": 236
        },
        "id": "gLhscR2inqu6",
        "outputId": "880ee42c-9e6c-4b58-c486-b85929133b52"
      },
      "source": [
        "colombia.head()"
      ],
      "execution_count": null,
      "outputs": [
        {
          "output_type": "execute_result",
          "data": {
            "text/html": [
              "<div>\n",
              "<style scoped>\n",
              "    .dataframe tbody tr th:only-of-type {\n",
              "        vertical-align: middle;\n",
              "    }\n",
              "\n",
              "    .dataframe tbody tr th {\n",
              "        vertical-align: top;\n",
              "    }\n",
              "\n",
              "    .dataframe thead th {\n",
              "        text-align: right;\n",
              "    }\n",
              "</style>\n",
              "<table border=\"1\" class=\"dataframe\">\n",
              "  <thead>\n",
              "    <tr style=\"text-align: right;\">\n",
              "      <th></th>\n",
              "      <th>Country name</th>\n",
              "      <th>Regional indicator</th>\n",
              "      <th>Ladder score</th>\n",
              "      <th>Standard error of ladder score</th>\n",
              "      <th>upperwhisker</th>\n",
              "      <th>lowerwhisker</th>\n",
              "      <th>Logged GDP per capita</th>\n",
              "      <th>Social support</th>\n",
              "      <th>Healthy life expectancy</th>\n",
              "      <th>Freedom to make life choices</th>\n",
              "      <th>Generosity</th>\n",
              "      <th>Perceptions of corruption</th>\n",
              "      <th>Ladder score in Dystopia</th>\n",
              "      <th>Explained by: Log GDP per capita</th>\n",
              "      <th>Explained by: Social support</th>\n",
              "      <th>Explained by: Healthy life expectancy</th>\n",
              "      <th>Explained by: Freedom to make life choices</th>\n",
              "      <th>Explained by: Generosity</th>\n",
              "      <th>Explained by: Perceptions of corruption</th>\n",
              "      <th>Dystopia + residual</th>\n",
              "    </tr>\n",
              "  </thead>\n",
              "  <tbody>\n",
              "    <tr>\n",
              "      <th>51</th>\n",
              "      <td>Colombia</td>\n",
              "      <td>Latin America and Caribbean</td>\n",
              "      <td>6.012</td>\n",
              "      <td>0.061</td>\n",
              "      <td>6.132</td>\n",
              "      <td>5.892</td>\n",
              "      <td>9.557</td>\n",
              "      <td>0.847</td>\n",
              "      <td>68.001</td>\n",
              "      <td>0.837</td>\n",
              "      <td>-0.135</td>\n",
              "      <td>0.841</td>\n",
              "      <td>2.43</td>\n",
              "      <td>1.021</td>\n",
              "      <td>0.866</td>\n",
              "      <td>0.615</td>\n",
              "      <td>0.554</td>\n",
              "      <td>0.1</td>\n",
              "      <td>0.063</td>\n",
              "      <td>2.794</td>\n",
              "    </tr>\n",
              "  </tbody>\n",
              "</table>\n",
              "</div>"
            ],
            "text/plain": [
              "   Country name  ... Dystopia + residual\n",
              "51     Colombia  ...               2.794\n",
              "\n",
              "[1 rows x 20 columns]"
            ]
          },
          "metadata": {
            "tags": []
          },
          "execution_count": 16
        }
      ]
    },
    {
      "cell_type": "code",
      "metadata": {
        "colab": {
          "base_uri": "https://localhost:8080/"
        },
        "id": "g7jiTXuWoDGa",
        "outputId": "7e4f2274-f612-4066-a344-bd714d4130a1"
      },
      "source": [
        "df[df['Ladder score']>6.012]['Ladder score'].count()"
      ],
      "execution_count": null,
      "outputs": [
        {
          "output_type": "execute_result",
          "data": {
            "text/plain": [
              "52"
            ]
          },
          "metadata": {
            "tags": []
          },
          "execution_count": 20
        }
      ]
    },
    {
      "cell_type": "code",
      "metadata": {
        "colab": {
          "base_uri": "https://localhost:8080/"
        },
        "id": "kInBWBcSobdj",
        "outputId": "f4d8113a-7d6d-4539-e126-f740bd740068"
      },
      "source": [
        "df[df['Ladder score']<6.012]['Ladder score'].count()"
      ],
      "execution_count": null,
      "outputs": [
        {
          "output_type": "execute_result",
          "data": {
            "text/plain": [
              "97"
            ]
          },
          "metadata": {
            "tags": []
          },
          "execution_count": 22
        }
      ]
    },
    {
      "cell_type": "code",
      "metadata": {
        "colab": {
          "base_uri": "https://localhost:8080/"
        },
        "id": "jjlczlpLpzsa",
        "outputId": "59f030a0-89eb-45b9-9f00-a063866f4215"
      },
      "source": [
        "df['Ladder score'].mean()"
      ],
      "execution_count": null,
      "outputs": [
        {
          "output_type": "execute_result",
          "data": {
            "text/plain": [
              "5.532838926174494"
            ]
          },
          "metadata": {
            "tags": []
          },
          "execution_count": 23
        }
      ]
    },
    {
      "cell_type": "markdown",
      "metadata": {
        "id": "4aPmwpHloelC"
      },
      "source": [
        "Colombia se encuentra en el puesto N° 52 de la lista, con un Ladder Score de 6.012, superando a 97 países registrados, pero estando por debajo de 51. Podemos afirmar que colombia se encuentra esta por encima de un 50% de los países, pero tiene un raking menor al 25% de los países mas felices. La media de Ladder Score es de 5.532, ubicando a Colombia por encima del mismo. "
      ]
    },
    {
      "cell_type": "markdown",
      "metadata": {
        "id": "25Mvwb6dzYpL"
      },
      "source": [
        "## Gráficas"
      ]
    },
    {
      "cell_type": "markdown",
      "metadata": {
        "id": "oZCnkjHb1h3Y"
      },
      "source": [
        "### Análisis descritivo - exploratorio "
      ]
    },
    {
      "cell_type": "code",
      "metadata": {
        "colab": {
          "base_uri": "https://localhost:8080/",
          "height": 296
        },
        "id": "BYH26EMV0Gsh",
        "outputId": "6bdbdcbd-de26-47ec-cc3f-73b60726da01"
      },
      "source": [
        "plt.plot(df['Healthy life expectancy'])\n",
        "plt.xlabel('Puesto en la lista')\n",
        "plt.ylabel('Expectativa de vida')"
      ],
      "execution_count": 6,
      "outputs": [
        {
          "output_type": "execute_result",
          "data": {
            "text/plain": [
              "Text(0, 0.5, 'Expectativa de vida')"
            ]
          },
          "metadata": {
            "tags": []
          },
          "execution_count": 6
        },
        {
          "output_type": "display_data",
          "data": {
            "image/png": "[encoded data removed]",
            "text/plain": [
              "<Figure size 432x288 with 1 Axes>"
            ]
          },
          "metadata": {
            "tags": [],
            "needs_background": "light"
          }
        }
      ]
    },
    {
      "cell_type": "markdown",
      "metadata": {
        "id": "7VC_dvCj4fjF"
      },
      "source": [
        "Entre mayor sea el puesto que el país ocupa en la lista, menor sera su expectativa de via."
      ]
    },
    {
      "cell_type": "code",
      "metadata": {
        "colab": {
          "base_uri": "https://localhost:8080/",
          "height": 282
        },
        "id": "AQ8bYTjD1B6Z",
        "outputId": "0572a90c-f29a-4d8f-efa1-da8a3a6d93cf"
      },
      "source": [
        "plt.plot(df['Ladder score'])\n",
        "plt.xlabel('Puesto en la lista')\n",
        "plt.ylabel('Nivel de felicidad de 0 a 10')"
      ],
      "execution_count": 5,
      "outputs": [
        {
          "output_type": "execute_result",
          "data": {
            "text/plain": [
              "[<matplotlib.lines.Line2D at 0x7f85386ea810>]"
            ]
          },
          "metadata": {
            "tags": []
          },
          "execution_count": 5
        },
        {
          "output_type": "display_data",
          "data": {
            "image/png": "[encoded data removed]",
            "text/plain": [
              "<Figure size 432x288 with 1 Axes>"
            ]
          },
          "metadata": {
            "tags": [],
            "needs_background": "light"
          }
        }
      ]
    },
    {
      "cell_type": "markdown",
      "metadata": {
        "id": "AKLfcGNl40TA"
      },
      "source": [
        "Entre mayor sea el puesto que el país ocupa en la lista, menor sera su nivel de percepción de felicidad."
      ]
    },
    {
      "cell_type": "markdown",
      "metadata": {
        "id": "exsH_9v05BTo"
      },
      "source": [
        "### Análisis inferencial"
      ]
    },
    {
      "cell_type": "code",
      "metadata": {
        "colab": {
          "base_uri": "https://localhost:8080/",
          "height": 386
        },
        "id": "1TL-AuFP124l",
        "outputId": "8cdad05b-b3ae-47d1-ee7e-88a14e9c8496"
      },
      "source": [
        "sns.displot(df['Ladder score'], kde=True)"
      ],
      "execution_count": 7,
      "outputs": [
        {
          "output_type": "execute_result",
          "data": {
            "text/plain": [
              "<seaborn.axisgrid.FacetGrid at 0x7f8538212f90>"
            ]
          },
          "metadata": {
            "tags": []
          },
          "execution_count": 7
        },
        {
          "output_type": "display_data",
          "data": {
            "image/png": "[encoded data removed]",
            "text/plain": [
              "<Figure size 360x360 with 1 Axes>"
            ]
          },
          "metadata": {
            "tags": [],
            "needs_background": "light"
          }
        }
      ]
    },
    {
      "cell_type": "markdown",
      "metadata": {
        "id": "_6knak9E5FI8"
      },
      "source": [
        "Podemos inferir que el nivel de felicidad tiene una mayor frecuencia en valores de entre [5, 7)"
      ]
    },
    {
      "cell_type": "code",
      "metadata": {
        "colab": {
          "base_uri": "https://localhost:8080/",
          "height": 804
        },
        "id": "weT7EnVZ2wZJ",
        "outputId": "b5ab5a3e-6069-4132-bb8f-bdb8b5df79da"
      },
      "source": [
        "min =  df[df['Ladder score']>=5.001]\n",
        "max = min[min['Ladder score']<7]\n",
        "max.head(10)"
      ],
      "execution_count": 22,
      "outputs": [
        {
          "output_type": "execute_result",
          "data": {
            "text/html": [
              "<div>\n",
              "<style scoped>\n",
              "    .dataframe tbody tr th:only-of-type {\n",
              "        vertical-align: middle;\n",
              "    }\n",
              "\n",
              "    .dataframe tbody tr th {\n",
              "        vertical-align: top;\n",
              "    }\n",
              "\n",
              "    .dataframe thead th {\n",
              "        text-align: right;\n",
              "    }\n",
              "</style>\n",
              "<table border=\"1\" class=\"dataframe\">\n",
              "  <thead>\n",
              "    <tr style=\"text-align: right;\">\n",
              "      <th></th>\n",
              "      <th>Country name</th>\n",
              "      <th>Regional indicator</th>\n",
              "      <th>Ladder score</th>\n",
              "      <th>Standard error of ladder score</th>\n",
              "      <th>upperwhisker</th>\n",
              "      <th>lowerwhisker</th>\n",
              "      <th>Logged GDP per capita</th>\n",
              "      <th>Social support</th>\n",
              "      <th>Healthy life expectancy</th>\n",
              "      <th>Freedom to make life choices</th>\n",
              "      <th>Generosity</th>\n",
              "      <th>Perceptions of corruption</th>\n",
              "      <th>Ladder score in Dystopia</th>\n",
              "      <th>Explained by: Log GDP per capita</th>\n",
              "      <th>Explained by: Social support</th>\n",
              "      <th>Explained by: Healthy life expectancy</th>\n",
              "      <th>Explained by: Freedom to make life choices</th>\n",
              "      <th>Explained by: Generosity</th>\n",
              "      <th>Explained by: Perceptions of corruption</th>\n",
              "      <th>Dystopia + residual</th>\n",
              "    </tr>\n",
              "  </thead>\n",
              "  <tbody>\n",
              "    <tr>\n",
              "      <th>17</th>\n",
              "      <td>Czech Republic</td>\n",
              "      <td>Central and Eastern Europe</td>\n",
              "      <td>6.965</td>\n",
              "      <td>0.049</td>\n",
              "      <td>7.062</td>\n",
              "      <td>6.868</td>\n",
              "      <td>10.556</td>\n",
              "      <td>0.947</td>\n",
              "      <td>70.807</td>\n",
              "      <td>0.858</td>\n",
              "      <td>-0.208</td>\n",
              "      <td>0.868</td>\n",
              "      <td>2.43</td>\n",
              "      <td>1.370</td>\n",
              "      <td>1.090</td>\n",
              "      <td>0.703</td>\n",
              "      <td>0.580</td>\n",
              "      <td>0.052</td>\n",
              "      <td>0.046</td>\n",
              "      <td>3.124</td>\n",
              "    </tr>\n",
              "    <tr>\n",
              "      <th>18</th>\n",
              "      <td>United States</td>\n",
              "      <td>North America and ANZ</td>\n",
              "      <td>6.951</td>\n",
              "      <td>0.049</td>\n",
              "      <td>7.047</td>\n",
              "      <td>6.856</td>\n",
              "      <td>11.023</td>\n",
              "      <td>0.920</td>\n",
              "      <td>68.200</td>\n",
              "      <td>0.837</td>\n",
              "      <td>0.098</td>\n",
              "      <td>0.698</td>\n",
              "      <td>2.43</td>\n",
              "      <td>1.533</td>\n",
              "      <td>1.030</td>\n",
              "      <td>0.621</td>\n",
              "      <td>0.554</td>\n",
              "      <td>0.252</td>\n",
              "      <td>0.154</td>\n",
              "      <td>2.807</td>\n",
              "    </tr>\n",
              "    <tr>\n",
              "      <th>19</th>\n",
              "      <td>Belgium</td>\n",
              "      <td>Western Europe</td>\n",
              "      <td>6.834</td>\n",
              "      <td>0.034</td>\n",
              "      <td>6.901</td>\n",
              "      <td>6.767</td>\n",
              "      <td>10.823</td>\n",
              "      <td>0.906</td>\n",
              "      <td>72.199</td>\n",
              "      <td>0.783</td>\n",
              "      <td>-0.153</td>\n",
              "      <td>0.646</td>\n",
              "      <td>2.43</td>\n",
              "      <td>1.463</td>\n",
              "      <td>0.998</td>\n",
              "      <td>0.747</td>\n",
              "      <td>0.489</td>\n",
              "      <td>0.088</td>\n",
              "      <td>0.187</td>\n",
              "      <td>2.862</td>\n",
              "    </tr>\n",
              "    <tr>\n",
              "      <th>20</th>\n",
              "      <td>France</td>\n",
              "      <td>Western Europe</td>\n",
              "      <td>6.690</td>\n",
              "      <td>0.037</td>\n",
              "      <td>6.762</td>\n",
              "      <td>6.618</td>\n",
              "      <td>10.704</td>\n",
              "      <td>0.942</td>\n",
              "      <td>74.000</td>\n",
              "      <td>0.822</td>\n",
              "      <td>-0.147</td>\n",
              "      <td>0.571</td>\n",
              "      <td>2.43</td>\n",
              "      <td>1.421</td>\n",
              "      <td>1.081</td>\n",
              "      <td>0.804</td>\n",
              "      <td>0.536</td>\n",
              "      <td>0.092</td>\n",
              "      <td>0.235</td>\n",
              "      <td>2.521</td>\n",
              "    </tr>\n",
              "    <tr>\n",
              "      <th>21</th>\n",
              "      <td>Bahrain</td>\n",
              "      <td>Middle East and North Africa</td>\n",
              "      <td>6.647</td>\n",
              "      <td>0.068</td>\n",
              "      <td>6.779</td>\n",
              "      <td>6.514</td>\n",
              "      <td>10.669</td>\n",
              "      <td>0.862</td>\n",
              "      <td>69.495</td>\n",
              "      <td>0.925</td>\n",
              "      <td>0.089</td>\n",
              "      <td>0.722</td>\n",
              "      <td>2.43</td>\n",
              "      <td>1.409</td>\n",
              "      <td>0.899</td>\n",
              "      <td>0.662</td>\n",
              "      <td>0.661</td>\n",
              "      <td>0.246</td>\n",
              "      <td>0.139</td>\n",
              "      <td>2.631</td>\n",
              "    </tr>\n",
              "    <tr>\n",
              "      <th>22</th>\n",
              "      <td>Malta</td>\n",
              "      <td>Western Europe</td>\n",
              "      <td>6.602</td>\n",
              "      <td>0.044</td>\n",
              "      <td>6.688</td>\n",
              "      <td>6.516</td>\n",
              "      <td>10.674</td>\n",
              "      <td>0.931</td>\n",
              "      <td>72.200</td>\n",
              "      <td>0.927</td>\n",
              "      <td>0.133</td>\n",
              "      <td>0.653</td>\n",
              "      <td>2.43</td>\n",
              "      <td>1.411</td>\n",
              "      <td>1.055</td>\n",
              "      <td>0.747</td>\n",
              "      <td>0.664</td>\n",
              "      <td>0.275</td>\n",
              "      <td>0.183</td>\n",
              "      <td>2.268</td>\n",
              "    </tr>\n",
              "    <tr>\n",
              "      <th>23</th>\n",
              "      <td>Taiwan Province of China</td>\n",
              "      <td>East Asia</td>\n",
              "      <td>6.584</td>\n",
              "      <td>0.038</td>\n",
              "      <td>6.659</td>\n",
              "      <td>6.510</td>\n",
              "      <td>10.871</td>\n",
              "      <td>0.898</td>\n",
              "      <td>69.600</td>\n",
              "      <td>0.784</td>\n",
              "      <td>-0.070</td>\n",
              "      <td>0.721</td>\n",
              "      <td>2.43</td>\n",
              "      <td>1.480</td>\n",
              "      <td>0.982</td>\n",
              "      <td>0.665</td>\n",
              "      <td>0.490</td>\n",
              "      <td>0.142</td>\n",
              "      <td>0.139</td>\n",
              "      <td>2.687</td>\n",
              "    </tr>\n",
              "    <tr>\n",
              "      <th>24</th>\n",
              "      <td>United Arab Emirates</td>\n",
              "      <td>Middle East and North Africa</td>\n",
              "      <td>6.561</td>\n",
              "      <td>0.039</td>\n",
              "      <td>6.637</td>\n",
              "      <td>6.484</td>\n",
              "      <td>11.085</td>\n",
              "      <td>0.844</td>\n",
              "      <td>67.333</td>\n",
              "      <td>0.932</td>\n",
              "      <td>0.074</td>\n",
              "      <td>0.589</td>\n",
              "      <td>2.43</td>\n",
              "      <td>1.555</td>\n",
              "      <td>0.860</td>\n",
              "      <td>0.594</td>\n",
              "      <td>0.670</td>\n",
              "      <td>0.236</td>\n",
              "      <td>0.223</td>\n",
              "      <td>2.422</td>\n",
              "    </tr>\n",
              "    <tr>\n",
              "      <th>25</th>\n",
              "      <td>Saudi Arabia</td>\n",
              "      <td>Middle East and North Africa</td>\n",
              "      <td>6.494</td>\n",
              "      <td>0.056</td>\n",
              "      <td>6.604</td>\n",
              "      <td>6.384</td>\n",
              "      <td>10.743</td>\n",
              "      <td>0.891</td>\n",
              "      <td>66.603</td>\n",
              "      <td>0.877</td>\n",
              "      <td>-0.149</td>\n",
              "      <td>0.684</td>\n",
              "      <td>2.43</td>\n",
              "      <td>1.435</td>\n",
              "      <td>0.964</td>\n",
              "      <td>0.571</td>\n",
              "      <td>0.603</td>\n",
              "      <td>0.090</td>\n",
              "      <td>0.163</td>\n",
              "      <td>2.668</td>\n",
              "    </tr>\n",
              "    <tr>\n",
              "      <th>26</th>\n",
              "      <td>Spain</td>\n",
              "      <td>Western Europe</td>\n",
              "      <td>6.491</td>\n",
              "      <td>0.042</td>\n",
              "      <td>6.574</td>\n",
              "      <td>6.408</td>\n",
              "      <td>10.571</td>\n",
              "      <td>0.932</td>\n",
              "      <td>74.700</td>\n",
              "      <td>0.761</td>\n",
              "      <td>-0.081</td>\n",
              "      <td>0.745</td>\n",
              "      <td>2.43</td>\n",
              "      <td>1.375</td>\n",
              "      <td>1.057</td>\n",
              "      <td>0.826</td>\n",
              "      <td>0.462</td>\n",
              "      <td>0.135</td>\n",
              "      <td>0.124</td>\n",
              "      <td>2.513</td>\n",
              "    </tr>\n",
              "  </tbody>\n",
              "</table>\n",
              "</div>"
            ],
            "text/plain": [
              "                Country name  ... Dystopia + residual\n",
              "17            Czech Republic  ...               3.124\n",
              "18             United States  ...               2.807\n",
              "19                   Belgium  ...               2.862\n",
              "20                    France  ...               2.521\n",
              "21                   Bahrain  ...               2.631\n",
              "22                     Malta  ...               2.268\n",
              "23  Taiwan Province of China  ...               2.687\n",
              "24      United Arab Emirates  ...               2.422\n",
              "25              Saudi Arabia  ...               2.668\n",
              "26                     Spain  ...               2.513\n",
              "\n",
              "[10 rows x 20 columns]"
            ]
          },
          "metadata": {
            "tags": []
          },
          "execution_count": 22
        }
      ]
    },
    {
      "cell_type": "markdown",
      "metadata": {
        "id": "SAvv1qBL5iw3"
      },
      "source": [
        "Los anteriores son los 10 países que prensentan una mayor percepción de felicidad dentro del rango de [5, 7)"
      ]
    },
    {
      "cell_type": "code",
      "metadata": {
        "id": "jvP98SXI1tkL"
      },
      "source": [
        "sns.pairplot(df, hue='Ladder score', size=4, vars=['Logged GDP per capita', 'Healthy life expectancy'], kind='scatter')"
      ],
      "execution_count": null,
      "outputs": []
    },
    {
      "cell_type": "markdown",
      "metadata": {
        "id": "hgTCmSLS6lwD"
      },
      "source": [
        "![image.png](data:image/png;base64,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)"
      ]
    },
    {
      "cell_type": "markdown",
      "metadata": {
        "id": "XwhQ37nW6raf"
      },
      "source": [
        "En la gráfica anterior analizamos la expectativa de vida, economía per-capita, y la influencia que ejercen sobre el nivel de felicidad"
      ]
    },
    {
      "cell_type": "markdown",
      "metadata": {
        "id": "fu7NU0TKqpDU"
      },
      "source": [
        "# Punto 2"
      ]
    },
    {
      "cell_type": "markdown",
      "metadata": {
        "id": "A5LYNxJCqtHp"
      },
      "source": [
        "La ventanilla de un banco realiza las transacciones en un tiempo medio de 2 minutos. los clientes llegan con una tasa media de 20 clientes a la hora. Si se supone que las llegadas siguen un proceso de Poisson y el tiempo de servicio es exponencial, determina:"
      ]
    },
    {
      "cell_type": "markdown",
      "metadata": {
        "id": "l2VyVZxoqwMZ"
      },
      "source": [
        "1. El porcentaje de tiempo en el que el cajero está desocupado. \n",
        "2. El tiempo medio de estancia de los clientes en la cola. \n",
        "3. La fracción de clientes que deben esperar en la cola.\n"
      ]
    },
    {
      "cell_type": "markdown",
      "metadata": {
        "id": "PGwrqkTvq76X"
      },
      "source": [
        "$\\lambda$ = Velocidad de llegada de clientes al sistema (clientes-tiempo)  \n",
        "$\\mu$ = Velocidad de atención (clientes-tiempo)   \n",
        "\n",
        "- $\\lambda$ = 20 clientes/hora\n",
        "- $\\mu$ = 30 transacciones/hora"
      ]
    },
    {
      "cell_type": "code",
      "metadata": {
        "id": "PPpti8_Gs1Fd"
      },
      "source": [
        "lam = 20\n",
        "mu = 30"
      ],
      "execution_count": null,
      "outputs": []
    },
    {
      "cell_type": "markdown",
      "metadata": {
        "id": "OvYF71cGrUT_"
      },
      "source": [
        "## Punto 1: % tiempo de cajero desocupado:"
      ]
    },
    {
      "cell_type": "markdown",
      "metadata": {
        "id": "2rNBVGdPsmuB"
      },
      "source": [
        "$$ P = \\frac{\\lambda}{\\mu} < 1 $$  \n",
        "\n",
        "$$ Po = 1 - P $$"
      ]
    },
    {
      "cell_type": "code",
      "metadata": {
        "colab": {
          "base_uri": "https://localhost:8080/"
        },
        "id": "iQe2oJ9lrZTB",
        "outputId": "514a2f30-224b-46a5-d60b-7913e6e3432a"
      },
      "source": [
        "P = lam / mu\n",
        "Po = 1 - P\n",
        "Po"
      ],
      "execution_count": null,
      "outputs": [
        {
          "output_type": "execute_result",
          "data": {
            "text/plain": [
              "0.33333333333333337"
            ]
          },
          "metadata": {
            "tags": []
          },
          "execution_count": 26
        }
      ]
    },
    {
      "cell_type": "markdown",
      "metadata": {
        "id": "ZsKdSVpPs_o9"
      },
      "source": [
        "La probabilidad de que el cajero este desocupado es de un 33.3%"
      ]
    },
    {
      "cell_type": "markdown",
      "metadata": {
        "id": "rTu-Qw84tHCx"
      },
      "source": [
        "## Punto 2. Tiempo medio de estancia de los clientes en la cola"
      ]
    },
    {
      "cell_type": "markdown",
      "metadata": {
        "id": "CVp2SiQktTTo"
      },
      "source": [
        "$$ L_{q} = \\frac{\\lambda^{2}}{\\mu(\\mu -\\lambda)} $$\n",
        "\n",
        "$$ Wq = \\frac{L_{q}}{\\lambda} $$"
      ]
    },
    {
      "cell_type": "code",
      "metadata": {
        "colab": {
          "base_uri": "https://localhost:8080/"
        },
        "id": "5zGuXLL4tN5U",
        "outputId": "ae1b508b-9f04-4278-f86b-cb749070ed92"
      },
      "source": [
        "Lq = lam**2 / (mu * (mu-lam))\n",
        "Wq = Lq / lam\n",
        "Wq"
      ],
      "execution_count": null,
      "outputs": [
        {
          "output_type": "execute_result",
          "data": {
            "text/plain": [
              "0.06666666666666667"
            ]
          },
          "metadata": {
            "tags": []
          },
          "execution_count": 28
        }
      ]
    },
    {
      "cell_type": "markdown",
      "metadata": {
        "id": "_mYCL5s2u5-b"
      },
      "source": [
        "La probabilidad de que un cliente este en la cola es del 6.6%, lo cual representa 1/15 de hora, o 4 minutos."
      ]
    },
    {
      "cell_type": "markdown",
      "metadata": {
        "id": "_wK1Xy_eu_j9"
      },
      "source": [
        "## Punto 3: fracción de clientes que deben esperar en la cola"
      ]
    },
    {
      "cell_type": "markdown",
      "metadata": {
        "id": "4TQkaW1_xMhx"
      },
      "source": [
        "$$ W = W_{q} + \\frac{1}{\\mu} $$\n",
        "\n",
        "$$ L = \\lambda W$$"
      ]
    },
    {
      "cell_type": "code",
      "metadata": {
        "colab": {
          "base_uri": "https://localhost:8080/"
        },
        "id": "XD4rZWIVxSto",
        "outputId": "6a73f207-54f0-491c-913c-e3bb1810a247"
      },
      "source": [
        "W = Wq + (1/mu)\n",
        "L = lam * W\n",
        "fracc = Lq / L\n",
        "fracc"
      ],
      "execution_count": null,
      "outputs": [
        {
          "output_type": "execute_result",
          "data": {
            "text/plain": [
              "0.6666666666666666"
            ]
          },
          "metadata": {
            "tags": []
          },
          "execution_count": 30
        }
      ]
    },
    {
      "cell_type": "markdown",
      "metadata": {
        "id": "iG7frP_7xmWh"
      },
      "source": [
        "$\\frac{2}{3}$ o el 66.6% de los clientes debe esperar en la cola."
      ]
    }
  ]
}