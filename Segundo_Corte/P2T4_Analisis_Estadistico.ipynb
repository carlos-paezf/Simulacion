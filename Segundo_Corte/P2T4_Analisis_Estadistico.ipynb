{
  "nbformat": 4,
  "nbformat_minor": 0,
  "metadata": {
    "colab": {
      "name": "P2T4_Analisis_Estadistico.ipynb",
      "provenance": [],
      "collapsed_sections": [
        "PRC6Yj7TJho0",
        "woYNK83ZLzFI",
        "CvZHXuooL7ts",
        "rrmF-O50MICd",
        "ax8W3y4fMiJJ",
        "DbUxTqArJ3fB"
      ]
    },
    "kernelspec": {
      "name": "python3",
      "display_name": "Python 3"
    },
    "language_info": {
      "name": "python"
    }
  },
  "cells": [
    {
      "cell_type": "markdown",
      "metadata": {
        "id": "l9JVRTB2JMMo"
      },
      "source": [
        "# Taller Simulación, Análisis Estadístico"
      ]
    },
    {
      "cell_type": "code",
      "metadata": {
        "id": "Wf8fYbwiKF4h"
      },
      "source": [
        "import numpy as np\n",
        "import pandas as pd\n",
        "import matplotlib.pyplot as plt\n",
        "import seaborn as sb\n",
        "%matplotlib inline"
      ],
      "execution_count": 2,
      "outputs": []
    },
    {
      "cell_type": "markdown",
      "metadata": {
        "id": "xTAqcxewJMJe"
      },
      "source": [
        "## 1. Comprender diversas situaciones haciendo uso de análisis estadístico"
      ]
    },
    {
      "cell_type": "markdown",
      "metadata": {
        "id": "VFYZdxyuJosZ"
      },
      "source": [
        "Tener en cuenta: \n",
        "\n",
        "- Diagrama de Cajas\n",
        "- Tendencia central\n",
        "- Varianza de los datos\n",
        "- Desviación de los datos"
      ]
    },
    {
      "cell_type": "markdown",
      "metadata": {
        "id": "PRC6Yj7TJho0"
      },
      "source": [
        "### Dataset Titanic"
      ]
    },
    {
      "cell_type": "code",
      "metadata": {
        "id": "sdcFGMXzI8-e"
      },
      "source": [
        "titanic = sb.load_dataset('titanic')"
      ],
      "execution_count": null,
      "outputs": []
    },
    {
      "cell_type": "markdown",
      "metadata": {
        "id": "woYNK83ZLzFI"
      },
      "source": [
        "#### Información acerca de los datos"
      ]
    },
    {
      "cell_type": "code",
      "metadata": {
        "colab": {
          "base_uri": "https://localhost:8080/"
        },
        "id": "p_AWOjTKK8yc",
        "outputId": "625bae6a-ce9e-4ed0-eb49-e3f6b06c349a"
      },
      "source": [
        "titanic.describe()"
      ],
      "execution_count": null,
      "outputs": [
        {
          "output_type": "execute_result",
          "data": {
            "text/html": [
              "<div>\n",
              "<style scoped>\n",
              "    .dataframe tbody tr th:only-of-type {\n",
              "        vertical-align: middle;\n",
              "    }\n",
              "\n",
              "    .dataframe tbody tr th {\n",
              "        vertical-align: top;\n",
              "    }\n",
              "\n",
              "    .dataframe thead th {\n",
              "        text-align: right;\n",
              "    }\n",
              "</style>\n",
              "<table border=\"1\" class=\"dataframe\">\n",
              "  <thead>\n",
              "    <tr style=\"text-align: right;\">\n",
              "      <th></th>\n",
              "      <th>survived</th>\n",
              "      <th>pclass</th>\n",
              "      <th>age</th>\n",
              "      <th>sibsp</th>\n",
              "      <th>parch</th>\n",
              "      <th>fare</th>\n",
              "    </tr>\n",
              "  </thead>\n",
              "  <tbody>\n",
              "    <tr>\n",
              "      <th>count</th>\n",
              "      <td>891.000000</td>\n",
              "      <td>891.000000</td>\n",
              "      <td>714.000000</td>\n",
              "      <td>891.000000</td>\n",
              "      <td>891.000000</td>\n",
              "      <td>891.000000</td>\n",
              "    </tr>\n",
              "    <tr>\n",
              "      <th>mean</th>\n",
              "      <td>0.383838</td>\n",
              "      <td>2.308642</td>\n",
              "      <td>29.699118</td>\n",
              "      <td>0.523008</td>\n",
              "      <td>0.381594</td>\n",
              "      <td>32.204208</td>\n",
              "    </tr>\n",
              "    <tr>\n",
              "      <th>std</th>\n",
              "      <td>0.486592</td>\n",
              "      <td>0.836071</td>\n",
              "      <td>14.526497</td>\n",
              "      <td>1.102743</td>\n",
              "      <td>0.806057</td>\n",
              "      <td>49.693429</td>\n",
              "    </tr>\n",
              "    <tr>\n",
              "      <th>min</th>\n",
              "      <td>0.000000</td>\n",
              "      <td>1.000000</td>\n",
              "      <td>0.420000</td>\n",
              "      <td>0.000000</td>\n",
              "      <td>0.000000</td>\n",
              "      <td>0.000000</td>\n",
              "    </tr>\n",
              "    <tr>\n",
              "      <th>25%</th>\n",
              "      <td>0.000000</td>\n",
              "      <td>2.000000</td>\n",
              "      <td>20.125000</td>\n",
              "      <td>0.000000</td>\n",
              "      <td>0.000000</td>\n",
              "      <td>7.910400</td>\n",
              "    </tr>\n",
              "    <tr>\n",
              "      <th>50%</th>\n",
              "      <td>0.000000</td>\n",
              "      <td>3.000000</td>\n",
              "      <td>28.000000</td>\n",
              "      <td>0.000000</td>\n",
              "      <td>0.000000</td>\n",
              "      <td>14.454200</td>\n",
              "    </tr>\n",
              "    <tr>\n",
              "      <th>75%</th>\n",
              "      <td>1.000000</td>\n",
              "      <td>3.000000</td>\n",
              "      <td>38.000000</td>\n",
              "      <td>1.000000</td>\n",
              "      <td>0.000000</td>\n",
              "      <td>31.000000</td>\n",
              "    </tr>\n",
              "    <tr>\n",
              "      <th>max</th>\n",
              "      <td>1.000000</td>\n",
              "      <td>3.000000</td>\n",
              "      <td>80.000000</td>\n",
              "      <td>8.000000</td>\n",
              "      <td>6.000000</td>\n",
              "      <td>512.329200</td>\n",
              "    </tr>\n",
              "  </tbody>\n",
              "</table>\n",
              "</div>"
            ],
            "text/plain": [
              "         survived      pclass         age       sibsp       parch        fare\n",
              "count  891.000000  891.000000  714.000000  891.000000  891.000000  891.000000\n",
              "mean     0.383838    2.308642   29.699118    0.523008    0.381594   32.204208\n",
              "std      0.486592    0.836071   14.526497    1.102743    0.806057   49.693429\n",
              "min      0.000000    1.000000    0.420000    0.000000    0.000000    0.000000\n",
              "25%      0.000000    2.000000   20.125000    0.000000    0.000000    7.910400\n",
              "50%      0.000000    3.000000   28.000000    0.000000    0.000000   14.454200\n",
              "75%      1.000000    3.000000   38.000000    1.000000    0.000000   31.000000\n",
              "max      1.000000    3.000000   80.000000    8.000000    6.000000  512.329200"
            ]
          },
          "metadata": {
            "tags": []
          },
          "execution_count": 96
        }
      ]
    },
    {
      "cell_type": "code",
      "metadata": {
        "colab": {
          "base_uri": "https://localhost:8080/"
        },
        "id": "rQAvJt6ALDiO",
        "outputId": "fa5ee322-b6a6-4fd6-8078-b39eff922adc"
      },
      "source": [
        "sb.heatmap(titanic.isnull(), cbar=False, cmap='viridis')"
      ],
      "execution_count": null,
      "outputs": [
        {
          "output_type": "execute_result",
          "data": {
            "text/plain": [
              "<matplotlib.axes._subplots.AxesSubplot at 0x7fd62898f490>"
            ]
          },
          "metadata": {
            "tags": []
          },
          "execution_count": 97
        },
        {
          "output_type": "display_data",
          "data": {
            "image/png": "[encoded data removed]",
            "text/plain": [
              "<Figure size 842.4x595.44 with 1 Axes>"
            ]
          },
          "metadata": {
            "tags": []
          }
        }
      ]
    },
    {
      "cell_type": "markdown",
      "metadata": {
        "id": "CvZHXuooL7ts"
      },
      "source": [
        "#### Manipulación de columnas (datos nulos e información no importante)"
      ]
    },
    {
      "cell_type": "code",
      "metadata": {
        "id": "QXXOLhabLVj-"
      },
      "source": [
        "def impute_age(cols):\n",
        "  age = cols[0]\n",
        "  pclass = cols[1]\n",
        "\n",
        "  if pd.isnull(age):\n",
        "    if pclass == 1:\n",
        "      return titanic[titanic['pclass']==1]['age'].mean()\n",
        "    elif pclass == 2:\n",
        "      return titanic[titanic['pclass']==2]['age'].mean()\n",
        "    elif pclass == 3:\n",
        "      return titanic[titanic['pclass']==3]['age'].mean()\n",
        "  else:\n",
        "    return age"
      ],
      "execution_count": null,
      "outputs": []
    },
    {
      "cell_type": "code",
      "metadata": {
        "id": "kMGllazpLZC9"
      },
      "source": [
        "titanic['age'] = titanic[['age', 'pclass']].apply(impute_age, axis=1)"
      ],
      "execution_count": null,
      "outputs": []
    },
    {
      "cell_type": "code",
      "metadata": {
        "colab": {
          "base_uri": "https://localhost:8080/"
        },
        "id": "vD_HFao8LZ_3",
        "outputId": "219e198b-84ed-4400-ce3e-823223b7f162"
      },
      "source": [
        "titanic['embarked'].isnull().sum()"
      ],
      "execution_count": null,
      "outputs": [
        {
          "output_type": "execute_result",
          "data": {
            "text/plain": [
              "2"
            ]
          },
          "metadata": {
            "tags": []
          },
          "execution_count": 100
        }
      ]
    },
    {
      "cell_type": "code",
      "metadata": {
        "colab": {
          "base_uri": "https://localhost:8080/"
        },
        "id": "DoXT1NeULjZv",
        "outputId": "68485ca3-ad4a-4f90-e63f-4486d96b41c2"
      },
      "source": [
        "titanic['embark_town'].value_counts()"
      ],
      "execution_count": null,
      "outputs": [
        {
          "output_type": "execute_result",
          "data": {
            "text/plain": [
              "Southampton    644\n",
              "Cherbourg      168\n",
              "Queenstown      77\n",
              "Name: embark_town, dtype: int64"
            ]
          },
          "metadata": {
            "tags": []
          },
          "execution_count": 101
        }
      ]
    },
    {
      "cell_type": "code",
      "metadata": {
        "id": "rF5VSgR5Llbe"
      },
      "source": [
        "common_value = 'S'\n",
        "titanic['embarked'].fillna(common_value, inplace=True)"
      ],
      "execution_count": null,
      "outputs": []
    },
    {
      "cell_type": "code",
      "metadata": {
        "id": "zvs47feRLoHx"
      },
      "source": [
        "titanic.drop(labels=['deck', 'embark_town', 'alive', 'class'], inplace=True, axis=1)"
      ],
      "execution_count": null,
      "outputs": []
    },
    {
      "cell_type": "code",
      "metadata": {
        "colab": {
          "base_uri": "https://localhost:8080/"
        },
        "id": "9TIHRUgMLunG",
        "outputId": "a5ce8fe7-ae26-400a-bdb2-0e07dcd09fcc"
      },
      "source": [
        "sb.heatmap(titanic.isnull(), cbar=False, cmap='viridis')\n",
        "plt.title('Number of pepople with respect their features')"
      ],
      "execution_count": null,
      "outputs": [
        {
          "output_type": "execute_result",
          "data": {
            "text/plain": [
              "Text(0.5, 1.0, 'Number of pepople with respect their features')"
            ]
          },
          "metadata": {
            "tags": []
          },
          "execution_count": 104
        },
        {
          "output_type": "display_data",
          "data": {
            "image/png": "[encoded data removed]",
            "text/plain": [
              "<Figure size 842.4x595.44 with 1 Axes>"
            ]
          },
          "metadata": {
            "tags": []
          }
        }
      ]
    },
    {
      "cell_type": "markdown",
      "metadata": {
        "id": "rrmF-O50MICd"
      },
      "source": [
        "#### Info corregida"
      ]
    },
    {
      "cell_type": "code",
      "metadata": {
        "colab": {
          "base_uri": "https://localhost:8080/"
        },
        "id": "Uq53-mN4MPCx",
        "outputId": "1e3bfe41-ed95-42cc-9770-b9a735312595"
      },
      "source": [
        "titanic.info()"
      ],
      "execution_count": null,
      "outputs": [
        {
          "output_type": "stream",
          "text": [
            "<class 'pandas.core.frame.DataFrame'>\n",
            "RangeIndex: 891 entries, 0 to 890\n",
            "Data columns (total 11 columns):\n",
            " #   Column      Non-Null Count  Dtype  \n",
            "---  ------      --------------  -----  \n",
            " 0   survived    891 non-null    int64  \n",
            " 1   pclass      891 non-null    int64  \n",
            " 2   sex         891 non-null    object \n",
            " 3   age         891 non-null    float64\n",
            " 4   sibsp       891 non-null    int64  \n",
            " 5   parch       891 non-null    int64  \n",
            " 6   fare        891 non-null    float64\n",
            " 7   embarked    891 non-null    object \n",
            " 8   who         891 non-null    object \n",
            " 9   adult_male  891 non-null    bool   \n",
            " 10  alone       891 non-null    bool   \n",
            "dtypes: bool(2), float64(2), int64(4), object(3)\n",
            "memory usage: 64.5+ KB\n"
          ],
          "name": "stdout"
        }
      ]
    },
    {
      "cell_type": "code",
      "metadata": {
        "colab": {
          "base_uri": "https://localhost:8080/"
        },
        "id": "te9FWE5FMUum",
        "outputId": "03f034bb-668d-4873-be6d-8d4c08aecc24"
      },
      "source": [
        "titanic.head()"
      ],
      "execution_count": null,
      "outputs": [
        {
          "output_type": "execute_result",
          "data": {
            "text/html": [
              "<div>\n",
              "<style scoped>\n",
              "    .dataframe tbody tr th:only-of-type {\n",
              "        vertical-align: middle;\n",
              "    }\n",
              "\n",
              "    .dataframe tbody tr th {\n",
              "        vertical-align: top;\n",
              "    }\n",
              "\n",
              "    .dataframe thead th {\n",
              "        text-align: right;\n",
              "    }\n",
              "</style>\n",
              "<table border=\"1\" class=\"dataframe\">\n",
              "  <thead>\n",
              "    <tr style=\"text-align: right;\">\n",
              "      <th></th>\n",
              "      <th>survived</th>\n",
              "      <th>pclass</th>\n",
              "      <th>sex</th>\n",
              "      <th>age</th>\n",
              "      <th>sibsp</th>\n",
              "      <th>parch</th>\n",
              "      <th>fare</th>\n",
              "      <th>embarked</th>\n",
              "      <th>who</th>\n",
              "      <th>adult_male</th>\n",
              "      <th>alone</th>\n",
              "    </tr>\n",
              "  </thead>\n",
              "  <tbody>\n",
              "    <tr>\n",
              "      <th>0</th>\n",
              "      <td>0</td>\n",
              "      <td>3</td>\n",
              "      <td>male</td>\n",
              "      <td>22.0</td>\n",
              "      <td>1</td>\n",
              "      <td>0</td>\n",
              "      <td>7.2500</td>\n",
              "      <td>S</td>\n",
              "      <td>man</td>\n",
              "      <td>True</td>\n",
              "      <td>False</td>\n",
              "    </tr>\n",
              "    <tr>\n",
              "      <th>1</th>\n",
              "      <td>1</td>\n",
              "      <td>1</td>\n",
              "      <td>female</td>\n",
              "      <td>38.0</td>\n",
              "      <td>1</td>\n",
              "      <td>0</td>\n",
              "      <td>71.2833</td>\n",
              "      <td>C</td>\n",
              "      <td>woman</td>\n",
              "      <td>False</td>\n",
              "      <td>False</td>\n",
              "    </tr>\n",
              "    <tr>\n",
              "      <th>2</th>\n",
              "      <td>1</td>\n",
              "      <td>3</td>\n",
              "      <td>female</td>\n",
              "      <td>26.0</td>\n",
              "      <td>0</td>\n",
              "      <td>0</td>\n",
              "      <td>7.9250</td>\n",
              "      <td>S</td>\n",
              "      <td>woman</td>\n",
              "      <td>False</td>\n",
              "      <td>True</td>\n",
              "    </tr>\n",
              "    <tr>\n",
              "      <th>3</th>\n",
              "      <td>1</td>\n",
              "      <td>1</td>\n",
              "      <td>female</td>\n",
              "      <td>35.0</td>\n",
              "      <td>1</td>\n",
              "      <td>0</td>\n",
              "      <td>53.1000</td>\n",
              "      <td>S</td>\n",
              "      <td>woman</td>\n",
              "      <td>False</td>\n",
              "      <td>False</td>\n",
              "    </tr>\n",
              "    <tr>\n",
              "      <th>4</th>\n",
              "      <td>0</td>\n",
              "      <td>3</td>\n",
              "      <td>male</td>\n",
              "      <td>35.0</td>\n",
              "      <td>0</td>\n",
              "      <td>0</td>\n",
              "      <td>8.0500</td>\n",
              "      <td>S</td>\n",
              "      <td>man</td>\n",
              "      <td>True</td>\n",
              "      <td>True</td>\n",
              "    </tr>\n",
              "  </tbody>\n",
              "</table>\n",
              "</div>"
            ],
            "text/plain": [
              "   survived  pclass     sex   age  ...  embarked    who  adult_male  alone\n",
              "0         0       3    male  22.0  ...         S    man        True  False\n",
              "1         1       1  female  38.0  ...         C  woman       False  False\n",
              "2         1       3  female  26.0  ...         S  woman       False   True\n",
              "3         1       1  female  35.0  ...         S  woman       False  False\n",
              "4         0       3    male  35.0  ...         S    man        True   True\n",
              "\n",
              "[5 rows x 11 columns]"
            ]
          },
          "metadata": {
            "tags": []
          },
          "execution_count": 106
        }
      ]
    },
    {
      "cell_type": "markdown",
      "metadata": {
        "id": "ax8W3y4fMiJJ"
      },
      "source": [
        "#### Nomalización de los datos"
      ]
    },
    {
      "cell_type": "code",
      "metadata": {
        "id": "koPwEB1GMmmN"
      },
      "source": [
        "from sklearn.preprocessing import LabelEncoder\n",
        "label_encoder = LabelEncoder()\n",
        "captura_caracteristicas = [x for x in titanic.columns if titanic[x].dtype=='object']\n",
        "\n",
        "for col in captura_caracteristicas:\n",
        "  if col in titanic.columns:\n",
        "    i = titanic.columns.get_loc(col)\n",
        "    titanic.iloc[: , i] = titanic.apply(lambda i:label_encoder.fit_transform(i.astype(str)), axis=0, result_type='expand')"
      ],
      "execution_count": null,
      "outputs": []
    },
    {
      "cell_type": "code",
      "metadata": {
        "colab": {
          "base_uri": "https://localhost:8080/"
        },
        "id": "oA4JnBvsNy99",
        "outputId": "8634f43a-c1db-4f4f-b9c8-403d03c3eff0"
      },
      "source": [
        "titanic.info()"
      ],
      "execution_count": null,
      "outputs": [
        {
          "output_type": "stream",
          "text": [
            "<class 'pandas.core.frame.DataFrame'>\n",
            "RangeIndex: 891 entries, 0 to 890\n",
            "Data columns (total 11 columns):\n",
            " #   Column      Non-Null Count  Dtype  \n",
            "---  ------      --------------  -----  \n",
            " 0   survived    891 non-null    int64  \n",
            " 1   pclass      891 non-null    int64  \n",
            " 2   sex         891 non-null    int64  \n",
            " 3   age         891 non-null    float64\n",
            " 4   sibsp       891 non-null    int64  \n",
            " 5   parch       891 non-null    int64  \n",
            " 6   fare        891 non-null    float64\n",
            " 7   embarked    891 non-null    int64  \n",
            " 8   who         891 non-null    int64  \n",
            " 9   adult_male  891 non-null    bool   \n",
            " 10  alone       891 non-null    bool   \n",
            "dtypes: bool(2), float64(2), int64(7)\n",
            "memory usage: 64.5 KB\n"
          ],
          "name": "stdout"
        }
      ]
    },
    {
      "cell_type": "code",
      "metadata": {
        "id": "J-u1J2IqOWCq"
      },
      "source": [
        "adult_male = {True:1, False:0}\n",
        "titanic['adult_male'] = titanic['adult_male'].map(adult_male)\n",
        "alone = {True:1, False:0}\n",
        "titanic['alone'] = titanic['alone'].map(alone)"
      ],
      "execution_count": null,
      "outputs": []
    },
    {
      "cell_type": "code",
      "metadata": {
        "colab": {
          "base_uri": "https://localhost:8080/"
        },
        "id": "b_hFm-yfN2qq",
        "outputId": "81a08921-f210-40c7-df3f-7478eae194c2"
      },
      "source": [
        "titanic.head()"
      ],
      "execution_count": null,
      "outputs": [
        {
          "output_type": "execute_result",
          "data": {
            "text/html": [
              "<div>\n",
              "<style scoped>\n",
              "    .dataframe tbody tr th:only-of-type {\n",
              "        vertical-align: middle;\n",
              "    }\n",
              "\n",
              "    .dataframe tbody tr th {\n",
              "        vertical-align: top;\n",
              "    }\n",
              "\n",
              "    .dataframe thead th {\n",
              "        text-align: right;\n",
              "    }\n",
              "</style>\n",
              "<table border=\"1\" class=\"dataframe\">\n",
              "  <thead>\n",
              "    <tr style=\"text-align: right;\">\n",
              "      <th></th>\n",
              "      <th>survived</th>\n",
              "      <th>pclass</th>\n",
              "      <th>sex</th>\n",
              "      <th>age</th>\n",
              "      <th>sibsp</th>\n",
              "      <th>parch</th>\n",
              "      <th>fare</th>\n",
              "      <th>embarked</th>\n",
              "      <th>who</th>\n",
              "      <th>adult_male</th>\n",
              "      <th>alone</th>\n",
              "    </tr>\n",
              "  </thead>\n",
              "  <tbody>\n",
              "    <tr>\n",
              "      <th>0</th>\n",
              "      <td>0</td>\n",
              "      <td>3</td>\n",
              "      <td>1</td>\n",
              "      <td>22.0</td>\n",
              "      <td>1</td>\n",
              "      <td>0</td>\n",
              "      <td>7.2500</td>\n",
              "      <td>2</td>\n",
              "      <td>1</td>\n",
              "      <td>1</td>\n",
              "      <td>0</td>\n",
              "    </tr>\n",
              "    <tr>\n",
              "      <th>1</th>\n",
              "      <td>1</td>\n",
              "      <td>1</td>\n",
              "      <td>0</td>\n",
              "      <td>38.0</td>\n",
              "      <td>1</td>\n",
              "      <td>0</td>\n",
              "      <td>71.2833</td>\n",
              "      <td>0</td>\n",
              "      <td>2</td>\n",
              "      <td>0</td>\n",
              "      <td>0</td>\n",
              "    </tr>\n",
              "    <tr>\n",
              "      <th>2</th>\n",
              "      <td>1</td>\n",
              "      <td>3</td>\n",
              "      <td>0</td>\n",
              "      <td>26.0</td>\n",
              "      <td>0</td>\n",
              "      <td>0</td>\n",
              "      <td>7.9250</td>\n",
              "      <td>2</td>\n",
              "      <td>2</td>\n",
              "      <td>0</td>\n",
              "      <td>1</td>\n",
              "    </tr>\n",
              "    <tr>\n",
              "      <th>3</th>\n",
              "      <td>1</td>\n",
              "      <td>1</td>\n",
              "      <td>0</td>\n",
              "      <td>35.0</td>\n",
              "      <td>1</td>\n",
              "      <td>0</td>\n",
              "      <td>53.1000</td>\n",
              "      <td>2</td>\n",
              "      <td>2</td>\n",
              "      <td>0</td>\n",
              "      <td>0</td>\n",
              "    </tr>\n",
              "    <tr>\n",
              "      <th>4</th>\n",
              "      <td>0</td>\n",
              "      <td>3</td>\n",
              "      <td>1</td>\n",
              "      <td>35.0</td>\n",
              "      <td>0</td>\n",
              "      <td>0</td>\n",
              "      <td>8.0500</td>\n",
              "      <td>2</td>\n",
              "      <td>1</td>\n",
              "      <td>1</td>\n",
              "      <td>1</td>\n",
              "    </tr>\n",
              "  </tbody>\n",
              "</table>\n",
              "</div>"
            ],
            "text/plain": [
              "   survived  pclass  sex   age  ...  embarked  who  adult_male  alone\n",
              "0         0       3    1  22.0  ...         2    1           1      0\n",
              "1         1       1    0  38.0  ...         0    2           0      0\n",
              "2         1       3    0  26.0  ...         2    2           0      1\n",
              "3         1       1    0  35.0  ...         2    2           0      0\n",
              "4         0       3    1  35.0  ...         2    1           1      1\n",
              "\n",
              "[5 rows x 11 columns]"
            ]
          },
          "metadata": {
            "tags": []
          },
          "execution_count": 110
        }
      ]
    },
    {
      "cell_type": "markdown",
      "metadata": {
        "id": "UvNF99c2PHUn"
      },
      "source": [
        "#### Analisís de los datos"
      ]
    },
    {
      "cell_type": "code",
      "metadata": {
        "colab": {
          "base_uri": "https://localhost:8080/",
          "height": 297
        },
        "id": "2q5E4PD5PChF",
        "outputId": "b83e79e9-a9c9-44bb-c315-85036d67eb9f"
      },
      "source": [
        "titanic.describe()"
      ],
      "execution_count": null,
      "outputs": [
        {
          "output_type": "execute_result",
          "data": {
            "text/html": [
              "<div>\n",
              "<style scoped>\n",
              "    .dataframe tbody tr th:only-of-type {\n",
              "        vertical-align: middle;\n",
              "    }\n",
              "\n",
              "    .dataframe tbody tr th {\n",
              "        vertical-align: top;\n",
              "    }\n",
              "\n",
              "    .dataframe thead th {\n",
              "        text-align: right;\n",
              "    }\n",
              "</style>\n",
              "<table border=\"1\" class=\"dataframe\">\n",
              "  <thead>\n",
              "    <tr style=\"text-align: right;\">\n",
              "      <th></th>\n",
              "      <th>survived</th>\n",
              "      <th>pclass</th>\n",
              "      <th>sex</th>\n",
              "      <th>age</th>\n",
              "      <th>sibsp</th>\n",
              "      <th>parch</th>\n",
              "      <th>fare</th>\n",
              "      <th>embarked</th>\n",
              "      <th>who</th>\n",
              "      <th>adult_male</th>\n",
              "      <th>alone</th>\n",
              "    </tr>\n",
              "  </thead>\n",
              "  <tbody>\n",
              "    <tr>\n",
              "      <th>count</th>\n",
              "      <td>891.000000</td>\n",
              "      <td>891.000000</td>\n",
              "      <td>891.000000</td>\n",
              "      <td>891.000000</td>\n",
              "      <td>891.000000</td>\n",
              "      <td>891.000000</td>\n",
              "      <td>891.000000</td>\n",
              "      <td>891.000000</td>\n",
              "      <td>891.000000</td>\n",
              "      <td>891.000000</td>\n",
              "      <td>891.000000</td>\n",
              "    </tr>\n",
              "    <tr>\n",
              "      <th>mean</th>\n",
              "      <td>0.383838</td>\n",
              "      <td>2.308642</td>\n",
              "      <td>0.647587</td>\n",
              "      <td>29.292875</td>\n",
              "      <td>0.523008</td>\n",
              "      <td>0.381594</td>\n",
              "      <td>32.204208</td>\n",
              "      <td>1.536476</td>\n",
              "      <td>1.210999</td>\n",
              "      <td>0.602694</td>\n",
              "      <td>0.602694</td>\n",
              "    </tr>\n",
              "    <tr>\n",
              "      <th>std</th>\n",
              "      <td>0.486592</td>\n",
              "      <td>0.836071</td>\n",
              "      <td>0.477990</td>\n",
              "      <td>13.210527</td>\n",
              "      <td>1.102743</td>\n",
              "      <td>0.806057</td>\n",
              "      <td>49.693429</td>\n",
              "      <td>0.791503</td>\n",
              "      <td>0.594291</td>\n",
              "      <td>0.489615</td>\n",
              "      <td>0.489615</td>\n",
              "    </tr>\n",
              "    <tr>\n",
              "      <th>min</th>\n",
              "      <td>0.000000</td>\n",
              "      <td>1.000000</td>\n",
              "      <td>0.000000</td>\n",
              "      <td>0.420000</td>\n",
              "      <td>0.000000</td>\n",
              "      <td>0.000000</td>\n",
              "      <td>0.000000</td>\n",
              "      <td>0.000000</td>\n",
              "      <td>0.000000</td>\n",
              "      <td>0.000000</td>\n",
              "      <td>0.000000</td>\n",
              "    </tr>\n",
              "    <tr>\n",
              "      <th>25%</th>\n",
              "      <td>0.000000</td>\n",
              "      <td>2.000000</td>\n",
              "      <td>0.000000</td>\n",
              "      <td>22.000000</td>\n",
              "      <td>0.000000</td>\n",
              "      <td>0.000000</td>\n",
              "      <td>7.910400</td>\n",
              "      <td>1.000000</td>\n",
              "      <td>1.000000</td>\n",
              "      <td>0.000000</td>\n",
              "      <td>0.000000</td>\n",
              "    </tr>\n",
              "    <tr>\n",
              "      <th>50%</th>\n",
              "      <td>0.000000</td>\n",
              "      <td>3.000000</td>\n",
              "      <td>1.000000</td>\n",
              "      <td>26.000000</td>\n",
              "      <td>0.000000</td>\n",
              "      <td>0.000000</td>\n",
              "      <td>14.454200</td>\n",
              "      <td>2.000000</td>\n",
              "      <td>1.000000</td>\n",
              "      <td>1.000000</td>\n",
              "      <td>1.000000</td>\n",
              "    </tr>\n",
              "    <tr>\n",
              "      <th>75%</th>\n",
              "      <td>1.000000</td>\n",
              "      <td>3.000000</td>\n",
              "      <td>1.000000</td>\n",
              "      <td>37.000000</td>\n",
              "      <td>1.000000</td>\n",
              "      <td>0.000000</td>\n",
              "      <td>31.000000</td>\n",
              "      <td>2.000000</td>\n",
              "      <td>2.000000</td>\n",
              "      <td>1.000000</td>\n",
              "      <td>1.000000</td>\n",
              "    </tr>\n",
              "    <tr>\n",
              "      <th>max</th>\n",
              "      <td>1.000000</td>\n",
              "      <td>3.000000</td>\n",
              "      <td>1.000000</td>\n",
              "      <td>80.000000</td>\n",
              "      <td>8.000000</td>\n",
              "      <td>6.000000</td>\n",
              "      <td>512.329200</td>\n",
              "      <td>2.000000</td>\n",
              "      <td>2.000000</td>\n",
              "      <td>1.000000</td>\n",
              "      <td>1.000000</td>\n",
              "    </tr>\n",
              "  </tbody>\n",
              "</table>\n",
              "</div>"
            ],
            "text/plain": [
              "         survived      pclass         sex  ...         who  adult_male       alone\n",
              "count  891.000000  891.000000  891.000000  ...  891.000000  891.000000  891.000000\n",
              "mean     0.383838    2.308642    0.647587  ...    1.210999    0.602694    0.602694\n",
              "std      0.486592    0.836071    0.477990  ...    0.594291    0.489615    0.489615\n",
              "min      0.000000    1.000000    0.000000  ...    0.000000    0.000000    0.000000\n",
              "25%      0.000000    2.000000    0.000000  ...    1.000000    0.000000    0.000000\n",
              "50%      0.000000    3.000000    1.000000  ...    1.000000    1.000000    1.000000\n",
              "75%      1.000000    3.000000    1.000000  ...    2.000000    1.000000    1.000000\n",
              "max      1.000000    3.000000    1.000000  ...    2.000000    1.000000    1.000000\n",
              "\n",
              "[8 rows x 11 columns]"
            ]
          },
          "metadata": {
            "tags": []
          },
          "execution_count": 111
        }
      ]
    },
    {
      "cell_type": "code",
      "metadata": {
        "colab": {
          "base_uri": "https://localhost:8080/",
          "height": 1000
        },
        "id": "zo-RQ31YQAAB",
        "outputId": "38ce2812-6d72-4bb9-9824-302fa22ab9fc"
      },
      "source": [
        "rows = 3\n",
        "cols = 4\n",
        "\n",
        "fig, ax = plt.subplots(nrows=rows, ncols=cols, figsize=(20,10))\n",
        "\n",
        "col = titanic.columns\n",
        "index = 0\n",
        "\n",
        "for i in range(rows):\n",
        "    for j in range(cols):\n",
        "        sb.distplot(titanic[col[index]], ax=ax[i][j])\n",
        "        index += 1\n",
        "\n",
        "plt.tight_layout()"
      ],
      "execution_count": null,
      "outputs": [
        {
          "output_type": "stream",
          "text": [
            "/usr/local/lib/python3.7/dist-packages/seaborn/distributions.py:2557: FutureWarning: `distplot` is a deprecated function and will be removed in a future version. Please adapt your code to use either `displot` (a figure-level function with similar flexibility) or `histplot` (an axes-level function for histograms).\n",
            "  warnings.warn(msg, FutureWarning)\n",
            "/usr/local/lib/python3.7/dist-packages/seaborn/distributions.py:2557: FutureWarning: `distplot` is a deprecated function and will be removed in a future version. Please adapt your code to use either `displot` (a figure-level function with similar flexibility) or `histplot` (an axes-level function for histograms).\n",
            "  warnings.warn(msg, FutureWarning)\n",
            "/usr/local/lib/python3.7/dist-packages/seaborn/distributions.py:2557: FutureWarning: `distplot` is a deprecated function and will be removed in a future version. Please adapt your code to use either `displot` (a figure-level function with similar flexibility) or `histplot` (an axes-level function for histograms).\n",
            "  warnings.warn(msg, FutureWarning)\n",
            "/usr/local/lib/python3.7/dist-packages/seaborn/distributions.py:2557: FutureWarning: `distplot` is a deprecated function and will be removed in a future version. Please adapt your code to use either `displot` (a figure-level function with similar flexibility) or `histplot` (an axes-level function for histograms).\n",
            "  warnings.warn(msg, FutureWarning)\n",
            "/usr/local/lib/python3.7/dist-packages/seaborn/distributions.py:2557: FutureWarning: `distplot` is a deprecated function and will be removed in a future version. Please adapt your code to use either `displot` (a figure-level function with similar flexibility) or `histplot` (an axes-level function for histograms).\n",
            "  warnings.warn(msg, FutureWarning)\n",
            "/usr/local/lib/python3.7/dist-packages/seaborn/distributions.py:2557: FutureWarning: `distplot` is a deprecated function and will be removed in a future version. Please adapt your code to use either `displot` (a figure-level function with similar flexibility) or `histplot` (an axes-level function for histograms).\n",
            "  warnings.warn(msg, FutureWarning)\n",
            "/usr/local/lib/python3.7/dist-packages/seaborn/distributions.py:2557: FutureWarning: `distplot` is a deprecated function and will be removed in a future version. Please adapt your code to use either `displot` (a figure-level function with similar flexibility) or `histplot` (an axes-level function for histograms).\n",
            "  warnings.warn(msg, FutureWarning)\n",
            "/usr/local/lib/python3.7/dist-packages/seaborn/distributions.py:2557: FutureWarning: `distplot` is a deprecated function and will be removed in a future version. Please adapt your code to use either `displot` (a figure-level function with similar flexibility) or `histplot` (an axes-level function for histograms).\n",
            "  warnings.warn(msg, FutureWarning)\n",
            "/usr/local/lib/python3.7/dist-packages/seaborn/distributions.py:2557: FutureWarning: `distplot` is a deprecated function and will be removed in a future version. Please adapt your code to use either `displot` (a figure-level function with similar flexibility) or `histplot` (an axes-level function for histograms).\n",
            "  warnings.warn(msg, FutureWarning)\n",
            "/usr/local/lib/python3.7/dist-packages/seaborn/distributions.py:2557: FutureWarning: `distplot` is a deprecated function and will be removed in a future version. Please adapt your code to use either `displot` (a figure-level function with similar flexibility) or `histplot` (an axes-level function for histograms).\n",
            "  warnings.warn(msg, FutureWarning)\n",
            "/usr/local/lib/python3.7/dist-packages/seaborn/distributions.py:2557: FutureWarning: `distplot` is a deprecated function and will be removed in a future version. Please adapt your code to use either `displot` (a figure-level function with similar flexibility) or `histplot` (an axes-level function for histograms).\n",
            "  warnings.warn(msg, FutureWarning)\n"
          ],
          "name": "stderr"
        },
        {
          "output_type": "error",
          "ename": "IndexError",
          "evalue": "ignored",
          "traceback": [
            "\u001b[0;31m---------------------------------------------------------------------------\u001b[0m",
            "\u001b[0;31mIndexError\u001b[0m                                Traceback (most recent call last)",
            "\u001b[0;32m<ipython-input-21-d0fbadb5d5bf>\u001b[0m in \u001b[0;36m<module>\u001b[0;34m()\u001b[0m\n\u001b[1;32m      9\u001b[0m \u001b[0;32mfor\u001b[0m \u001b[0mi\u001b[0m \u001b[0;32min\u001b[0m \u001b[0mrange\u001b[0m\u001b[0;34m(\u001b[0m\u001b[0mrows\u001b[0m\u001b[0;34m)\u001b[0m\u001b[0;34m:\u001b[0m\u001b[0;34m\u001b[0m\u001b[0;34m\u001b[0m\u001b[0m\n\u001b[1;32m     10\u001b[0m     \u001b[0;32mfor\u001b[0m \u001b[0mj\u001b[0m \u001b[0;32min\u001b[0m \u001b[0mrange\u001b[0m\u001b[0;34m(\u001b[0m\u001b[0mcols\u001b[0m\u001b[0;34m)\u001b[0m\u001b[0;34m:\u001b[0m\u001b[0;34m\u001b[0m\u001b[0;34m\u001b[0m\u001b[0m\n\u001b[0;32m---> 11\u001b[0;31m         \u001b[0msb\u001b[0m\u001b[0;34m.\u001b[0m\u001b[0mdistplot\u001b[0m\u001b[0;34m(\u001b[0m\u001b[0mtitanic\u001b[0m\u001b[0;34m[\u001b[0m\u001b[0mcol\u001b[0m\u001b[0;34m[\u001b[0m\u001b[0mindex\u001b[0m\u001b[0;34m]\u001b[0m\u001b[0;34m]\u001b[0m\u001b[0;34m,\u001b[0m \u001b[0max\u001b[0m\u001b[0;34m=\u001b[0m\u001b[0max\u001b[0m\u001b[0;34m[\u001b[0m\u001b[0mi\u001b[0m\u001b[0;34m]\u001b[0m\u001b[0;34m[\u001b[0m\u001b[0mj\u001b[0m\u001b[0;34m]\u001b[0m\u001b[0;34m)\u001b[0m\u001b[0;34m\u001b[0m\u001b[0;34m\u001b[0m\u001b[0m\n\u001b[0m\u001b[1;32m     12\u001b[0m         \u001b[0mindex\u001b[0m \u001b[0;34m+=\u001b[0m \u001b[0;36m1\u001b[0m\u001b[0;34m\u001b[0m\u001b[0;34m\u001b[0m\u001b[0m\n\u001b[1;32m     13\u001b[0m \u001b[0;34m\u001b[0m\u001b[0m\n",
            "\u001b[0;32m/usr/local/lib/python3.7/dist-packages/pandas/core/indexes/base.py\u001b[0m in \u001b[0;36m__getitem__\u001b[0;34m(self, key)\u001b[0m\n\u001b[1;32m   4102\u001b[0m         \u001b[0;32mif\u001b[0m \u001b[0mis_scalar\u001b[0m\u001b[0;34m(\u001b[0m\u001b[0mkey\u001b[0m\u001b[0;34m)\u001b[0m\u001b[0;34m:\u001b[0m\u001b[0;34m\u001b[0m\u001b[0;34m\u001b[0m\u001b[0m\n\u001b[1;32m   4103\u001b[0m             \u001b[0mkey\u001b[0m \u001b[0;34m=\u001b[0m \u001b[0mcom\u001b[0m\u001b[0;34m.\u001b[0m\u001b[0mcast_scalar_indexer\u001b[0m\u001b[0;34m(\u001b[0m\u001b[0mkey\u001b[0m\u001b[0;34m,\u001b[0m \u001b[0mwarn_float\u001b[0m\u001b[0;34m=\u001b[0m\u001b[0;32mTrue\u001b[0m\u001b[0;34m)\u001b[0m\u001b[0;34m\u001b[0m\u001b[0;34m\u001b[0m\u001b[0m\n\u001b[0;32m-> 4104\u001b[0;31m             \u001b[0;32mreturn\u001b[0m \u001b[0mgetitem\u001b[0m\u001b[0;34m(\u001b[0m\u001b[0mkey\u001b[0m\u001b[0;34m)\u001b[0m\u001b[0;34m\u001b[0m\u001b[0;34m\u001b[0m\u001b[0m\n\u001b[0m\u001b[1;32m   4105\u001b[0m \u001b[0;34m\u001b[0m\u001b[0m\n\u001b[1;32m   4106\u001b[0m         \u001b[0;32mif\u001b[0m \u001b[0misinstance\u001b[0m\u001b[0;34m(\u001b[0m\u001b[0mkey\u001b[0m\u001b[0;34m,\u001b[0m \u001b[0mslice\u001b[0m\u001b[0;34m)\u001b[0m\u001b[0;34m:\u001b[0m\u001b[0;34m\u001b[0m\u001b[0;34m\u001b[0m\u001b[0m\n",
            "\u001b[0;31mIndexError\u001b[0m: index 11 is out of bounds for axis 0 with size 11"
          ]
        },
        {
          "output_type": "display_data",
          "data": {
            "image/png": "[encoded data removed]",
            "text/plain": [
              "<Figure size 1440x720 with 12 Axes>"
            ]
          },
          "metadata": {
            "tags": [],
            "needs_background": "light"
          }
        }
      ]
    },
    {
      "cell_type": "markdown",
      "metadata": {
        "id": "aQQn3n1Apkce"
      },
      "source": [
        "#### Medidas de tendencia central"
      ]
    },
    {
      "cell_type": "code",
      "metadata": {
        "colab": {
          "base_uri": "https://localhost:8080/"
        },
        "id": "_vWuhxjbh5t6",
        "outputId": "9bfe00a5-7667-4efa-9397-4496f4eff47a"
      },
      "source": [
        "std = titanic['sex'].std(ddof=0)\n",
        "\n",
        "var = titanic['sex'].var(ddof=0)\n",
        "std2 = np.sqrt(var)\n",
        "\n",
        "print('Desviación Típica: %.4f' % std)\n",
        "\n",
        "print('Varianza: %0.4f' % var)\n",
        "print('Desviación Típica: %.4f' % std2)"
      ],
      "execution_count": null,
      "outputs": [
        {
          "output_type": "stream",
          "text": [
            "Desviación Típica: 0.4777\n",
            "Varianza: 0.2282\n",
            "Desviación Típica: 0.4777\n"
          ],
          "name": "stdout"
        }
      ]
    },
    {
      "cell_type": "code",
      "metadata": {
        "colab": {
          "base_uri": "https://localhost:8080/"
        },
        "id": "8biUrsIBjLx3",
        "outputId": "d7855dd9-8709-4918-ef3c-64781beb1e62"
      },
      "source": [
        "import scipy.stats as ss\n",
        "\n",
        "cv = titanic['sex'].std(ddof=0) / titanic['sex'].mean()\n",
        "cv2 = ss.variation(titanic['sex'])\n",
        "\n",
        "print('Coeficiente de variación: %0.10f' % cv2)"
      ],
      "execution_count": null,
      "outputs": [
        {
          "output_type": "stream",
          "text": [
            "Coeficiente de variación: 0.7376951318\n"
          ],
          "name": "stdout"
        }
      ]
    },
    {
      "cell_type": "code",
      "metadata": {
        "colab": {
          "base_uri": "https://localhost:8080/",
          "height": 390
        },
        "id": "FayNfc86lNVg",
        "outputId": "f844e801-0e18-4676-cdf4-688e477bbf7f"
      },
      "source": [
        "# Covarianza\n",
        "titanic.cov()"
      ],
      "execution_count": null,
      "outputs": [
        {
          "output_type": "execute_result",
          "data": {
            "text/html": [
              "<div>\n",
              "<style scoped>\n",
              "    .dataframe tbody tr th:only-of-type {\n",
              "        vertical-align: middle;\n",
              "    }\n",
              "\n",
              "    .dataframe tbody tr th {\n",
              "        vertical-align: top;\n",
              "    }\n",
              "\n",
              "    .dataframe thead th {\n",
              "        text-align: right;\n",
              "    }\n",
              "</style>\n",
              "<table border=\"1\" class=\"dataframe\">\n",
              "  <thead>\n",
              "    <tr style=\"text-align: right;\">\n",
              "      <th></th>\n",
              "      <th>survived</th>\n",
              "      <th>pclass</th>\n",
              "      <th>sex</th>\n",
              "      <th>age</th>\n",
              "      <th>sibsp</th>\n",
              "      <th>parch</th>\n",
              "      <th>fare</th>\n",
              "      <th>embarked</th>\n",
              "      <th>who</th>\n",
              "      <th>adult_male</th>\n",
              "      <th>alone</th>\n",
              "    </tr>\n",
              "  </thead>\n",
              "  <tbody>\n",
              "    <tr>\n",
              "      <th>survived</th>\n",
              "      <td>0.236772</td>\n",
              "      <td>-0.137703</td>\n",
              "      <td>-0.126376</td>\n",
              "      <td>-0.324644</td>\n",
              "      <td>-0.018954</td>\n",
              "      <td>0.032017</td>\n",
              "      <td>6.221787</td>\n",
              "      <td>-0.064578</td>\n",
              "      <td>0.094200</td>\n",
              "      <td>-0.132720</td>\n",
              "      <td>-0.048451</td>\n",
              "    </tr>\n",
              "    <tr>\n",
              "      <th>pclass</th>\n",
              "      <td>-0.137703</td>\n",
              "      <td>0.699015</td>\n",
              "      <td>0.052712</td>\n",
              "      <td>-4.460584</td>\n",
              "      <td>0.076599</td>\n",
              "      <td>0.012429</td>\n",
              "      <td>-22.830196</td>\n",
              "      <td>0.107269</td>\n",
              "      <td>-0.097781</td>\n",
              "      <td>0.038494</td>\n",
              "      <td>0.055347</td>\n",
              "    </tr>\n",
              "    <tr>\n",
              "      <th>sex</th>\n",
              "      <td>-0.126376</td>\n",
              "      <td>0.052712</td>\n",
              "      <td>0.228475</td>\n",
              "      <td>0.508090</td>\n",
              "      <td>-0.060422</td>\n",
              "      <td>-0.094584</td>\n",
              "      <td>-4.330946</td>\n",
              "      <td>0.040959</td>\n",
              "      <td>-0.181737</td>\n",
              "      <td>0.212636</td>\n",
              "      <td>0.071063</td>\n",
              "    </tr>\n",
              "    <tr>\n",
              "      <th>age</th>\n",
              "      <td>-0.324644</td>\n",
              "      <td>-4.460584</td>\n",
              "      <td>0.508090</td>\n",
              "      <td>174.518032</td>\n",
              "      <td>-3.546563</td>\n",
              "      <td>-1.871983</td>\n",
              "      <td>79.359072</td>\n",
              "      <td>-0.173806</td>\n",
              "      <td>2.696665</td>\n",
              "      <td>1.578927</td>\n",
              "      <td>1.105248</td>\n",
              "    </tr>\n",
              "    <tr>\n",
              "      <th>sibsp</th>\n",
              "      <td>-0.018954</td>\n",
              "      <td>0.076599</td>\n",
              "      <td>-0.060422</td>\n",
              "      <td>-3.546563</td>\n",
              "      <td>1.216043</td>\n",
              "      <td>0.368739</td>\n",
              "      <td>8.748734</td>\n",
              "      <td>0.059553</td>\n",
              "      <td>-0.089130</td>\n",
              "      <td>-0.136916</td>\n",
              "      <td>-0.315568</td>\n",
              "    </tr>\n",
              "    <tr>\n",
              "      <th>parch</th>\n",
              "      <td>0.032017</td>\n",
              "      <td>0.012429</td>\n",
              "      <td>-0.094584</td>\n",
              "      <td>-1.871983</td>\n",
              "      <td>0.368739</td>\n",
              "      <td>0.649728</td>\n",
              "      <td>8.661052</td>\n",
              "      <td>0.025391</td>\n",
              "      <td>-0.026674</td>\n",
              "      <td>-0.138108</td>\n",
              "      <td>-0.230242</td>\n",
              "    </tr>\n",
              "    <tr>\n",
              "      <th>fare</th>\n",
              "      <td>6.221787</td>\n",
              "      <td>-22.830196</td>\n",
              "      <td>-4.330946</td>\n",
              "      <td>79.359072</td>\n",
              "      <td>8.748734</td>\n",
              "      <td>8.661052</td>\n",
              "      <td>2469.436846</td>\n",
              "      <td>-8.838774</td>\n",
              "      <td>4.320282</td>\n",
              "      <td>-4.428757</td>\n",
              "      <td>-6.613861</td>\n",
              "    </tr>\n",
              "    <tr>\n",
              "      <th>embarked</th>\n",
              "      <td>-0.064578</td>\n",
              "      <td>0.107269</td>\n",
              "      <td>0.040959</td>\n",
              "      <td>-0.173806</td>\n",
              "      <td>0.059553</td>\n",
              "      <td>0.025391</td>\n",
              "      <td>-8.838774</td>\n",
              "      <td>0.626477</td>\n",
              "      <td>-0.030177</td>\n",
              "      <td>0.035857</td>\n",
              "      <td>0.024621</td>\n",
              "    </tr>\n",
              "    <tr>\n",
              "      <th>who</th>\n",
              "      <td>0.094200</td>\n",
              "      <td>-0.097781</td>\n",
              "      <td>-0.181737</td>\n",
              "      <td>2.696665</td>\n",
              "      <td>-0.089130</td>\n",
              "      <td>-0.026674</td>\n",
              "      <td>4.320282</td>\n",
              "      <td>-0.030177</td>\n",
              "      <td>0.353182</td>\n",
              "      <td>-0.127311</td>\n",
              "      <td>0.001903</td>\n",
              "    </tr>\n",
              "    <tr>\n",
              "      <th>adult_male</th>\n",
              "      <td>-0.132720</td>\n",
              "      <td>0.038494</td>\n",
              "      <td>0.212636</td>\n",
              "      <td>1.578927</td>\n",
              "      <td>-0.136916</td>\n",
              "      <td>-0.138108</td>\n",
              "      <td>-4.428757</td>\n",
              "      <td>0.035857</td>\n",
              "      <td>-0.127311</td>\n",
              "      <td>0.239723</td>\n",
              "      <td>0.097026</td>\n",
              "    </tr>\n",
              "    <tr>\n",
              "      <th>alone</th>\n",
              "      <td>-0.048451</td>\n",
              "      <td>0.055347</td>\n",
              "      <td>0.071063</td>\n",
              "      <td>1.105248</td>\n",
              "      <td>-0.315568</td>\n",
              "      <td>-0.230242</td>\n",
              "      <td>-6.613861</td>\n",
              "      <td>0.024621</td>\n",
              "      <td>0.001903</td>\n",
              "      <td>0.097026</td>\n",
              "      <td>0.239723</td>\n",
              "    </tr>\n",
              "  </tbody>\n",
              "</table>\n",
              "</div>"
            ],
            "text/plain": [
              "            survived     pclass       sex  ...       who  adult_male     alone\n",
              "survived    0.236772  -0.137703 -0.126376  ...  0.094200   -0.132720 -0.048451\n",
              "pclass     -0.137703   0.699015  0.052712  ... -0.097781    0.038494  0.055347\n",
              "sex        -0.126376   0.052712  0.228475  ... -0.181737    0.212636  0.071063\n",
              "age        -0.324644  -4.460584  0.508090  ...  2.696665    1.578927  1.105248\n",
              "sibsp      -0.018954   0.076599 -0.060422  ... -0.089130   -0.136916 -0.315568\n",
              "parch       0.032017   0.012429 -0.094584  ... -0.026674   -0.138108 -0.230242\n",
              "fare        6.221787 -22.830196 -4.330946  ...  4.320282   -4.428757 -6.613861\n",
              "embarked   -0.064578   0.107269  0.040959  ... -0.030177    0.035857  0.024621\n",
              "who         0.094200  -0.097781 -0.181737  ...  0.353182   -0.127311  0.001903\n",
              "adult_male -0.132720   0.038494  0.212636  ... -0.127311    0.239723  0.097026\n",
              "alone      -0.048451   0.055347  0.071063  ...  0.001903    0.097026  0.239723\n",
              "\n",
              "[11 rows x 11 columns]"
            ]
          },
          "metadata": {
            "tags": []
          },
          "execution_count": 49
        }
      ]
    },
    {
      "cell_type": "code",
      "metadata": {
        "colab": {
          "base_uri": "https://localhost:8080/",
          "height": 390
        },
        "id": "PKm5kHUunOhx",
        "outputId": "917e1c7d-ce07-4d4e-aa43-79f1888ea6de"
      },
      "source": [
        "# Correlacion\n",
        "titanic.corr()"
      ],
      "execution_count": null,
      "outputs": [
        {
          "output_type": "execute_result",
          "data": {
            "text/html": [
              "<div>\n",
              "<style scoped>\n",
              "    .dataframe tbody tr th:only-of-type {\n",
              "        vertical-align: middle;\n",
              "    }\n",
              "\n",
              "    .dataframe tbody tr th {\n",
              "        vertical-align: top;\n",
              "    }\n",
              "\n",
              "    .dataframe thead th {\n",
              "        text-align: right;\n",
              "    }\n",
              "</style>\n",
              "<table border=\"1\" class=\"dataframe\">\n",
              "  <thead>\n",
              "    <tr style=\"text-align: right;\">\n",
              "      <th></th>\n",
              "      <th>survived</th>\n",
              "      <th>pclass</th>\n",
              "      <th>sex</th>\n",
              "      <th>age</th>\n",
              "      <th>sibsp</th>\n",
              "      <th>parch</th>\n",
              "      <th>fare</th>\n",
              "      <th>embarked</th>\n",
              "      <th>who</th>\n",
              "      <th>adult_male</th>\n",
              "      <th>alone</th>\n",
              "    </tr>\n",
              "  </thead>\n",
              "  <tbody>\n",
              "    <tr>\n",
              "      <th>survived</th>\n",
              "      <td>1.000000</td>\n",
              "      <td>-0.338481</td>\n",
              "      <td>-0.543351</td>\n",
              "      <td>-0.050504</td>\n",
              "      <td>-0.035322</td>\n",
              "      <td>0.081629</td>\n",
              "      <td>0.257307</td>\n",
              "      <td>-0.167675</td>\n",
              "      <td>0.325753</td>\n",
              "      <td>-0.557080</td>\n",
              "      <td>-0.203367</td>\n",
              "    </tr>\n",
              "    <tr>\n",
              "      <th>pclass</th>\n",
              "      <td>-0.338481</td>\n",
              "      <td>1.000000</td>\n",
              "      <td>0.131900</td>\n",
              "      <td>-0.403858</td>\n",
              "      <td>0.083081</td>\n",
              "      <td>0.018443</td>\n",
              "      <td>-0.549500</td>\n",
              "      <td>0.162098</td>\n",
              "      <td>-0.196793</td>\n",
              "      <td>0.094035</td>\n",
              "      <td>0.135207</td>\n",
              "    </tr>\n",
              "    <tr>\n",
              "      <th>sex</th>\n",
              "      <td>-0.543351</td>\n",
              "      <td>0.131900</td>\n",
              "      <td>1.000000</td>\n",
              "      <td>0.080464</td>\n",
              "      <td>-0.114631</td>\n",
              "      <td>-0.245489</td>\n",
              "      <td>-0.182333</td>\n",
              "      <td>0.108262</td>\n",
              "      <td>-0.639773</td>\n",
              "      <td>0.908578</td>\n",
              "      <td>0.303646</td>\n",
              "    </tr>\n",
              "    <tr>\n",
              "      <th>age</th>\n",
              "      <td>-0.050504</td>\n",
              "      <td>-0.403858</td>\n",
              "      <td>0.080464</td>\n",
              "      <td>1.000000</td>\n",
              "      <td>-0.243452</td>\n",
              "      <td>-0.175799</td>\n",
              "      <td>0.120886</td>\n",
              "      <td>-0.016622</td>\n",
              "      <td>0.343485</td>\n",
              "      <td>0.244111</td>\n",
              "      <td>0.170877</td>\n",
              "    </tr>\n",
              "    <tr>\n",
              "      <th>sibsp</th>\n",
              "      <td>-0.035322</td>\n",
              "      <td>0.083081</td>\n",
              "      <td>-0.114631</td>\n",
              "      <td>-0.243452</td>\n",
              "      <td>1.000000</td>\n",
              "      <td>0.414838</td>\n",
              "      <td>0.159651</td>\n",
              "      <td>0.068230</td>\n",
              "      <td>-0.136003</td>\n",
              "      <td>-0.253586</td>\n",
              "      <td>-0.584471</td>\n",
              "    </tr>\n",
              "    <tr>\n",
              "      <th>parch</th>\n",
              "      <td>0.081629</td>\n",
              "      <td>0.018443</td>\n",
              "      <td>-0.245489</td>\n",
              "      <td>-0.175799</td>\n",
              "      <td>0.414838</td>\n",
              "      <td>1.000000</td>\n",
              "      <td>0.216225</td>\n",
              "      <td>0.039798</td>\n",
              "      <td>-0.055682</td>\n",
              "      <td>-0.349943</td>\n",
              "      <td>-0.583398</td>\n",
              "    </tr>\n",
              "    <tr>\n",
              "      <th>fare</th>\n",
              "      <td>0.257307</td>\n",
              "      <td>-0.549500</td>\n",
              "      <td>-0.182333</td>\n",
              "      <td>0.120886</td>\n",
              "      <td>0.159651</td>\n",
              "      <td>0.216225</td>\n",
              "      <td>1.000000</td>\n",
              "      <td>-0.224719</td>\n",
              "      <td>0.146290</td>\n",
              "      <td>-0.182024</td>\n",
              "      <td>-0.271832</td>\n",
              "    </tr>\n",
              "    <tr>\n",
              "      <th>embarked</th>\n",
              "      <td>-0.167675</td>\n",
              "      <td>0.162098</td>\n",
              "      <td>0.108262</td>\n",
              "      <td>-0.016622</td>\n",
              "      <td>0.068230</td>\n",
              "      <td>0.039798</td>\n",
              "      <td>-0.224719</td>\n",
              "      <td>1.000000</td>\n",
              "      <td>-0.064154</td>\n",
              "      <td>0.092526</td>\n",
              "      <td>0.063532</td>\n",
              "    </tr>\n",
              "    <tr>\n",
              "      <th>who</th>\n",
              "      <td>0.325753</td>\n",
              "      <td>-0.196793</td>\n",
              "      <td>-0.639773</td>\n",
              "      <td>0.343485</td>\n",
              "      <td>-0.136003</td>\n",
              "      <td>-0.055682</td>\n",
              "      <td>0.146290</td>\n",
              "      <td>-0.064154</td>\n",
              "      <td>1.000000</td>\n",
              "      <td>-0.437532</td>\n",
              "      <td>0.006540</td>\n",
              "    </tr>\n",
              "    <tr>\n",
              "      <th>adult_male</th>\n",
              "      <td>-0.557080</td>\n",
              "      <td>0.094035</td>\n",
              "      <td>0.908578</td>\n",
              "      <td>0.244111</td>\n",
              "      <td>-0.253586</td>\n",
              "      <td>-0.349943</td>\n",
              "      <td>-0.182024</td>\n",
              "      <td>0.092526</td>\n",
              "      <td>-0.437532</td>\n",
              "      <td>1.000000</td>\n",
              "      <td>0.404744</td>\n",
              "    </tr>\n",
              "    <tr>\n",
              "      <th>alone</th>\n",
              "      <td>-0.203367</td>\n",
              "      <td>0.135207</td>\n",
              "      <td>0.303646</td>\n",
              "      <td>0.170877</td>\n",
              "      <td>-0.584471</td>\n",
              "      <td>-0.583398</td>\n",
              "      <td>-0.271832</td>\n",
              "      <td>0.063532</td>\n",
              "      <td>0.006540</td>\n",
              "      <td>0.404744</td>\n",
              "      <td>1.000000</td>\n",
              "    </tr>\n",
              "  </tbody>\n",
              "</table>\n",
              "</div>"
            ],
            "text/plain": [
              "            survived    pclass       sex  ...       who  adult_male     alone\n",
              "survived    1.000000 -0.338481 -0.543351  ...  0.325753   -0.557080 -0.203367\n",
              "pclass     -0.338481  1.000000  0.131900  ... -0.196793    0.094035  0.135207\n",
              "sex        -0.543351  0.131900  1.000000  ... -0.639773    0.908578  0.303646\n",
              "age        -0.050504 -0.403858  0.080464  ...  0.343485    0.244111  0.170877\n",
              "sibsp      -0.035322  0.083081 -0.114631  ... -0.136003   -0.253586 -0.584471\n",
              "parch       0.081629  0.018443 -0.245489  ... -0.055682   -0.349943 -0.583398\n",
              "fare        0.257307 -0.549500 -0.182333  ...  0.146290   -0.182024 -0.271832\n",
              "embarked   -0.167675  0.162098  0.108262  ... -0.064154    0.092526  0.063532\n",
              "who         0.325753 -0.196793 -0.639773  ...  1.000000   -0.437532  0.006540\n",
              "adult_male -0.557080  0.094035  0.908578  ... -0.437532    1.000000  0.404744\n",
              "alone      -0.203367  0.135207  0.303646  ...  0.006540    0.404744  1.000000\n",
              "\n",
              "[11 rows x 11 columns]"
            ]
          },
          "metadata": {
            "tags": []
          },
          "execution_count": 50
        }
      ]
    },
    {
      "cell_type": "code",
      "metadata": {
        "colab": {
          "base_uri": "https://localhost:8080/",
          "height": 522
        },
        "id": "GvtAI__-XrDy",
        "outputId": "86262c1e-d77c-47e0-a035-885cdd41556c"
      },
      "source": [
        "sb.heatmap(titanic.corr(), annot=True)"
      ],
      "execution_count": null,
      "outputs": [
        {
          "output_type": "execute_result",
          "data": {
            "text/plain": [
              "<matplotlib.axes._subplots.AxesSubplot at 0x7fd6287182d0>"
            ]
          },
          "metadata": {
            "tags": []
          },
          "execution_count": 114
        },
        {
          "output_type": "display_data",
          "data": {
            "image/png": "[encoded data removed]",
            "text/plain": [
              "<Figure size 842.4x595.44 with 2 Axes>"
            ]
          },
          "metadata": {
            "tags": []
          }
        }
      ]
    },
    {
      "cell_type": "code",
      "metadata": {
        "colab": {
          "base_uri": "https://localhost:8080/"
        },
        "id": "cACLQJKZn543",
        "outputId": "07164155-65c4-441b-b30c-c85084bc3919"
      },
      "source": [
        "# Media aritmética\n",
        "titanic.mean()"
      ],
      "execution_count": null,
      "outputs": [
        {
          "output_type": "execute_result",
          "data": {
            "text/plain": [
              "survived       0.383838\n",
              "pclass         2.308642\n",
              "sex            0.647587\n",
              "age           29.292875\n",
              "sibsp          0.523008\n",
              "parch          0.381594\n",
              "fare          32.204208\n",
              "embarked       1.536476\n",
              "who            1.210999\n",
              "adult_male     0.602694\n",
              "alone          0.602694\n",
              "dtype: float64"
            ]
          },
          "metadata": {
            "tags": []
          },
          "execution_count": 51
        }
      ]
    },
    {
      "cell_type": "code",
      "metadata": {
        "colab": {
          "base_uri": "https://localhost:8080/"
        },
        "id": "X4vXMTjPoFgO",
        "outputId": "2b1c6bcd-188a-4351-d997-8f20b80f6f32"
      },
      "source": [
        "# Media geometrica\n",
        "ss.gmean(titanic)"
      ],
      "execution_count": null,
      "outputs": [
        {
          "output_type": "stream",
          "text": [
            "/usr/local/lib/python3.7/dist-packages/scipy/stats/stats.py:330: RuntimeWarning: divide by zero encountered in log\n",
            "  log_a = np.log(np.array(a, dtype=dtype))\n"
          ],
          "name": "stderr"
        },
        {
          "output_type": "execute_result",
          "data": {
            "text/plain": [
              "array([ 0.        ,  2.1139318 ,  0.        , 24.97188157,  0.        ,\n",
              "        0.        ,  0.        ,  0.        ,  0.        ,  0.        ,\n",
              "        0.        ])"
            ]
          },
          "metadata": {
            "tags": []
          },
          "execution_count": 52
        }
      ]
    },
    {
      "cell_type": "code",
      "metadata": {
        "colab": {
          "base_uri": "https://localhost:8080/"
        },
        "id": "-ZH9399-oyOC",
        "outputId": "24e1496e-8b3c-4147-e094-2b769ef4117f"
      },
      "source": [
        "# Media armónica\n",
        "ss.hmean(titanic)"
      ],
      "execution_count": null,
      "outputs": [
        {
          "output_type": "execute_result",
          "data": {
            "text/plain": [
              "array([ 0.        ,  1.88904594,  0.        , 14.89669999,  0.        ,\n",
              "        0.        ,  0.        ,  0.        ,  0.        ,  0.        ,\n",
              "        0.        ])"
            ]
          },
          "metadata": {
            "tags": []
          },
          "execution_count": 53
        }
      ]
    },
    {
      "cell_type": "code",
      "metadata": {
        "colab": {
          "base_uri": "https://localhost:8080/"
        },
        "id": "J0ndkmd7o9f2",
        "outputId": "4bb4faee-6f31-421e-b931-e5000a82bb1a"
      },
      "source": [
        "# Mediana\n",
        "titanic.median()"
      ],
      "execution_count": null,
      "outputs": [
        {
          "output_type": "execute_result",
          "data": {
            "text/plain": [
              "survived       0.0000\n",
              "pclass         3.0000\n",
              "sex            1.0000\n",
              "age           26.0000\n",
              "sibsp          0.0000\n",
              "parch          0.0000\n",
              "fare          14.4542\n",
              "embarked       2.0000\n",
              "who            1.0000\n",
              "adult_male     1.0000\n",
              "alone          1.0000\n",
              "dtype: float64"
            ]
          },
          "metadata": {
            "tags": []
          },
          "execution_count": 54
        }
      ]
    },
    {
      "cell_type": "code",
      "metadata": {
        "colab": {
          "base_uri": "https://localhost:8080/"
        },
        "id": "QBWdSIMZpBdx",
        "outputId": "bb672590-e036-4824-fdea-971e232e310d"
      },
      "source": [
        "# Media truncada\n",
        "ss.trim_mean(titanic, .10)"
      ],
      "execution_count": null,
      "outputs": [
        {
          "output_type": "execute_result",
          "data": {
            "text/plain": [
              "array([ 0.35483871,  2.38569425,  0.68443198, 28.73952516,  0.27208976,\n",
              "        0.18232819, 21.37871557,  1.67040673,  1.25525947,  0.628331  ,\n",
              "        0.628331  ])"
            ]
          },
          "metadata": {
            "tags": []
          },
          "execution_count": 60
        }
      ]
    },
    {
      "cell_type": "code",
      "metadata": {
        "colab": {
          "base_uri": "https://localhost:8080/",
          "height": 80
        },
        "id": "zcgsoXJppX1e",
        "outputId": "1631be4b-29b9-48b7-adda-ef213682cc14"
      },
      "source": [
        "# Moda\n",
        "titanic.mode()"
      ],
      "execution_count": null,
      "outputs": [
        {
          "output_type": "execute_result",
          "data": {
            "text/html": [
              "<div>\n",
              "<style scoped>\n",
              "    .dataframe tbody tr th:only-of-type {\n",
              "        vertical-align: middle;\n",
              "    }\n",
              "\n",
              "    .dataframe tbody tr th {\n",
              "        vertical-align: top;\n",
              "    }\n",
              "\n",
              "    .dataframe thead th {\n",
              "        text-align: right;\n",
              "    }\n",
              "</style>\n",
              "<table border=\"1\" class=\"dataframe\">\n",
              "  <thead>\n",
              "    <tr style=\"text-align: right;\">\n",
              "      <th></th>\n",
              "      <th>survived</th>\n",
              "      <th>pclass</th>\n",
              "      <th>sex</th>\n",
              "      <th>age</th>\n",
              "      <th>sibsp</th>\n",
              "      <th>parch</th>\n",
              "      <th>fare</th>\n",
              "      <th>embarked</th>\n",
              "      <th>who</th>\n",
              "      <th>adult_male</th>\n",
              "      <th>alone</th>\n",
              "    </tr>\n",
              "  </thead>\n",
              "  <tbody>\n",
              "    <tr>\n",
              "      <th>0</th>\n",
              "      <td>0</td>\n",
              "      <td>3</td>\n",
              "      <td>1</td>\n",
              "      <td>25.14062</td>\n",
              "      <td>0</td>\n",
              "      <td>0</td>\n",
              "      <td>8.05</td>\n",
              "      <td>2</td>\n",
              "      <td>1</td>\n",
              "      <td>1</td>\n",
              "      <td>1</td>\n",
              "    </tr>\n",
              "  </tbody>\n",
              "</table>\n",
              "</div>"
            ],
            "text/plain": [
              "   survived  pclass  sex       age  ...  embarked  who  adult_male  alone\n",
              "0         0       3    1  25.14062  ...         2    1           1      1\n",
              "\n",
              "[1 rows x 11 columns]"
            ]
          },
          "metadata": {
            "tags": []
          },
          "execution_count": 61
        }
      ]
    },
    {
      "cell_type": "markdown",
      "metadata": {
        "id": "9kRsp3YwJ0PS"
      },
      "source": [
        "### Dataset Covid"
      ]
    },
    {
      "cell_type": "code",
      "metadata": {
        "id": "xswOxkTtJ22X"
      },
      "source": [
        "import requests\n",
        "\n",
        "data = requests.get(\"https://api.covid19api.com/summary\").json()\n",
        "covid = pd.DataFrame.from_dict(data[\"Countries\"])"
      ],
      "execution_count": 3,
      "outputs": []
    },
    {
      "cell_type": "code",
      "metadata": {
        "colab": {
          "base_uri": "https://localhost:8080/",
          "height": 297
        },
        "id": "pW0fF-DQvbT8",
        "outputId": "f600c319-8b0b-45d5-8df4-31d35844db5d"
      },
      "source": [
        "covid.describe()"
      ],
      "execution_count": null,
      "outputs": [
        {
          "output_type": "execute_result",
          "data": {
            "text/html": [
              "<div>\n",
              "<style scoped>\n",
              "    .dataframe tbody tr th:only-of-type {\n",
              "        vertical-align: middle;\n",
              "    }\n",
              "\n",
              "    .dataframe tbody tr th {\n",
              "        vertical-align: top;\n",
              "    }\n",
              "\n",
              "    .dataframe thead th {\n",
              "        text-align: right;\n",
              "    }\n",
              "</style>\n",
              "<table border=\"1\" class=\"dataframe\">\n",
              "  <thead>\n",
              "    <tr style=\"text-align: right;\">\n",
              "      <th></th>\n",
              "      <th>NewConfirmed</th>\n",
              "      <th>TotalConfirmed</th>\n",
              "      <th>NewDeaths</th>\n",
              "      <th>TotalDeaths</th>\n",
              "      <th>NewRecovered</th>\n",
              "      <th>TotalRecovered</th>\n",
              "    </tr>\n",
              "  </thead>\n",
              "  <tbody>\n",
              "    <tr>\n",
              "      <th>count</th>\n",
              "      <td>190.000000</td>\n",
              "      <td>1.900000e+02</td>\n",
              "      <td>190.000000</td>\n",
              "      <td>190.000000</td>\n",
              "      <td>190.00000</td>\n",
              "      <td>1.900000e+02</td>\n",
              "    </tr>\n",
              "    <tr>\n",
              "      <th>mean</th>\n",
              "      <td>2956.110526</td>\n",
              "      <td>7.161543e+05</td>\n",
              "      <td>42.510526</td>\n",
              "      <td>15459.431579</td>\n",
              "      <td>2567.90000</td>\n",
              "      <td>4.083431e+05</td>\n",
              "    </tr>\n",
              "    <tr>\n",
              "      <th>std</th>\n",
              "      <td>13784.765830</td>\n",
              "      <td>2.737436e+06</td>\n",
              "      <td>158.101660</td>\n",
              "      <td>54547.235479</td>\n",
              "      <td>12198.74135</td>\n",
              "      <td>1.353014e+06</td>\n",
              "    </tr>\n",
              "    <tr>\n",
              "      <th>min</th>\n",
              "      <td>0.000000</td>\n",
              "      <td>1.000000e+00</td>\n",
              "      <td>0.000000</td>\n",
              "      <td>0.000000</td>\n",
              "      <td>0.00000</td>\n",
              "      <td>0.000000e+00</td>\n",
              "    </tr>\n",
              "    <tr>\n",
              "      <th>25%</th>\n",
              "      <td>0.000000</td>\n",
              "      <td>9.516750e+03</td>\n",
              "      <td>0.000000</td>\n",
              "      <td>123.000000</td>\n",
              "      <td>0.00000</td>\n",
              "      <td>5.176250e+03</td>\n",
              "    </tr>\n",
              "    <tr>\n",
              "      <th>50%</th>\n",
              "      <td>102.000000</td>\n",
              "      <td>8.872450e+04</td>\n",
              "      <td>2.000000</td>\n",
              "      <td>1105.500000</td>\n",
              "      <td>36.50000</td>\n",
              "      <td>4.534150e+04</td>\n",
              "    </tr>\n",
              "    <tr>\n",
              "      <th>75%</th>\n",
              "      <td>943.250000</td>\n",
              "      <td>3.334625e+05</td>\n",
              "      <td>17.000000</td>\n",
              "      <td>6610.500000</td>\n",
              "      <td>679.50000</td>\n",
              "      <td>2.323035e+05</td>\n",
              "    </tr>\n",
              "    <tr>\n",
              "      <th>max</th>\n",
              "      <td>168912.000000</td>\n",
              "      <td>3.119787e+07</td>\n",
              "      <td>1803.000000</td>\n",
              "      <td>562066.000000</td>\n",
              "      <td>139309.00000</td>\n",
              "      <td>1.215653e+07</td>\n",
              "    </tr>\n",
              "  </tbody>\n",
              "</table>\n",
              "</div>"
            ],
            "text/plain": [
              "        NewConfirmed  TotalConfirmed  ...  NewRecovered  TotalRecovered\n",
              "count     190.000000    1.900000e+02  ...     190.00000    1.900000e+02\n",
              "mean     2956.110526    7.161543e+05  ...    2567.90000    4.083431e+05\n",
              "std     13784.765830    2.737436e+06  ...   12198.74135    1.353014e+06\n",
              "min         0.000000    1.000000e+00  ...       0.00000    0.000000e+00\n",
              "25%         0.000000    9.516750e+03  ...       0.00000    5.176250e+03\n",
              "50%       102.000000    8.872450e+04  ...      36.50000    4.534150e+04\n",
              "75%       943.250000    3.334625e+05  ...     679.50000    2.323035e+05\n",
              "max    168912.000000    3.119787e+07  ...  139309.00000    1.215653e+07\n",
              "\n",
              "[8 rows x 6 columns]"
            ]
          },
          "metadata": {
            "tags": []
          },
          "execution_count": 35
        }
      ]
    },
    {
      "cell_type": "code",
      "metadata": {
        "colab": {
          "base_uri": "https://localhost:8080/"
        },
        "id": "DQpVgdWN3WMI",
        "outputId": "a02ebbf9-ade3-49ec-b2cf-397469a699d2"
      },
      "source": [
        "covid.info()"
      ],
      "execution_count": null,
      "outputs": [
        {
          "output_type": "stream",
          "text": [
            "<class 'pandas.core.frame.DataFrame'>\n",
            "RangeIndex: 190 entries, 0 to 189\n",
            "Data columns (total 12 columns):\n",
            " #   Column          Non-Null Count  Dtype \n",
            "---  ------          --------------  ----- \n",
            " 0   ID              190 non-null    object\n",
            " 1   Country         190 non-null    object\n",
            " 2   CountryCode     190 non-null    object\n",
            " 3   Slug            190 non-null    object\n",
            " 4   NewConfirmed    190 non-null    int64 \n",
            " 5   TotalConfirmed  190 non-null    int64 \n",
            " 6   NewDeaths       190 non-null    int64 \n",
            " 7   TotalDeaths     190 non-null    int64 \n",
            " 8   NewRecovered    190 non-null    int64 \n",
            " 9   TotalRecovered  190 non-null    int64 \n",
            " 10  Date            190 non-null    object\n",
            " 11  Premium         190 non-null    object\n",
            "dtypes: int64(6), object(6)\n",
            "memory usage: 17.9+ KB\n"
          ],
          "name": "stdout"
        }
      ]
    },
    {
      "cell_type": "code",
      "metadata": {
        "colab": {
          "base_uri": "https://localhost:8080/",
          "height": 442
        },
        "id": "4NSwTDrq4x3_",
        "outputId": "3cec8ec9-3abb-4cf1-e3e9-5bc1e013d7bc"
      },
      "source": [
        "covid.head()"
      ],
      "execution_count": null,
      "outputs": [
        {
          "output_type": "execute_result",
          "data": {
            "text/html": [
              "<div>\n",
              "<style scoped>\n",
              "    .dataframe tbody tr th:only-of-type {\n",
              "        vertical-align: middle;\n",
              "    }\n",
              "\n",
              "    .dataframe tbody tr th {\n",
              "        vertical-align: top;\n",
              "    }\n",
              "\n",
              "    .dataframe thead th {\n",
              "        text-align: right;\n",
              "    }\n",
              "</style>\n",
              "<table border=\"1\" class=\"dataframe\">\n",
              "  <thead>\n",
              "    <tr style=\"text-align: right;\">\n",
              "      <th></th>\n",
              "      <th>ID</th>\n",
              "      <th>Country</th>\n",
              "      <th>CountryCode</th>\n",
              "      <th>Slug</th>\n",
              "      <th>NewConfirmed</th>\n",
              "      <th>TotalConfirmed</th>\n",
              "      <th>NewDeaths</th>\n",
              "      <th>TotalDeaths</th>\n",
              "      <th>NewRecovered</th>\n",
              "      <th>TotalRecovered</th>\n",
              "      <th>Date</th>\n",
              "      <th>Premium</th>\n",
              "    </tr>\n",
              "  </thead>\n",
              "  <tbody>\n",
              "    <tr>\n",
              "      <th>0</th>\n",
              "      <td>0f4c47b4-01ba-458c-a24d-4050d1881128</td>\n",
              "      <td>Afghanistan</td>\n",
              "      <td>AF</td>\n",
              "      <td>afghanistan</td>\n",
              "      <td>82</td>\n",
              "      <td>57242</td>\n",
              "      <td>8</td>\n",
              "      <td>2529</td>\n",
              "      <td>16</td>\n",
              "      <td>52005</td>\n",
              "      <td>2021-04-13T02:28:22.158Z</td>\n",
              "      <td>{}</td>\n",
              "    </tr>\n",
              "    <tr>\n",
              "      <th>1</th>\n",
              "      <td>09050c57-0074-4b67-b734-84fb6f0fa305</td>\n",
              "      <td>Albania</td>\n",
              "      <td>AL</td>\n",
              "      <td>albania</td>\n",
              "      <td>125</td>\n",
              "      <td>128518</td>\n",
              "      <td>4</td>\n",
              "      <td>2321</td>\n",
              "      <td>546</td>\n",
              "      <td>98269</td>\n",
              "      <td>2021-04-13T02:28:22.158Z</td>\n",
              "      <td>{}</td>\n",
              "    </tr>\n",
              "    <tr>\n",
              "      <th>2</th>\n",
              "      <td>d876bcee-979d-4b60-b1ea-4c2644ad04d3</td>\n",
              "      <td>Algeria</td>\n",
              "      <td>DZ</td>\n",
              "      <td>algeria</td>\n",
              "      <td>129</td>\n",
              "      <td>118645</td>\n",
              "      <td>4</td>\n",
              "      <td>3134</td>\n",
              "      <td>104</td>\n",
              "      <td>82704</td>\n",
              "      <td>2021-04-13T02:28:22.158Z</td>\n",
              "      <td>{}</td>\n",
              "    </tr>\n",
              "    <tr>\n",
              "      <th>3</th>\n",
              "      <td>5bbf1d08-6eb2-40da-b790-c6b000ac9b6c</td>\n",
              "      <td>Andorra</td>\n",
              "      <td>AD</td>\n",
              "      <td>andorra</td>\n",
              "      <td>36</td>\n",
              "      <td>12581</td>\n",
              "      <td>1</td>\n",
              "      <td>121</td>\n",
              "      <td>65</td>\n",
              "      <td>11890</td>\n",
              "      <td>2021-04-13T02:28:22.158Z</td>\n",
              "      <td>{}</td>\n",
              "    </tr>\n",
              "    <tr>\n",
              "      <th>4</th>\n",
              "      <td>101e6f58-f9a8-41d0-ba92-c3ed6739a4fe</td>\n",
              "      <td>Angola</td>\n",
              "      <td>AO</td>\n",
              "      <td>angola</td>\n",
              "      <td>92</td>\n",
              "      <td>23549</td>\n",
              "      <td>1</td>\n",
              "      <td>554</td>\n",
              "      <td>35</td>\n",
              "      <td>22093</td>\n",
              "      <td>2021-04-13T02:28:22.158Z</td>\n",
              "      <td>{}</td>\n",
              "    </tr>\n",
              "  </tbody>\n",
              "</table>\n",
              "</div>"
            ],
            "text/plain": [
              "                                     ID  ... Premium\n",
              "0  0f4c47b4-01ba-458c-a24d-4050d1881128  ...      {}\n",
              "1  09050c57-0074-4b67-b734-84fb6f0fa305  ...      {}\n",
              "2  d876bcee-979d-4b60-b1ea-4c2644ad04d3  ...      {}\n",
              "3  5bbf1d08-6eb2-40da-b790-c6b000ac9b6c  ...      {}\n",
              "4  101e6f58-f9a8-41d0-ba92-c3ed6739a4fe  ...      {}\n",
              "\n",
              "[5 rows x 12 columns]"
            ]
          },
          "metadata": {
            "tags": []
          },
          "execution_count": 43
        }
      ]
    },
    {
      "cell_type": "code",
      "metadata": {
        "colab": {
          "base_uri": "https://localhost:8080/",
          "height": 114
        },
        "id": "N9cHhA46cUyH",
        "outputId": "1416a6fb-5cbd-4304-c92d-c0ce324d3e46"
      },
      "source": [
        "pais_max_casos = covid[covid['TotalConfirmed']==covid['TotalConfirmed'].max()]\n",
        "pais_max_casos"
      ],
      "execution_count": null,
      "outputs": [
        {
          "output_type": "execute_result",
          "data": {
            "text/html": [
              "<div>\n",
              "<style scoped>\n",
              "    .dataframe tbody tr th:only-of-type {\n",
              "        vertical-align: middle;\n",
              "    }\n",
              "\n",
              "    .dataframe tbody tr th {\n",
              "        vertical-align: top;\n",
              "    }\n",
              "\n",
              "    .dataframe thead th {\n",
              "        text-align: right;\n",
              "    }\n",
              "</style>\n",
              "<table border=\"1\" class=\"dataframe\">\n",
              "  <thead>\n",
              "    <tr style=\"text-align: right;\">\n",
              "      <th></th>\n",
              "      <th>ID</th>\n",
              "      <th>Country</th>\n",
              "      <th>CountryCode</th>\n",
              "      <th>Slug</th>\n",
              "      <th>NewConfirmed</th>\n",
              "      <th>TotalConfirmed</th>\n",
              "      <th>NewDeaths</th>\n",
              "      <th>TotalDeaths</th>\n",
              "      <th>NewRecovered</th>\n",
              "      <th>TotalRecovered</th>\n",
              "      <th>Date</th>\n",
              "      <th>Premium</th>\n",
              "    </tr>\n",
              "  </thead>\n",
              "  <tbody>\n",
              "    <tr>\n",
              "      <th>181</th>\n",
              "      <td>a9b3824a-a4a0-4dc3-b285-d5d9241c745b</td>\n",
              "      <td>United States of America</td>\n",
              "      <td>US</td>\n",
              "      <td>united-states</td>\n",
              "      <td>46378</td>\n",
              "      <td>31197873</td>\n",
              "      <td>283</td>\n",
              "      <td>562066</td>\n",
              "      <td>0</td>\n",
              "      <td>0</td>\n",
              "      <td>2021-04-13T02:28:22.158Z</td>\n",
              "      <td>{}</td>\n",
              "    </tr>\n",
              "  </tbody>\n",
              "</table>\n",
              "</div>"
            ],
            "text/plain": [
              "                                       ID  ... Premium\n",
              "181  a9b3824a-a4a0-4dc3-b285-d5d9241c745b  ...      {}\n",
              "\n",
              "[1 rows x 12 columns]"
            ]
          },
          "metadata": {
            "tags": []
          },
          "execution_count": 122
        }
      ]
    },
    {
      "cell_type": "code",
      "metadata": {
        "colab": {
          "base_uri": "https://localhost:8080/",
          "height": 114
        },
        "id": "l5aE9Fg0Uqo6",
        "outputId": "483201e4-2d49-4116-8aa5-d5a763b85790"
      },
      "source": [
        "pais_max_muertes = covid[covid['TotalDeaths']==covid['TotalDeaths'].max()]\n",
        "pais_max_muertes"
      ],
      "execution_count": null,
      "outputs": [
        {
          "output_type": "execute_result",
          "data": {
            "text/html": [
              "<div>\n",
              "<style scoped>\n",
              "    .dataframe tbody tr th:only-of-type {\n",
              "        vertical-align: middle;\n",
              "    }\n",
              "\n",
              "    .dataframe tbody tr th {\n",
              "        vertical-align: top;\n",
              "    }\n",
              "\n",
              "    .dataframe thead th {\n",
              "        text-align: right;\n",
              "    }\n",
              "</style>\n",
              "<table border=\"1\" class=\"dataframe\">\n",
              "  <thead>\n",
              "    <tr style=\"text-align: right;\">\n",
              "      <th></th>\n",
              "      <th>ID</th>\n",
              "      <th>Country</th>\n",
              "      <th>CountryCode</th>\n",
              "      <th>Slug</th>\n",
              "      <th>NewConfirmed</th>\n",
              "      <th>TotalConfirmed</th>\n",
              "      <th>NewDeaths</th>\n",
              "      <th>TotalDeaths</th>\n",
              "      <th>NewRecovered</th>\n",
              "      <th>TotalRecovered</th>\n",
              "      <th>Date</th>\n",
              "      <th>Premium</th>\n",
              "    </tr>\n",
              "  </thead>\n",
              "  <tbody>\n",
              "    <tr>\n",
              "      <th>181</th>\n",
              "      <td>a9b3824a-a4a0-4dc3-b285-d5d9241c745b</td>\n",
              "      <td>United States of America</td>\n",
              "      <td>US</td>\n",
              "      <td>united-states</td>\n",
              "      <td>46378</td>\n",
              "      <td>31197873</td>\n",
              "      <td>283</td>\n",
              "      <td>562066</td>\n",
              "      <td>0</td>\n",
              "      <td>0</td>\n",
              "      <td>2021-04-13T02:28:22.158Z</td>\n",
              "      <td>{}</td>\n",
              "    </tr>\n",
              "  </tbody>\n",
              "</table>\n",
              "</div>"
            ],
            "text/plain": [
              "                                       ID  ... Premium\n",
              "181  a9b3824a-a4a0-4dc3-b285-d5d9241c745b  ...      {}\n",
              "\n",
              "[1 rows x 12 columns]"
            ]
          },
          "metadata": {
            "tags": []
          },
          "execution_count": 90
        }
      ]
    },
    {
      "cell_type": "code",
      "metadata": {
        "colab": {
          "base_uri": "https://localhost:8080/",
          "height": 151
        },
        "id": "WhryCBjBOcZC",
        "outputId": "b6123f42-b623-421b-dde4-f1aac01655e7"
      },
      "source": [
        "pais_max_recuperados = covid[covid['TotalRecovered']==covid['TotalRecovered'].max()]\n",
        "pais_max_recuperados"
      ],
      "execution_count": 4,
      "outputs": [
        {
          "output_type": "execute_result",
          "data": {
            "text/html": [
              "<div>\n",
              "<style scoped>\n",
              "    .dataframe tbody tr th:only-of-type {\n",
              "        vertical-align: middle;\n",
              "    }\n",
              "\n",
              "    .dataframe tbody tr th {\n",
              "        vertical-align: top;\n",
              "    }\n",
              "\n",
              "    .dataframe thead th {\n",
              "        text-align: right;\n",
              "    }\n",
              "</style>\n",
              "<table border=\"1\" class=\"dataframe\">\n",
              "  <thead>\n",
              "    <tr style=\"text-align: right;\">\n",
              "      <th></th>\n",
              "      <th>ID</th>\n",
              "      <th>Country</th>\n",
              "      <th>CountryCode</th>\n",
              "      <th>Slug</th>\n",
              "      <th>NewConfirmed</th>\n",
              "      <th>TotalConfirmed</th>\n",
              "      <th>NewDeaths</th>\n",
              "      <th>TotalDeaths</th>\n",
              "      <th>NewRecovered</th>\n",
              "      <th>TotalRecovered</th>\n",
              "      <th>Date</th>\n",
              "      <th>Premium</th>\n",
              "    </tr>\n",
              "  </thead>\n",
              "  <tbody>\n",
              "    <tr>\n",
              "      <th>76</th>\n",
              "      <td>09dc05a6-e889-40a7-a772-0f9bcdcc8c38</td>\n",
              "      <td>India</td>\n",
              "      <td>IN</td>\n",
              "      <td>india</td>\n",
              "      <td>273802</td>\n",
              "      <td>15061805</td>\n",
              "      <td>1619</td>\n",
              "      <td>178769</td>\n",
              "      <td>144179</td>\n",
              "      <td>12953817</td>\n",
              "      <td>2021-04-19T23:10:50.74Z</td>\n",
              "      <td>{}</td>\n",
              "    </tr>\n",
              "  </tbody>\n",
              "</table>\n",
              "</div>"
            ],
            "text/plain": [
              "                                      ID  ... Premium\n",
              "76  09dc05a6-e889-40a7-a772-0f9bcdcc8c38  ...      {}\n",
              "\n",
              "[1 rows x 12 columns]"
            ]
          },
          "metadata": {
            "tags": []
          },
          "execution_count": 4
        }
      ]
    },
    {
      "cell_type": "code",
      "metadata": {
        "colab": {
          "base_uri": "https://localhost:8080/",
          "height": 151
        },
        "id": "06DJuNSHPFIO",
        "outputId": "85911e14-1152-44e1-92b4-b417afd012bb"
      },
      "source": [
        "pais_min_confirmados = covid[covid['TotalConfirmed']==covid['TotalConfirmed'].min()]\n",
        "pais_min_confirmados"
      ],
      "execution_count": 6,
      "outputs": [
        {
          "output_type": "execute_result",
          "data": {
            "text/html": [
              "<div>\n",
              "<style scoped>\n",
              "    .dataframe tbody tr th:only-of-type {\n",
              "        vertical-align: middle;\n",
              "    }\n",
              "\n",
              "    .dataframe tbody tr th {\n",
              "        vertical-align: top;\n",
              "    }\n",
              "\n",
              "    .dataframe thead th {\n",
              "        text-align: right;\n",
              "    }\n",
              "</style>\n",
              "<table border=\"1\" class=\"dataframe\">\n",
              "  <thead>\n",
              "    <tr style=\"text-align: right;\">\n",
              "      <th></th>\n",
              "      <th>ID</th>\n",
              "      <th>Country</th>\n",
              "      <th>CountryCode</th>\n",
              "      <th>Slug</th>\n",
              "      <th>NewConfirmed</th>\n",
              "      <th>TotalConfirmed</th>\n",
              "      <th>NewDeaths</th>\n",
              "      <th>TotalDeaths</th>\n",
              "      <th>NewRecovered</th>\n",
              "      <th>TotalRecovered</th>\n",
              "      <th>Date</th>\n",
              "      <th>Premium</th>\n",
              "    </tr>\n",
              "  </thead>\n",
              "  <tbody>\n",
              "    <tr>\n",
              "      <th>111</th>\n",
              "      <td>38ce3d9f-af31-43e6-a13e-9b25cf7c5a36</td>\n",
              "      <td>Micronesia, Federated States of</td>\n",
              "      <td>FM</td>\n",
              "      <td>micronesia</td>\n",
              "      <td>0</td>\n",
              "      <td>1</td>\n",
              "      <td>0</td>\n",
              "      <td>0</td>\n",
              "      <td>0</td>\n",
              "      <td>1</td>\n",
              "      <td>2021-04-19T23:10:50.74Z</td>\n",
              "      <td>{}</td>\n",
              "    </tr>\n",
              "  </tbody>\n",
              "</table>\n",
              "</div>"
            ],
            "text/plain": [
              "                                       ID  ... Premium\n",
              "111  38ce3d9f-af31-43e6-a13e-9b25cf7c5a36  ...      {}\n",
              "\n",
              "[1 rows x 12 columns]"
            ]
          },
          "metadata": {
            "tags": []
          },
          "execution_count": 6
        }
      ]
    },
    {
      "cell_type": "code",
      "metadata": {
        "colab": {
          "base_uri": "https://localhost:8080/",
          "height": 807
        },
        "id": "kQAB9qwCVEa8",
        "outputId": "352ebe90-aa32-452c-bb92-bc4b5b7522f0"
      },
      "source": [
        "pais_min_muertes = covid[covid['TotalDeaths']==0]\n",
        "pais_min_muertes"
      ],
      "execution_count": null,
      "outputs": [
        {
          "output_type": "execute_result",
          "data": {
            "text/html": [
              "<div>\n",
              "<style scoped>\n",
              "    .dataframe tbody tr th:only-of-type {\n",
              "        vertical-align: middle;\n",
              "    }\n",
              "\n",
              "    .dataframe tbody tr th {\n",
              "        vertical-align: top;\n",
              "    }\n",
              "\n",
              "    .dataframe thead th {\n",
              "        text-align: right;\n",
              "    }\n",
              "</style>\n",
              "<table border=\"1\" class=\"dataframe\">\n",
              "  <thead>\n",
              "    <tr style=\"text-align: right;\">\n",
              "      <th></th>\n",
              "      <th>ID</th>\n",
              "      <th>Country</th>\n",
              "      <th>CountryCode</th>\n",
              "      <th>Slug</th>\n",
              "      <th>NewConfirmed</th>\n",
              "      <th>TotalConfirmed</th>\n",
              "      <th>NewDeaths</th>\n",
              "      <th>TotalDeaths</th>\n",
              "      <th>NewRecovered</th>\n",
              "      <th>TotalRecovered</th>\n",
              "      <th>Date</th>\n",
              "      <th>Premium</th>\n",
              "    </tr>\n",
              "  </thead>\n",
              "  <tbody>\n",
              "    <tr>\n",
              "      <th>48</th>\n",
              "      <td>45913d61-4ba0-4e18-93d1-4f2c453fec47</td>\n",
              "      <td>Dominica</td>\n",
              "      <td>DM</td>\n",
              "      <td>dominica</td>\n",
              "      <td>0</td>\n",
              "      <td>165</td>\n",
              "      <td>0</td>\n",
              "      <td>0</td>\n",
              "      <td>0</td>\n",
              "      <td>159</td>\n",
              "      <td>2021-04-13T02:28:22.158Z</td>\n",
              "      <td>{}</td>\n",
              "    </tr>\n",
              "    <tr>\n",
              "      <th>72</th>\n",
              "      <td>9db61407-78eb-4355-b29c-6386cb225a1b</td>\n",
              "      <td>Holy See (Vatican City State)</td>\n",
              "      <td>VA</td>\n",
              "      <td>holy-see-vatican-city-state</td>\n",
              "      <td>0</td>\n",
              "      <td>27</td>\n",
              "      <td>0</td>\n",
              "      <td>0</td>\n",
              "      <td>0</td>\n",
              "      <td>15</td>\n",
              "      <td>2021-04-13T02:28:22.158Z</td>\n",
              "      <td>{}</td>\n",
              "    </tr>\n",
              "    <tr>\n",
              "      <th>91</th>\n",
              "      <td>3c2db362-8683-454e-82b4-e167842b0d99</td>\n",
              "      <td>Lao PDR</td>\n",
              "      <td>LA</td>\n",
              "      <td>lao-pdr</td>\n",
              "      <td>1</td>\n",
              "      <td>52</td>\n",
              "      <td>0</td>\n",
              "      <td>0</td>\n",
              "      <td>2</td>\n",
              "      <td>49</td>\n",
              "      <td>2021-04-13T02:28:22.158Z</td>\n",
              "      <td>{}</td>\n",
              "    </tr>\n",
              "    <tr>\n",
              "      <th>107</th>\n",
              "      <td>2c2d47da-9423-4fca-90c9-d2f1e9eef9c4</td>\n",
              "      <td>Marshall Islands</td>\n",
              "      <td>MH</td>\n",
              "      <td>marshall-islands</td>\n",
              "      <td>0</td>\n",
              "      <td>4</td>\n",
              "      <td>0</td>\n",
              "      <td>0</td>\n",
              "      <td>0</td>\n",
              "      <td>4</td>\n",
              "      <td>2021-04-13T02:28:22.158Z</td>\n",
              "      <td>{}</td>\n",
              "    </tr>\n",
              "    <tr>\n",
              "      <th>111</th>\n",
              "      <td>8c1fa985-c02b-4b50-a1f9-03a26fe01df0</td>\n",
              "      <td>Micronesia, Federated States of</td>\n",
              "      <td>FM</td>\n",
              "      <td>micronesia</td>\n",
              "      <td>0</td>\n",
              "      <td>1</td>\n",
              "      <td>0</td>\n",
              "      <td>0</td>\n",
              "      <td>0</td>\n",
              "      <td>1</td>\n",
              "      <td>2021-04-13T02:28:22.158Z</td>\n",
              "      <td>{}</td>\n",
              "    </tr>\n",
              "    <tr>\n",
              "      <th>142</th>\n",
              "      <td>1f48911a-273b-42ff-ab0a-75d671f3e8a2</td>\n",
              "      <td>Saint Kitts and Nevis</td>\n",
              "      <td>KN</td>\n",
              "      <td>saint-kitts-and-nevis</td>\n",
              "      <td>0</td>\n",
              "      <td>44</td>\n",
              "      <td>0</td>\n",
              "      <td>0</td>\n",
              "      <td>0</td>\n",
              "      <td>44</td>\n",
              "      <td>2021-04-13T02:28:22.158Z</td>\n",
              "      <td>{}</td>\n",
              "    </tr>\n",
              "    <tr>\n",
              "      <th>145</th>\n",
              "      <td>1259856b-54af-4d10-a03e-e40337898856</td>\n",
              "      <td>Samoa</td>\n",
              "      <td>WS</td>\n",
              "      <td>samoa</td>\n",
              "      <td>0</td>\n",
              "      <td>3</td>\n",
              "      <td>0</td>\n",
              "      <td>0</td>\n",
              "      <td>0</td>\n",
              "      <td>2</td>\n",
              "      <td>2021-04-13T02:28:22.158Z</td>\n",
              "      <td>{}</td>\n",
              "    </tr>\n",
              "    <tr>\n",
              "      <th>156</th>\n",
              "      <td>2b3b1f96-d8a3-4065-b211-cb5b2cc5006a</td>\n",
              "      <td>Solomon Islands</td>\n",
              "      <td>SB</td>\n",
              "      <td>solomon-islands</td>\n",
              "      <td>0</td>\n",
              "      <td>19</td>\n",
              "      <td>0</td>\n",
              "      <td>0</td>\n",
              "      <td>0</td>\n",
              "      <td>18</td>\n",
              "      <td>2021-04-13T02:28:22.158Z</td>\n",
              "      <td>{}</td>\n",
              "    </tr>\n",
              "    <tr>\n",
              "      <th>184</th>\n",
              "      <td>a42ec283-fbe7-4cf7-bdba-c990bc109d3f</td>\n",
              "      <td>Vanuatu</td>\n",
              "      <td>VU</td>\n",
              "      <td>vanuatu</td>\n",
              "      <td>0</td>\n",
              "      <td>3</td>\n",
              "      <td>0</td>\n",
              "      <td>0</td>\n",
              "      <td>0</td>\n",
              "      <td>1</td>\n",
              "      <td>2021-04-13T02:28:22.158Z</td>\n",
              "      <td>{}</td>\n",
              "    </tr>\n",
              "  </tbody>\n",
              "</table>\n",
              "</div>"
            ],
            "text/plain": [
              "                                       ID  ... Premium\n",
              "48   45913d61-4ba0-4e18-93d1-4f2c453fec47  ...      {}\n",
              "72   9db61407-78eb-4355-b29c-6386cb225a1b  ...      {}\n",
              "91   3c2db362-8683-454e-82b4-e167842b0d99  ...      {}\n",
              "107  2c2d47da-9423-4fca-90c9-d2f1e9eef9c4  ...      {}\n",
              "111  8c1fa985-c02b-4b50-a1f9-03a26fe01df0  ...      {}\n",
              "142  1f48911a-273b-42ff-ab0a-75d671f3e8a2  ...      {}\n",
              "145  1259856b-54af-4d10-a03e-e40337898856  ...      {}\n",
              "156  2b3b1f96-d8a3-4065-b211-cb5b2cc5006a  ...      {}\n",
              "184  a42ec283-fbe7-4cf7-bdba-c990bc109d3f  ...      {}\n",
              "\n",
              "[9 rows x 12 columns]"
            ]
          },
          "metadata": {
            "tags": []
          },
          "execution_count": 89
        }
      ]
    },
    {
      "cell_type": "code",
      "metadata": {
        "colab": {
          "base_uri": "https://localhost:8080/",
          "height": 49
        },
        "id": "EF0XCFF8c5Nw",
        "outputId": "53284d73-2ae4-4f10-d28d-5cc31b60ae02"
      },
      "source": [
        "pais_min_conf = covid[covid['TotalConfirmed']==0]\n",
        "pais_min_conf"
      ],
      "execution_count": null,
      "outputs": [
        {
          "output_type": "execute_result",
          "data": {
            "text/html": [
              "<div>\n",
              "<style scoped>\n",
              "    .dataframe tbody tr th:only-of-type {\n",
              "        vertical-align: middle;\n",
              "    }\n",
              "\n",
              "    .dataframe tbody tr th {\n",
              "        vertical-align: top;\n",
              "    }\n",
              "\n",
              "    .dataframe thead th {\n",
              "        text-align: right;\n",
              "    }\n",
              "</style>\n",
              "<table border=\"1\" class=\"dataframe\">\n",
              "  <thead>\n",
              "    <tr style=\"text-align: right;\">\n",
              "      <th></th>\n",
              "      <th>ID</th>\n",
              "      <th>Country</th>\n",
              "      <th>CountryCode</th>\n",
              "      <th>Slug</th>\n",
              "      <th>NewConfirmed</th>\n",
              "      <th>TotalConfirmed</th>\n",
              "      <th>NewDeaths</th>\n",
              "      <th>TotalDeaths</th>\n",
              "      <th>NewRecovered</th>\n",
              "      <th>TotalRecovered</th>\n",
              "      <th>Date</th>\n",
              "      <th>Premium</th>\n",
              "    </tr>\n",
              "  </thead>\n",
              "  <tbody>\n",
              "  </tbody>\n",
              "</table>\n",
              "</div>"
            ],
            "text/plain": [
              "Empty DataFrame\n",
              "Columns: [ID, Country, CountryCode, Slug, NewConfirmed, TotalConfirmed, NewDeaths, TotalDeaths, NewRecovered, TotalRecovered, Date, Premium]\n",
              "Index: []"
            ]
          },
          "metadata": {
            "tags": []
          },
          "execution_count": 123
        }
      ]
    },
    {
      "cell_type": "code",
      "metadata": {
        "colab": {
          "base_uri": "https://localhost:8080/"
        },
        "id": "nCbzD9FsPZuh",
        "outputId": "99fd7251-79d9-465e-df26-6884be747945"
      },
      "source": [
        "covid['TotalConfirmed'].quantile([.25, .5, .75])"
      ],
      "execution_count": 7,
      "outputs": [
        {
          "output_type": "execute_result",
          "data": {
            "text/plain": [
              "0.25      9824.5\n",
              "0.50     91313.5\n",
              "0.75    343567.0\n",
              "Name: TotalConfirmed, dtype: float64"
            ]
          },
          "metadata": {
            "tags": []
          },
          "execution_count": 7
        }
      ]
    },
    {
      "cell_type": "code",
      "metadata": {
        "colab": {
          "base_uri": "https://localhost:8080/"
        },
        "id": "uru-Fc79PaQE",
        "outputId": "99a4ad8d-c990-4b67-ec3e-2c9d6dbf60b2"
      },
      "source": [
        "covid['TotalRecovered'].quantile([.25, .5, .75])"
      ],
      "execution_count": 8,
      "outputs": [
        {
          "output_type": "execute_result",
          "data": {
            "text/plain": [
              "0.25      5245.75\n",
              "0.50     45564.50\n",
              "0.75    239897.50\n",
              "Name: TotalRecovered, dtype: float64"
            ]
          },
          "metadata": {
            "tags": []
          },
          "execution_count": 8
        }
      ]
    },
    {
      "cell_type": "code",
      "metadata": {
        "colab": {
          "base_uri": "https://localhost:8080/"
        },
        "id": "wUJ48qxGWauw",
        "outputId": "e7815a1d-2a6d-4155-f587-03a55abed874"
      },
      "source": [
        "covid['TotalDeaths'].quantile([.25, .5, .75])"
      ],
      "execution_count": null,
      "outputs": [
        {
          "output_type": "execute_result",
          "data": {
            "text/plain": [
              "0.25     123.0\n",
              "0.50    1105.5\n",
              "0.75    6610.5\n",
              "Name: TotalDeaths, dtype: float64"
            ]
          },
          "metadata": {
            "tags": []
          },
          "execution_count": 91
        }
      ]
    },
    {
      "cell_type": "code",
      "metadata": {
        "colab": {
          "base_uri": "https://localhost:8080/",
          "height": 400
        },
        "id": "5kcLN3zARsOf",
        "outputId": "19e87603-1625-4c6c-809e-bf69fa6fcd53"
      },
      "source": [
        "sb.catplot(x='TotalConfirmed', y='TotalRecovered', data=covid)"
      ],
      "execution_count": 12,
      "outputs": [
        {
          "output_type": "execute_result",
          "data": {
            "text/plain": [
              "<seaborn.axisgrid.FacetGrid at 0x7f168ba35050>"
            ]
          },
          "metadata": {
            "tags": []
          },
          "execution_count": 12
        },
        {
          "output_type": "display_data",
          "data": {
            "image/png": "[encoded data removed]",
            "text/plain": [
              "<Figure size 360x360 with 1 Axes>"
            ]
          },
          "metadata": {
            "tags": [],
            "needs_background": "light"
          }
        }
      ]
    },
    {
      "cell_type": "code",
      "metadata": {
        "colab": {
          "base_uri": "https://localhost:8080/",
          "height": 400
        },
        "id": "rnlWvhhQQ3wD",
        "outputId": "a79a444a-a997-4641-c3ba-1524319d2474"
      },
      "source": [
        "sb.catplot(x='TotalConfirmed', y='TotalDeaths', data=covid)"
      ],
      "execution_count": 11,
      "outputs": [
        {
          "output_type": "execute_result",
          "data": {
            "text/plain": [
              "<seaborn.axisgrid.FacetGrid at 0x7f168d380650>"
            ]
          },
          "metadata": {
            "tags": []
          },
          "execution_count": 11
        },
        {
          "output_type": "display_data",
          "data": {
            "image/png": "[encoded data removed]",
            "text/plain": [
              "<Figure size 360x360 with 1 Axes>"
            ]
          },
          "metadata": {
            "tags": [],
            "needs_background": "light"
          }
        }
      ]
    },
    {
      "cell_type": "code",
      "metadata": {
        "colab": {
          "base_uri": "https://localhost:8080/",
          "height": 554
        },
        "id": "0nrqBqZEWmwO",
        "outputId": "b7a5fcb8-6c60-40d0-c400-908f2bdb1c20"
      },
      "source": [
        "# diagrama de cajas\n",
        "cajas = sb.boxplot(list(covid['TotalDeaths']))"
      ],
      "execution_count": null,
      "outputs": [
        {
          "output_type": "stream",
          "text": [
            "/usr/local/lib/python3.7/dist-packages/seaborn/_decorators.py:43: FutureWarning: Pass the following variable as a keyword arg: x. From version 0.12, the only valid positional argument will be `data`, and passing other arguments without an explicit keyword will result in an error or misinterpretation.\n",
            "  FutureWarning\n"
          ],
          "name": "stderr"
        },
        {
          "output_type": "display_data",
          "data": {
            "image/png": "[encoded data removed]",
            "text/plain": [
              "<Figure size 842.4x595.44 with 1 Axes>"
            ]
          },
          "metadata": {
            "tags": []
          }
        }
      ]
    },
    {
      "cell_type": "code",
      "metadata": {
        "colab": {
          "base_uri": "https://localhost:8080/"
        },
        "id": "lYLV_aQrS4zl",
        "outputId": "0e8a3dd9-a0e6-47e5-9ade-69f0991c0604"
      },
      "source": [
        "porc_recuperados_mundial = (covid['TotalRecovered'].sum() * 100) / covid['TotalConfirmed'].sum()\n",
        "porc_recuperados_mundial"
      ],
      "execution_count": 15,
      "outputs": [
        {
          "output_type": "execute_result",
          "data": {
            "text/plain": [
              "57.186947257108514"
            ]
          },
          "metadata": {
            "tags": []
          },
          "execution_count": 15
        }
      ]
    },
    {
      "cell_type": "code",
      "metadata": {
        "colab": {
          "base_uri": "https://localhost:8080/"
        },
        "id": "ySGcCYRzUAAL",
        "outputId": "4494c8ef-fe15-4d0a-e807-bb4665b4ed03"
      },
      "source": [
        "porc_muertes_mundial = (covid['TotalDeaths'].sum() * 100) / covid['TotalConfirmed'].sum()\n",
        "porc_muertes_mundial"
      ],
      "execution_count": 16,
      "outputs": [
        {
          "output_type": "execute_result",
          "data": {
            "text/plain": [
              "2.1365962695439857"
            ]
          },
          "metadata": {
            "tags": []
          },
          "execution_count": 16
        }
      ]
    },
    {
      "cell_type": "code",
      "metadata": {
        "colab": {
          "base_uri": "https://localhost:8080/"
        },
        "id": "8QG5vihWUPtT",
        "outputId": "c79b9332-a02a-4b44-f1f9-0ef77ebf6202"
      },
      "source": [
        "porc_activos = 100 - porc_recuperados_mundial - porc_muertes_mundial\n",
        "porc_activos"
      ],
      "execution_count": 17,
      "outputs": [
        {
          "output_type": "execute_result",
          "data": {
            "text/plain": [
              "40.6764564733475"
            ]
          },
          "metadata": {
            "tags": []
          },
          "execution_count": 17
        }
      ]
    },
    {
      "cell_type": "code",
      "metadata": {
        "colab": {
          "base_uri": "https://localhost:8080/",
          "height": 480
        },
        "id": "PIl64nawVx0p",
        "outputId": "0b556c82-03f0-450f-fb3f-fe993625e6da"
      },
      "source": [
        "import matplotlib.pyplot as plt\n",
        "\n",
        "activos = (covid['TotalConfirmed'].sum()-covid['TotalDeaths'].sum()-covid['TotalRecovered'].sum())\n",
        "\n",
        "values = [activos, covid['TotalDeaths'].sum(), covid['TotalRecovered'].sum()]\n",
        "nombres = ['TotalActivos', 'TotalDeaths', 'TotalRecovered']\n",
        "desfase = (0, 0.1, 0)\n",
        "\n",
        "plt.pie(values, labels=nombres, autopct=\"%0.1f %%\", explode=desfase)\n",
        "plt.axis(\"equal\")\n",
        "plt.show()"
      ],
      "execution_count": 19,
      "outputs": [
        {
          "output_type": "display_data",
          "data": {
            "image/png": "[encoded data removed]",
            "text/plain": [
              "<Figure size 842.4x595.44 with 1 Axes>"
            ]
          },
          "metadata": {
            "tags": []
          }
        }
      ]
    },
    {
      "cell_type": "code",
      "metadata": {
        "id": "lRWT_q814UHy"
      },
      "source": [
        "sb.set(rc={'figure.figsize':(11.7,8.27)})\n",
        "sb.distplot(covid['TotalConfirmed'])\n",
        "plt.show()"
      ],
      "execution_count": null,
      "outputs": []
    },
    {
      "cell_type": "code",
      "metadata": {
        "colab": {
          "base_uri": "https://localhost:8080/"
        },
        "id": "vnzESTM0BUhx",
        "outputId": "0721f32e-d440-44ad-c16e-a0ab086107b9"
      },
      "source": [
        "# Muertos totales\n",
        "covid['TotalDeaths'].sum()"
      ],
      "execution_count": null,
      "outputs": [
        {
          "output_type": "execute_result",
          "data": {
            "text/plain": [
              "2937292"
            ]
          },
          "metadata": {
            "tags": []
          },
          "execution_count": 60
        }
      ]
    },
    {
      "cell_type": "code",
      "metadata": {
        "colab": {
          "base_uri": "https://localhost:8080/"
        },
        "id": "jl0_4MW5Bd8q",
        "outputId": "22524a89-f2f2-4a92-fb8c-bf2e06eaa343"
      },
      "source": [
        "# Casos confirmados Totales\n",
        "covid['TotalConfirmed'].sum()"
      ],
      "execution_count": null,
      "outputs": [
        {
          "output_type": "execute_result",
          "data": {
            "text/plain": [
              "136069313"
            ]
          },
          "metadata": {
            "tags": []
          },
          "execution_count": 61
        }
      ]
    },
    {
      "cell_type": "code",
      "metadata": {
        "colab": {
          "base_uri": "https://localhost:8080/"
        },
        "id": "jzzlh6UUBh6W",
        "outputId": "7a70e219-5eed-412d-9ede-8b36215ce079"
      },
      "source": [
        "# Recuperados Totales\n",
        "covid['TotalRecovered'].sum()"
      ],
      "execution_count": null,
      "outputs": [
        {
          "output_type": "execute_result",
          "data": {
            "text/plain": [
              "77585186"
            ]
          },
          "metadata": {
            "tags": []
          },
          "execution_count": 62
        }
      ]
    },
    {
      "cell_type": "code",
      "metadata": {
        "id": "-272BQn558r0"
      },
      "source": [
        "colombia = covid[covid['Country']=='Colombia']"
      ],
      "execution_count": 20,
      "outputs": []
    },
    {
      "cell_type": "code",
      "metadata": {
        "colab": {
          "base_uri": "https://localhost:8080/",
          "height": 114
        },
        "id": "jJRwsYn9A7cL",
        "outputId": "f38b457c-5507-4031-ab24-eb52bea9f692"
      },
      "source": [
        "colombia.head()"
      ],
      "execution_count": null,
      "outputs": [
        {
          "output_type": "execute_result",
          "data": {
            "text/html": [
              "<div>\n",
              "<style scoped>\n",
              "    .dataframe tbody tr th:only-of-type {\n",
              "        vertical-align: middle;\n",
              "    }\n",
              "\n",
              "    .dataframe tbody tr th {\n",
              "        vertical-align: top;\n",
              "    }\n",
              "\n",
              "    .dataframe thead th {\n",
              "        text-align: right;\n",
              "    }\n",
              "</style>\n",
              "<table border=\"1\" class=\"dataframe\">\n",
              "  <thead>\n",
              "    <tr style=\"text-align: right;\">\n",
              "      <th></th>\n",
              "      <th>ID</th>\n",
              "      <th>Country</th>\n",
              "      <th>CountryCode</th>\n",
              "      <th>Slug</th>\n",
              "      <th>NewConfirmed</th>\n",
              "      <th>TotalConfirmed</th>\n",
              "      <th>NewDeaths</th>\n",
              "      <th>TotalDeaths</th>\n",
              "      <th>NewRecovered</th>\n",
              "      <th>TotalRecovered</th>\n",
              "      <th>Date</th>\n",
              "      <th>Premium</th>\n",
              "    </tr>\n",
              "  </thead>\n",
              "  <tbody>\n",
              "    <tr>\n",
              "      <th>36</th>\n",
              "      <td>4b76da6b-04ce-465f-b384-51753185e22c</td>\n",
              "      <td>Colombia</td>\n",
              "      <td>CO</td>\n",
              "      <td>colombia</td>\n",
              "      <td>17483</td>\n",
              "      <td>2536198</td>\n",
              "      <td>281</td>\n",
              "      <td>65889</td>\n",
              "      <td>8609</td>\n",
              "      <td>2383785</td>\n",
              "      <td>2021-04-13T02:28:22.158Z</td>\n",
              "      <td>{}</td>\n",
              "    </tr>\n",
              "  </tbody>\n",
              "</table>\n",
              "</div>"
            ],
            "text/plain": [
              "                                      ID  ... Premium\n",
              "36  4b76da6b-04ce-465f-b384-51753185e22c  ...      {}\n",
              "\n",
              "[1 rows x 12 columns]"
            ]
          },
          "metadata": {
            "tags": []
          },
          "execution_count": 58
        }
      ]
    },
    {
      "cell_type": "code",
      "metadata": {
        "id": "QQxJ3YL7DsRx"
      },
      "source": [
        "colombia_num = colombia[['TotalConfirmed', 'TotalDeaths', 'TotalRecovered']]"
      ],
      "execution_count": 21,
      "outputs": []
    },
    {
      "cell_type": "code",
      "metadata": {
        "colab": {
          "base_uri": "https://localhost:8080/",
          "height": 80
        },
        "id": "zyUD4UfYECwb",
        "outputId": "32982cfa-d0b7-4ebf-ebb2-c29dc18b7ea8"
      },
      "source": [
        "colombia_num.head()"
      ],
      "execution_count": null,
      "outputs": [
        {
          "output_type": "execute_result",
          "data": {
            "text/html": [
              "<div>\n",
              "<style scoped>\n",
              "    .dataframe tbody tr th:only-of-type {\n",
              "        vertical-align: middle;\n",
              "    }\n",
              "\n",
              "    .dataframe tbody tr th {\n",
              "        vertical-align: top;\n",
              "    }\n",
              "\n",
              "    .dataframe thead th {\n",
              "        text-align: right;\n",
              "    }\n",
              "</style>\n",
              "<table border=\"1\" class=\"dataframe\">\n",
              "  <thead>\n",
              "    <tr style=\"text-align: right;\">\n",
              "      <th></th>\n",
              "      <th>TotalConfirmed</th>\n",
              "      <th>TotalDeaths</th>\n",
              "      <th>TotalRecovered</th>\n",
              "    </tr>\n",
              "  </thead>\n",
              "  <tbody>\n",
              "    <tr>\n",
              "      <th>36</th>\n",
              "      <td>2536198</td>\n",
              "      <td>65889</td>\n",
              "      <td>2383785</td>\n",
              "    </tr>\n",
              "  </tbody>\n",
              "</table>\n",
              "</div>"
            ],
            "text/plain": [
              "    TotalConfirmed  TotalDeaths  TotalRecovered\n",
              "36         2536198        65889         2383785"
            ]
          },
          "metadata": {
            "tags": []
          },
          "execution_count": 68
        }
      ]
    },
    {
      "cell_type": "code",
      "metadata": {
        "colab": {
          "base_uri": "https://localhost:8080/"
        },
        "id": "khOkms3rFsYV",
        "outputId": "04373611-b7ed-4612-eb97-344f5336e327"
      },
      "source": [
        "casos_activos = (colombia_num['TotalConfirmed'] - colombia_num['TotalRecovered'] - colombia_num['TotalDeaths'])\n",
        "casos_activos"
      ],
      "execution_count": null,
      "outputs": [
        {
          "output_type": "execute_result",
          "data": {
            "text/plain": [
              "36    86524\n",
              "dtype: int64"
            ]
          },
          "metadata": {
            "tags": []
          },
          "execution_count": 83
        }
      ]
    },
    {
      "cell_type": "code",
      "metadata": {
        "id": "12GtchM0C5Ul",
        "colab": {
          "base_uri": "https://localhost:8080/",
          "height": 480
        },
        "outputId": "8052f75b-4739-45c6-f0d8-406a525d1653"
      },
      "source": [
        "import matplotlib.pyplot as plt\n",
        "\n",
        "activos = (colombia_num['TotalConfirmed'].sum()-colombia_num['TotalDeaths'].sum()-colombia_num['TotalRecovered'].sum())\n",
        "\n",
        "values = [activos, colombia_num['TotalDeaths'].sum(), colombia_num['TotalRecovered'].sum()]\n",
        "nombres = ['TotalActivos', 'TotalDeaths', 'TotalRecovered']\n",
        "desfase = (0, 0.1, 0)\n",
        "\n",
        "plt.pie(values, labels=nombres, autopct=\"%0.1f %%\", explode=desfase)\n",
        "plt.axis(\"equal\")\n",
        "plt.show()"
      ],
      "execution_count": 22,
      "outputs": [
        {
          "output_type": "display_data",
          "data": {
            "image/png": "[encoded data removed]",
            "text/plain": [
              "<Figure size 842.4x595.44 with 1 Axes>"
            ]
          },
          "metadata": {
            "tags": []
          }
        }
      ]
    },
    {
      "cell_type": "code",
      "metadata": {
        "colab": {
          "base_uri": "https://localhost:8080/",
          "height": 532
        },
        "id": "0tUJ8uuxIJ0a",
        "outputId": "80f5c6f2-afd8-4d01-cec1-72490685d2ed"
      },
      "source": [
        "colombia_num.plot(kind='bar')"
      ],
      "execution_count": null,
      "outputs": [
        {
          "output_type": "execute_result",
          "data": {
            "text/plain": [
              "<matplotlib.axes._subplots.AxesSubplot at 0x7fd628b19190>"
            ]
          },
          "metadata": {
            "tags": []
          },
          "execution_count": 84
        },
        {
          "output_type": "display_data",
          "data": {
            "image/png": "[encoded data removed]",
            "text/plain": [
              "<Figure size 842.4x595.44 with 1 Axes>"
            ]
          },
          "metadata": {
            "tags": []
          }
        }
      ]
    },
    {
      "cell_type": "code",
      "metadata": {
        "colab": {
          "base_uri": "https://localhost:8080/"
        },
        "id": "2lhv9LddY-Lm",
        "outputId": "68e26c74-1b59-4cd0-98c1-688ded984e41"
      },
      "source": [
        "total_muertes = covid['TotalDeaths'].sum()\n",
        "total_muertes"
      ],
      "execution_count": 26,
      "outputs": [
        {
          "output_type": "execute_result",
          "data": {
            "text/plain": [
              "3017063"
            ]
          },
          "metadata": {
            "tags": []
          },
          "execution_count": 26
        }
      ]
    },
    {
      "cell_type": "code",
      "metadata": {
        "colab": {
          "base_uri": "https://localhost:8080/"
        },
        "id": "FyjCZHodZXRF",
        "outputId": "6c6605ce-63f2-45f0-c557-18846596e989"
      },
      "source": [
        "por_muer_col = (colombia['TotalDeaths'].sum() * 100) / total_muertes\n",
        "print('Colombia representa un porcentaje de muertes totales del %.5f' % por_muer_col)"
      ],
      "execution_count": null,
      "outputs": [
        {
          "output_type": "stream",
          "text": [
            "Colombia representa un porcentaje de muertes totales del 2.24319\n"
          ],
          "name": "stdout"
        }
      ]
    },
    {
      "cell_type": "code",
      "metadata": {
        "colab": {
          "base_uri": "https://localhost:8080/"
        },
        "id": "XhpjCmuFZxGR",
        "outputId": "fd80d5d1-26fa-444b-f367-2be359ca569e"
      },
      "source": [
        "total_casos = covid['TotalConfirmed'].sum()\n",
        "por_conf_col = (colombia['TotalConfirmed'].sum() * 100) / total_casos\n",
        "por_conf_col"
      ],
      "execution_count": 25,
      "outputs": [
        {
          "output_type": "execute_result",
          "data": {
            "text/plain": [
              "1.8787399081483909"
            ]
          },
          "metadata": {
            "tags": []
          },
          "execution_count": 25
        }
      ]
    },
    {
      "cell_type": "code",
      "metadata": {
        "colab": {
          "base_uri": "https://localhost:8080/"
        },
        "id": "FjR5OujEZ4dN",
        "outputId": "55f72933-ff57-4782-fc61-f0bba29887df"
      },
      "source": [
        "total_recuperados = covid['TotalRecovered'].sum()\n",
        "por_recu_col = (colombia['TotalRecovered'].sum() * 100) / total_recuperados\n",
        "por_recu_col"
      ],
      "execution_count": 24,
      "outputs": [
        {
          "output_type": "execute_result",
          "data": {
            "text/plain": [
              "3.0605637955628415"
            ]
          },
          "metadata": {
            "tags": []
          },
          "execution_count": 24
        }
      ]
    },
    {
      "cell_type": "code",
      "metadata": {
        "colab": {
          "base_uri": "https://localhost:8080/"
        },
        "id": "ZxHRpjQtaKHw",
        "outputId": "d013d2eb-3e6b-4ae6-a7e7-98324db12a4b"
      },
      "source": [
        "activos = total_casos - total_recuperados - total_muertes\n",
        "activos_colombia = colombia['TotalConfirmed'].sum() - colombia['TotalDeaths'].sum() -colombia['TotalRecovered'].sum()\n",
        "por_act_col = (activos_colombia * 100) / activos\n",
        "por_act_col"
      ],
      "execution_count": 27,
      "outputs": [
        {
          "output_type": "execute_result",
          "data": {
            "text/plain": [
              "0.19694193934144397"
            ]
          },
          "metadata": {
            "tags": []
          },
          "execution_count": 27
        }
      ]
    },
    {
      "cell_type": "code",
      "metadata": {
        "colab": {
          "base_uri": "https://localhost:8080/"
        },
        "id": "NMNwx_b0d6YQ",
        "outputId": "3c979de5-fc76-4324-ccaa-e1919ad16573"
      },
      "source": [
        "por_muer_glo = (covid['TotalDeaths'].sum()*100)/covid['TotalConfirmed'].sum()\n",
        "por_muer_glo"
      ],
      "execution_count": null,
      "outputs": [
        {
          "output_type": "execute_result",
          "data": {
            "text/plain": [
              "2.1586733520143517"
            ]
          },
          "metadata": {
            "tags": []
          },
          "execution_count": 127
        }
      ]
    },
    {
      "cell_type": "markdown",
      "metadata": {
        "id": "DbUxTqArJ3fB"
      },
      "source": [
        "### Dataset Vinos"
      ]
    },
    {
      "cell_type": "code",
      "metadata": {
        "id": "kQU3RFFxJ5pa"
      },
      "source": [
        "from sklearn import datasets"
      ],
      "execution_count": null,
      "outputs": []
    },
    {
      "cell_type": "code",
      "metadata": {
        "id": "GZJNb1lgxopn"
      },
      "source": [
        "data = datasets.load_wine()"
      ],
      "execution_count": null,
      "outputs": []
    },
    {
      "cell_type": "code",
      "metadata": {
        "id": "MtFMJivOxwJY"
      },
      "source": [
        "vino = pd.DataFrame(data.data, columns=data.feature_names)\n",
        "vino['wine_class'] = data.target"
      ],
      "execution_count": null,
      "outputs": []
    },
    {
      "cell_type": "code",
      "metadata": {
        "colab": {
          "base_uri": "https://localhost:8080/"
        },
        "id": "DCpVyuI-yNIc",
        "outputId": "141e7670-2a3a-47de-f511-44b762c5e8c8"
      },
      "source": [
        "vino.info()"
      ],
      "execution_count": null,
      "outputs": [
        {
          "output_type": "stream",
          "text": [
            "<class 'pandas.core.frame.DataFrame'>\n",
            "RangeIndex: 178 entries, 0 to 177\n",
            "Data columns (total 14 columns):\n",
            " #   Column                        Non-Null Count  Dtype  \n",
            "---  ------                        --------------  -----  \n",
            " 0   alcohol                       178 non-null    float64\n",
            " 1   malic_acid                    178 non-null    float64\n",
            " 2   ash                           178 non-null    float64\n",
            " 3   alcalinity_of_ash             178 non-null    float64\n",
            " 4   magnesium                     178 non-null    float64\n",
            " 5   total_phenols                 178 non-null    float64\n",
            " 6   flavanoids                    178 non-null    float64\n",
            " 7   nonflavanoid_phenols          178 non-null    float64\n",
            " 8   proanthocyanins               178 non-null    float64\n",
            " 9   color_intensity               178 non-null    float64\n",
            " 10  hue                           178 non-null    float64\n",
            " 11  od280/od315_of_diluted_wines  178 non-null    float64\n",
            " 12  proline                       178 non-null    float64\n",
            " 13  wine_class                    178 non-null    int64  \n",
            "dtypes: float64(13), int64(1)\n",
            "memory usage: 19.6 KB\n"
          ],
          "name": "stdout"
        }
      ]
    },
    {
      "cell_type": "code",
      "metadata": {
        "colab": {
          "base_uri": "https://localhost:8080/",
          "height": 317
        },
        "id": "zPkN_Am1yPNW",
        "outputId": "974e84fe-5c15-4a94-dd18-9a8f949bbe6f"
      },
      "source": [
        "vino.describe()"
      ],
      "execution_count": null,
      "outputs": [
        {
          "output_type": "execute_result",
          "data": {
            "text/html": [
              "<div>\n",
              "<style scoped>\n",
              "    .dataframe tbody tr th:only-of-type {\n",
              "        vertical-align: middle;\n",
              "    }\n",
              "\n",
              "    .dataframe tbody tr th {\n",
              "        vertical-align: top;\n",
              "    }\n",
              "\n",
              "    .dataframe thead th {\n",
              "        text-align: right;\n",
              "    }\n",
              "</style>\n",
              "<table border=\"1\" class=\"dataframe\">\n",
              "  <thead>\n",
              "    <tr style=\"text-align: right;\">\n",
              "      <th></th>\n",
              "      <th>alcohol</th>\n",
              "      <th>malic_acid</th>\n",
              "      <th>ash</th>\n",
              "      <th>alcalinity_of_ash</th>\n",
              "      <th>magnesium</th>\n",
              "      <th>total_phenols</th>\n",
              "      <th>flavanoids</th>\n",
              "      <th>nonflavanoid_phenols</th>\n",
              "      <th>proanthocyanins</th>\n",
              "      <th>color_intensity</th>\n",
              "      <th>hue</th>\n",
              "      <th>od280/od315_of_diluted_wines</th>\n",
              "      <th>proline</th>\n",
              "      <th>wine_class</th>\n",
              "    </tr>\n",
              "  </thead>\n",
              "  <tbody>\n",
              "    <tr>\n",
              "      <th>count</th>\n",
              "      <td>178.000000</td>\n",
              "      <td>178.000000</td>\n",
              "      <td>178.000000</td>\n",
              "      <td>178.000000</td>\n",
              "      <td>178.000000</td>\n",
              "      <td>178.000000</td>\n",
              "      <td>178.000000</td>\n",
              "      <td>178.000000</td>\n",
              "      <td>178.000000</td>\n",
              "      <td>178.000000</td>\n",
              "      <td>178.000000</td>\n",
              "      <td>178.000000</td>\n",
              "      <td>178.000000</td>\n",
              "      <td>178.000000</td>\n",
              "    </tr>\n",
              "    <tr>\n",
              "      <th>mean</th>\n",
              "      <td>13.000618</td>\n",
              "      <td>2.336348</td>\n",
              "      <td>2.366517</td>\n",
              "      <td>19.494944</td>\n",
              "      <td>99.741573</td>\n",
              "      <td>2.295112</td>\n",
              "      <td>2.029270</td>\n",
              "      <td>0.361854</td>\n",
              "      <td>1.590899</td>\n",
              "      <td>5.058090</td>\n",
              "      <td>0.957449</td>\n",
              "      <td>2.611685</td>\n",
              "      <td>746.893258</td>\n",
              "      <td>0.938202</td>\n",
              "    </tr>\n",
              "    <tr>\n",
              "      <th>std</th>\n",
              "      <td>0.811827</td>\n",
              "      <td>1.117146</td>\n",
              "      <td>0.274344</td>\n",
              "      <td>3.339564</td>\n",
              "      <td>14.282484</td>\n",
              "      <td>0.625851</td>\n",
              "      <td>0.998859</td>\n",
              "      <td>0.124453</td>\n",
              "      <td>0.572359</td>\n",
              "      <td>2.318286</td>\n",
              "      <td>0.228572</td>\n",
              "      <td>0.709990</td>\n",
              "      <td>314.907474</td>\n",
              "      <td>0.775035</td>\n",
              "    </tr>\n",
              "    <tr>\n",
              "      <th>min</th>\n",
              "      <td>11.030000</td>\n",
              "      <td>0.740000</td>\n",
              "      <td>1.360000</td>\n",
              "      <td>10.600000</td>\n",
              "      <td>70.000000</td>\n",
              "      <td>0.980000</td>\n",
              "      <td>0.340000</td>\n",
              "      <td>0.130000</td>\n",
              "      <td>0.410000</td>\n",
              "      <td>1.280000</td>\n",
              "      <td>0.480000</td>\n",
              "      <td>1.270000</td>\n",
              "      <td>278.000000</td>\n",
              "      <td>0.000000</td>\n",
              "    </tr>\n",
              "    <tr>\n",
              "      <th>25%</th>\n",
              "      <td>12.362500</td>\n",
              "      <td>1.602500</td>\n",
              "      <td>2.210000</td>\n",
              "      <td>17.200000</td>\n",
              "      <td>88.000000</td>\n",
              "      <td>1.742500</td>\n",
              "      <td>1.205000</td>\n",
              "      <td>0.270000</td>\n",
              "      <td>1.250000</td>\n",
              "      <td>3.220000</td>\n",
              "      <td>0.782500</td>\n",
              "      <td>1.937500</td>\n",
              "      <td>500.500000</td>\n",
              "      <td>0.000000</td>\n",
              "    </tr>\n",
              "    <tr>\n",
              "      <th>50%</th>\n",
              "      <td>13.050000</td>\n",
              "      <td>1.865000</td>\n",
              "      <td>2.360000</td>\n",
              "      <td>19.500000</td>\n",
              "      <td>98.000000</td>\n",
              "      <td>2.355000</td>\n",
              "      <td>2.135000</td>\n",
              "      <td>0.340000</td>\n",
              "      <td>1.555000</td>\n",
              "      <td>4.690000</td>\n",
              "      <td>0.965000</td>\n",
              "      <td>2.780000</td>\n",
              "      <td>673.500000</td>\n",
              "      <td>1.000000</td>\n",
              "    </tr>\n",
              "    <tr>\n",
              "      <th>75%</th>\n",
              "      <td>13.677500</td>\n",
              "      <td>3.082500</td>\n",
              "      <td>2.557500</td>\n",
              "      <td>21.500000</td>\n",
              "      <td>107.000000</td>\n",
              "      <td>2.800000</td>\n",
              "      <td>2.875000</td>\n",
              "      <td>0.437500</td>\n",
              "      <td>1.950000</td>\n",
              "      <td>6.200000</td>\n",
              "      <td>1.120000</td>\n",
              "      <td>3.170000</td>\n",
              "      <td>985.000000</td>\n",
              "      <td>2.000000</td>\n",
              "    </tr>\n",
              "    <tr>\n",
              "      <th>max</th>\n",
              "      <td>14.830000</td>\n",
              "      <td>5.800000</td>\n",
              "      <td>3.230000</td>\n",
              "      <td>30.000000</td>\n",
              "      <td>162.000000</td>\n",
              "      <td>3.880000</td>\n",
              "      <td>5.080000</td>\n",
              "      <td>0.660000</td>\n",
              "      <td>3.580000</td>\n",
              "      <td>13.000000</td>\n",
              "      <td>1.710000</td>\n",
              "      <td>4.000000</td>\n",
              "      <td>1680.000000</td>\n",
              "      <td>2.000000</td>\n",
              "    </tr>\n",
              "  </tbody>\n",
              "</table>\n",
              "</div>"
            ],
            "text/plain": [
              "          alcohol  malic_acid  ...      proline  wine_class\n",
              "count  178.000000  178.000000  ...   178.000000  178.000000\n",
              "mean    13.000618    2.336348  ...   746.893258    0.938202\n",
              "std      0.811827    1.117146  ...   314.907474    0.775035\n",
              "min     11.030000    0.740000  ...   278.000000    0.000000\n",
              "25%     12.362500    1.602500  ...   500.500000    0.000000\n",
              "50%     13.050000    1.865000  ...   673.500000    1.000000\n",
              "75%     13.677500    3.082500  ...   985.000000    2.000000\n",
              "max     14.830000    5.800000  ...  1680.000000    2.000000\n",
              "\n",
              "[8 rows x 14 columns]"
            ]
          },
          "metadata": {
            "tags": []
          },
          "execution_count": 10
        }
      ]
    },
    {
      "cell_type": "code",
      "metadata": {
        "colab": {
          "base_uri": "https://localhost:8080/",
          "height": 819
        },
        "id": "_Cy_yGH1yf9b",
        "outputId": "035028f4-9765-4689-c97c-531e341f2bf4"
      },
      "source": [
        "rows = 2\n",
        "cols = 7\n",
        "\n",
        "fig, ax = plt.subplots(nrows=rows, ncols=cols, figsize=(20,5))\n",
        "\n",
        "col = vino.columns\n",
        "index = 0\n",
        "\n",
        "for i in range(rows):\n",
        "    for j in range(cols):\n",
        "        sb.distplot(vino[col[index]], ax=ax[i][j])\n",
        "        index += 1\n",
        "\n",
        "plt.tight_layout()"
      ],
      "execution_count": null,
      "outputs": [
        {
          "output_type": "stream",
          "text": [
            "/usr/local/lib/python3.7/dist-packages/seaborn/distributions.py:2557: FutureWarning: `distplot` is a deprecated function and will be removed in a future version. Please adapt your code to use either `displot` (a figure-level function with similar flexibility) or `histplot` (an axes-level function for histograms).\n",
            "  warnings.warn(msg, FutureWarning)\n",
            "/usr/local/lib/python3.7/dist-packages/seaborn/distributions.py:2557: FutureWarning: `distplot` is a deprecated function and will be removed in a future version. Please adapt your code to use either `displot` (a figure-level function with similar flexibility) or `histplot` (an axes-level function for histograms).\n",
            "  warnings.warn(msg, FutureWarning)\n",
            "/usr/local/lib/python3.7/dist-packages/seaborn/distributions.py:2557: FutureWarning: `distplot` is a deprecated function and will be removed in a future version. Please adapt your code to use either `displot` (a figure-level function with similar flexibility) or `histplot` (an axes-level function for histograms).\n",
            "  warnings.warn(msg, FutureWarning)\n",
            "/usr/local/lib/python3.7/dist-packages/seaborn/distributions.py:2557: FutureWarning: `distplot` is a deprecated function and will be removed in a future version. Please adapt your code to use either `displot` (a figure-level function with similar flexibility) or `histplot` (an axes-level function for histograms).\n",
            "  warnings.warn(msg, FutureWarning)\n",
            "/usr/local/lib/python3.7/dist-packages/seaborn/distributions.py:2557: FutureWarning: `distplot` is a deprecated function and will be removed in a future version. Please adapt your code to use either `displot` (a figure-level function with similar flexibility) or `histplot` (an axes-level function for histograms).\n",
            "  warnings.warn(msg, FutureWarning)\n",
            "/usr/local/lib/python3.7/dist-packages/seaborn/distributions.py:2557: FutureWarning: `distplot` is a deprecated function and will be removed in a future version. Please adapt your code to use either `displot` (a figure-level function with similar flexibility) or `histplot` (an axes-level function for histograms).\n",
            "  warnings.warn(msg, FutureWarning)\n",
            "/usr/local/lib/python3.7/dist-packages/seaborn/distributions.py:2557: FutureWarning: `distplot` is a deprecated function and will be removed in a future version. Please adapt your code to use either `displot` (a figure-level function with similar flexibility) or `histplot` (an axes-level function for histograms).\n",
            "  warnings.warn(msg, FutureWarning)\n",
            "/usr/local/lib/python3.7/dist-packages/seaborn/distributions.py:2557: FutureWarning: `distplot` is a deprecated function and will be removed in a future version. Please adapt your code to use either `displot` (a figure-level function with similar flexibility) or `histplot` (an axes-level function for histograms).\n",
            "  warnings.warn(msg, FutureWarning)\n",
            "/usr/local/lib/python3.7/dist-packages/seaborn/distributions.py:2557: FutureWarning: `distplot` is a deprecated function and will be removed in a future version. Please adapt your code to use either `displot` (a figure-level function with similar flexibility) or `histplot` (an axes-level function for histograms).\n",
            "  warnings.warn(msg, FutureWarning)\n",
            "/usr/local/lib/python3.7/dist-packages/seaborn/distributions.py:2557: FutureWarning: `distplot` is a deprecated function and will be removed in a future version. Please adapt your code to use either `displot` (a figure-level function with similar flexibility) or `histplot` (an axes-level function for histograms).\n",
            "  warnings.warn(msg, FutureWarning)\n",
            "/usr/local/lib/python3.7/dist-packages/seaborn/distributions.py:2557: FutureWarning: `distplot` is a deprecated function and will be removed in a future version. Please adapt your code to use either `displot` (a figure-level function with similar flexibility) or `histplot` (an axes-level function for histograms).\n",
            "  warnings.warn(msg, FutureWarning)\n",
            "/usr/local/lib/python3.7/dist-packages/seaborn/distributions.py:2557: FutureWarning: `distplot` is a deprecated function and will be removed in a future version. Please adapt your code to use either `displot` (a figure-level function with similar flexibility) or `histplot` (an axes-level function for histograms).\n",
            "  warnings.warn(msg, FutureWarning)\n",
            "/usr/local/lib/python3.7/dist-packages/seaborn/distributions.py:2557: FutureWarning: `distplot` is a deprecated function and will be removed in a future version. Please adapt your code to use either `displot` (a figure-level function with similar flexibility) or `histplot` (an axes-level function for histograms).\n",
            "  warnings.warn(msg, FutureWarning)\n",
            "/usr/local/lib/python3.7/dist-packages/seaborn/distributions.py:2557: FutureWarning: `distplot` is a deprecated function and will be removed in a future version. Please adapt your code to use either `displot` (a figure-level function with similar flexibility) or `histplot` (an axes-level function for histograms).\n",
            "  warnings.warn(msg, FutureWarning)\n"
          ],
          "name": "stderr"
        },
        {
          "output_type": "display_data",
          "data": {
            "image/png": "[encoded data removed]",
            "text/plain": [
              "<Figure size 1440x360 with 14 Axes>"
            ]
          },
          "metadata": {
            "tags": [],
            "needs_background": "light"
          }
        }
      ]
    },
    {
      "cell_type": "markdown",
      "metadata": {
        "id": "34EmDbzi0wZn"
      },
      "source": [
        "#### Medidas de tendencia central"
      ]
    },
    {
      "cell_type": "code",
      "metadata": {
        "colab": {
          "base_uri": "https://localhost:8080/"
        },
        "id": "U6MRvwE40wZo",
        "outputId": "8127da74-84b3-45ee-b133-e098fcab675b"
      },
      "source": [
        "std = vino.std(ddof=0)\n",
        "\n",
        "var = vino.var(ddof=0)\n",
        "std2 = np.sqrt(var)\n",
        "\n",
        "std"
      ],
      "execution_count": null,
      "outputs": [
        {
          "output_type": "execute_result",
          "data": {
            "text/plain": [
              "alcohol                             0.655360\n",
              "malic_acid                          1.241004\n",
              "ash                                 0.074842\n",
              "alcalinity_of_ash                  11.090031\n",
              "magnesium                         202.843328\n",
              "total_phenols                       0.389489\n",
              "flavanoids                          0.992114\n",
              "nonflavanoid_phenols                0.015402\n",
              "proanthocyanins                     0.325754\n",
              "color_intensity                     5.344256\n",
              "hue                                 0.051951\n",
              "od280/od315_of_diluted_wines        0.501254\n",
              "proline                         98609.600966\n",
              "wine_class                          0.597305\n",
              "dtype: float64"
            ]
          },
          "metadata": {
            "tags": []
          },
          "execution_count": 19
        }
      ]
    },
    {
      "cell_type": "code",
      "metadata": {
        "colab": {
          "base_uri": "https://localhost:8080/"
        },
        "id": "i7v2u2Yh1LSu",
        "outputId": "401a180d-61e8-4c43-9b64-af664fb68e49"
      },
      "source": [
        "var"
      ],
      "execution_count": null,
      "outputs": [
        {
          "output_type": "execute_result",
          "data": {
            "text/plain": [
              "alcohol                             0.655360\n",
              "malic_acid                          1.241004\n",
              "ash                                 0.074842\n",
              "alcalinity_of_ash                  11.090031\n",
              "magnesium                         202.843328\n",
              "total_phenols                       0.389489\n",
              "flavanoids                          0.992114\n",
              "nonflavanoid_phenols                0.015402\n",
              "proanthocyanins                     0.325754\n",
              "color_intensity                     5.344256\n",
              "hue                                 0.051951\n",
              "od280/od315_of_diluted_wines        0.501254\n",
              "proline                         98609.600966\n",
              "wine_class                          0.597305\n",
              "dtype: float64"
            ]
          },
          "metadata": {
            "tags": []
          },
          "execution_count": 20
        }
      ]
    },
    {
      "cell_type": "code",
      "metadata": {
        "colab": {
          "base_uri": "https://localhost:8080/"
        },
        "id": "v4dOrBAe0wZ3",
        "outputId": "ca527430-96d6-4b5f-c29a-fa9964a8fb2f"
      },
      "source": [
        "import scipy.stats as ss\n",
        "\n",
        "# Coeficiente de variación\n",
        "cv2 = ss.variation(vino)\n",
        "cv2"
      ],
      "execution_count": null,
      "outputs": [
        {
          "output_type": "execute_result",
          "data": {
            "text/plain": [
              "array([0.06226957, 0.47681402, 0.11560124, 0.17082223, 0.14279209,\n",
              "       0.27192157, 0.4908411 , 0.34296507, 0.35875872, 0.45704302,\n",
              "       0.23805811, 0.27108673, 0.42043713, 0.82376147])"
            ]
          },
          "metadata": {
            "tags": []
          },
          "execution_count": 23
        }
      ]
    },
    {
      "cell_type": "code",
      "metadata": {
        "colab": {
          "base_uri": "https://localhost:8080/",
          "height": 503
        },
        "id": "6Ww-t2L00wZ4",
        "outputId": "81324395-0d79-499a-83cd-e21a02dc9d40"
      },
      "source": [
        "# Covarianza\n",
        "vino.cov()"
      ],
      "execution_count": null,
      "outputs": [
        {
          "output_type": "execute_result",
          "data": {
            "text/html": [
              "<div>\n",
              "<style scoped>\n",
              "    .dataframe tbody tr th:only-of-type {\n",
              "        vertical-align: middle;\n",
              "    }\n",
              "\n",
              "    .dataframe tbody tr th {\n",
              "        vertical-align: top;\n",
              "    }\n",
              "\n",
              "    .dataframe thead th {\n",
              "        text-align: right;\n",
              "    }\n",
              "</style>\n",
              "<table border=\"1\" class=\"dataframe\">\n",
              "  <thead>\n",
              "    <tr style=\"text-align: right;\">\n",
              "      <th></th>\n",
              "      <th>alcohol</th>\n",
              "      <th>malic_acid</th>\n",
              "      <th>ash</th>\n",
              "      <th>alcalinity_of_ash</th>\n",
              "      <th>magnesium</th>\n",
              "      <th>total_phenols</th>\n",
              "      <th>flavanoids</th>\n",
              "      <th>nonflavanoid_phenols</th>\n",
              "      <th>proanthocyanins</th>\n",
              "      <th>color_intensity</th>\n",
              "      <th>hue</th>\n",
              "      <th>od280/od315_of_diluted_wines</th>\n",
              "      <th>proline</th>\n",
              "      <th>wine_class</th>\n",
              "    </tr>\n",
              "  </thead>\n",
              "  <tbody>\n",
              "    <tr>\n",
              "      <th>alcohol</th>\n",
              "      <td>0.659062</td>\n",
              "      <td>0.085611</td>\n",
              "      <td>0.047115</td>\n",
              "      <td>-0.841093</td>\n",
              "      <td>3.139878</td>\n",
              "      <td>0.146887</td>\n",
              "      <td>0.192033</td>\n",
              "      <td>-0.015754</td>\n",
              "      <td>0.063518</td>\n",
              "      <td>1.028283</td>\n",
              "      <td>-0.013313</td>\n",
              "      <td>0.041698</td>\n",
              "      <td>164.567185</td>\n",
              "      <td>-0.206515</td>\n",
              "    </tr>\n",
              "    <tr>\n",
              "      <th>malic_acid</th>\n",
              "      <td>0.085611</td>\n",
              "      <td>1.248015</td>\n",
              "      <td>0.050277</td>\n",
              "      <td>1.076332</td>\n",
              "      <td>-0.870780</td>\n",
              "      <td>-0.234338</td>\n",
              "      <td>-0.458630</td>\n",
              "      <td>0.040733</td>\n",
              "      <td>-0.141147</td>\n",
              "      <td>0.644838</td>\n",
              "      <td>-0.143326</td>\n",
              "      <td>-0.292447</td>\n",
              "      <td>-67.548867</td>\n",
              "      <td>0.379039</td>\n",
              "    </tr>\n",
              "    <tr>\n",
              "      <th>ash</th>\n",
              "      <td>0.047115</td>\n",
              "      <td>0.050277</td>\n",
              "      <td>0.075265</td>\n",
              "      <td>0.406208</td>\n",
              "      <td>1.122937</td>\n",
              "      <td>0.022146</td>\n",
              "      <td>0.031535</td>\n",
              "      <td>0.006358</td>\n",
              "      <td>0.001516</td>\n",
              "      <td>0.164654</td>\n",
              "      <td>-0.004682</td>\n",
              "      <td>0.000762</td>\n",
              "      <td>19.319739</td>\n",
              "      <td>-0.010555</td>\n",
              "    </tr>\n",
              "    <tr>\n",
              "      <th>alcalinity_of_ash</th>\n",
              "      <td>-0.841093</td>\n",
              "      <td>1.076332</td>\n",
              "      <td>0.406208</td>\n",
              "      <td>11.152686</td>\n",
              "      <td>-3.974760</td>\n",
              "      <td>-0.671149</td>\n",
              "      <td>-1.172083</td>\n",
              "      <td>0.150422</td>\n",
              "      <td>-0.377176</td>\n",
              "      <td>0.145024</td>\n",
              "      <td>-0.209118</td>\n",
              "      <td>-0.656234</td>\n",
              "      <td>-463.355345</td>\n",
              "      <td>1.340364</td>\n",
              "    </tr>\n",
              "    <tr>\n",
              "      <th>magnesium</th>\n",
              "      <td>3.139878</td>\n",
              "      <td>-0.870780</td>\n",
              "      <td>1.122937</td>\n",
              "      <td>-3.974760</td>\n",
              "      <td>203.989335</td>\n",
              "      <td>1.916470</td>\n",
              "      <td>2.793087</td>\n",
              "      <td>-0.455563</td>\n",
              "      <td>1.932832</td>\n",
              "      <td>6.620521</td>\n",
              "      <td>0.180851</td>\n",
              "      <td>0.669308</td>\n",
              "      <td>1769.158700</td>\n",
              "      <td>-2.315495</td>\n",
              "    </tr>\n",
              "    <tr>\n",
              "      <th>total_phenols</th>\n",
              "      <td>0.146887</td>\n",
              "      <td>-0.234338</td>\n",
              "      <td>0.022146</td>\n",
              "      <td>-0.671149</td>\n",
              "      <td>1.916470</td>\n",
              "      <td>0.391690</td>\n",
              "      <td>0.540470</td>\n",
              "      <td>-0.035045</td>\n",
              "      <td>0.219373</td>\n",
              "      <td>-0.079998</td>\n",
              "      <td>0.062039</td>\n",
              "      <td>0.311021</td>\n",
              "      <td>98.171057</td>\n",
              "      <td>-0.348835</td>\n",
              "    </tr>\n",
              "    <tr>\n",
              "      <th>flavanoids</th>\n",
              "      <td>0.192033</td>\n",
              "      <td>-0.458630</td>\n",
              "      <td>0.031535</td>\n",
              "      <td>-1.172083</td>\n",
              "      <td>2.793087</td>\n",
              "      <td>0.540470</td>\n",
              "      <td>0.997719</td>\n",
              "      <td>-0.066867</td>\n",
              "      <td>0.373148</td>\n",
              "      <td>-0.399169</td>\n",
              "      <td>0.124082</td>\n",
              "      <td>0.558262</td>\n",
              "      <td>155.447492</td>\n",
              "      <td>-0.656091</td>\n",
              "    </tr>\n",
              "    <tr>\n",
              "      <th>nonflavanoid_phenols</th>\n",
              "      <td>-0.015754</td>\n",
              "      <td>0.040733</td>\n",
              "      <td>0.006358</td>\n",
              "      <td>0.150422</td>\n",
              "      <td>-0.455563</td>\n",
              "      <td>-0.035045</td>\n",
              "      <td>-0.066867</td>\n",
              "      <td>0.015489</td>\n",
              "      <td>-0.026060</td>\n",
              "      <td>0.040121</td>\n",
              "      <td>-0.007471</td>\n",
              "      <td>-0.044469</td>\n",
              "      <td>-12.203586</td>\n",
              "      <td>0.047177</td>\n",
              "    </tr>\n",
              "    <tr>\n",
              "      <th>proanthocyanins</th>\n",
              "      <td>0.063518</td>\n",
              "      <td>-0.141147</td>\n",
              "      <td>0.001516</td>\n",
              "      <td>-0.377176</td>\n",
              "      <td>1.932832</td>\n",
              "      <td>0.219373</td>\n",
              "      <td>0.373148</td>\n",
              "      <td>-0.026060</td>\n",
              "      <td>0.327595</td>\n",
              "      <td>-0.033504</td>\n",
              "      <td>0.038665</td>\n",
              "      <td>0.210933</td>\n",
              "      <td>59.554334</td>\n",
              "      <td>-0.221413</td>\n",
              "    </tr>\n",
              "    <tr>\n",
              "      <th>color_intensity</th>\n",
              "      <td>1.028283</td>\n",
              "      <td>0.644838</td>\n",
              "      <td>0.164654</td>\n",
              "      <td>0.145024</td>\n",
              "      <td>6.620521</td>\n",
              "      <td>-0.079998</td>\n",
              "      <td>-0.399169</td>\n",
              "      <td>0.040121</td>\n",
              "      <td>-0.033504</td>\n",
              "      <td>5.374449</td>\n",
              "      <td>-0.276506</td>\n",
              "      <td>-0.705813</td>\n",
              "      <td>230.767480</td>\n",
              "      <td>0.477339</td>\n",
              "    </tr>\n",
              "    <tr>\n",
              "      <th>hue</th>\n",
              "      <td>-0.013313</td>\n",
              "      <td>-0.143326</td>\n",
              "      <td>-0.004682</td>\n",
              "      <td>-0.209118</td>\n",
              "      <td>0.180851</td>\n",
              "      <td>0.062039</td>\n",
              "      <td>0.124082</td>\n",
              "      <td>-0.007471</td>\n",
              "      <td>0.038665</td>\n",
              "      <td>-0.276506</td>\n",
              "      <td>0.052245</td>\n",
              "      <td>0.091766</td>\n",
              "      <td>17.000223</td>\n",
              "      <td>-0.109368</td>\n",
              "    </tr>\n",
              "    <tr>\n",
              "      <th>od280/od315_of_diluted_wines</th>\n",
              "      <td>0.041698</td>\n",
              "      <td>-0.292447</td>\n",
              "      <td>0.000762</td>\n",
              "      <td>-0.656234</td>\n",
              "      <td>0.669308</td>\n",
              "      <td>0.311021</td>\n",
              "      <td>0.558262</td>\n",
              "      <td>-0.044469</td>\n",
              "      <td>0.210933</td>\n",
              "      <td>-0.705813</td>\n",
              "      <td>0.091766</td>\n",
              "      <td>0.504086</td>\n",
              "      <td>69.927526</td>\n",
              "      <td>-0.433737</td>\n",
              "    </tr>\n",
              "    <tr>\n",
              "      <th>proline</th>\n",
              "      <td>164.567185</td>\n",
              "      <td>-67.548867</td>\n",
              "      <td>19.319739</td>\n",
              "      <td>-463.355345</td>\n",
              "      <td>1769.158700</td>\n",
              "      <td>98.171057</td>\n",
              "      <td>155.447492</td>\n",
              "      <td>-12.203586</td>\n",
              "      <td>59.554334</td>\n",
              "      <td>230.767480</td>\n",
              "      <td>17.000223</td>\n",
              "      <td>69.927526</td>\n",
              "      <td>99166.717355</td>\n",
              "      <td>-154.667651</td>\n",
              "    </tr>\n",
              "    <tr>\n",
              "      <th>wine_class</th>\n",
              "      <td>-0.206515</td>\n",
              "      <td>0.379039</td>\n",
              "      <td>-0.010555</td>\n",
              "      <td>1.340364</td>\n",
              "      <td>-2.315495</td>\n",
              "      <td>-0.348835</td>\n",
              "      <td>-0.656091</td>\n",
              "      <td>0.047177</td>\n",
              "      <td>-0.221413</td>\n",
              "      <td>0.477339</td>\n",
              "      <td>-0.109368</td>\n",
              "      <td>-0.433737</td>\n",
              "      <td>-154.667651</td>\n",
              "      <td>0.600679</td>\n",
              "    </tr>\n",
              "  </tbody>\n",
              "</table>\n",
              "</div>"
            ],
            "text/plain": [
              "                                 alcohol  malic_acid  ...       proline  wine_class\n",
              "alcohol                         0.659062    0.085611  ...    164.567185   -0.206515\n",
              "malic_acid                      0.085611    1.248015  ...    -67.548867    0.379039\n",
              "ash                             0.047115    0.050277  ...     19.319739   -0.010555\n",
              "alcalinity_of_ash              -0.841093    1.076332  ...   -463.355345    1.340364\n",
              "magnesium                       3.139878   -0.870780  ...   1769.158700   -2.315495\n",
              "total_phenols                   0.146887   -0.234338  ...     98.171057   -0.348835\n",
              "flavanoids                      0.192033   -0.458630  ...    155.447492   -0.656091\n",
              "nonflavanoid_phenols           -0.015754    0.040733  ...    -12.203586    0.047177\n",
              "proanthocyanins                 0.063518   -0.141147  ...     59.554334   -0.221413\n",
              "color_intensity                 1.028283    0.644838  ...    230.767480    0.477339\n",
              "hue                            -0.013313   -0.143326  ...     17.000223   -0.109368\n",
              "od280/od315_of_diluted_wines    0.041698   -0.292447  ...     69.927526   -0.433737\n",
              "proline                       164.567185  -67.548867  ...  99166.717355 -154.667651\n",
              "wine_class                     -0.206515    0.379039  ...   -154.667651    0.600679\n",
              "\n",
              "[14 rows x 14 columns]"
            ]
          },
          "metadata": {
            "tags": []
          },
          "execution_count": 24
        }
      ]
    },
    {
      "cell_type": "code",
      "metadata": {
        "colab": {
          "base_uri": "https://localhost:8080/",
          "height": 503
        },
        "id": "EAyLYorc0wZ5",
        "outputId": "3875d911-3c39-4a5c-a63e-b095841ca5b7"
      },
      "source": [
        "# Correlacion\n",
        "vino.corr()"
      ],
      "execution_count": null,
      "outputs": [
        {
          "output_type": "execute_result",
          "data": {
            "text/html": [
              "<div>\n",
              "<style scoped>\n",
              "    .dataframe tbody tr th:only-of-type {\n",
              "        vertical-align: middle;\n",
              "    }\n",
              "\n",
              "    .dataframe tbody tr th {\n",
              "        vertical-align: top;\n",
              "    }\n",
              "\n",
              "    .dataframe thead th {\n",
              "        text-align: right;\n",
              "    }\n",
              "</style>\n",
              "<table border=\"1\" class=\"dataframe\">\n",
              "  <thead>\n",
              "    <tr style=\"text-align: right;\">\n",
              "      <th></th>\n",
              "      <th>alcohol</th>\n",
              "      <th>malic_acid</th>\n",
              "      <th>ash</th>\n",
              "      <th>alcalinity_of_ash</th>\n",
              "      <th>magnesium</th>\n",
              "      <th>total_phenols</th>\n",
              "      <th>flavanoids</th>\n",
              "      <th>nonflavanoid_phenols</th>\n",
              "      <th>proanthocyanins</th>\n",
              "      <th>color_intensity</th>\n",
              "      <th>hue</th>\n",
              "      <th>od280/od315_of_diluted_wines</th>\n",
              "      <th>proline</th>\n",
              "      <th>wine_class</th>\n",
              "    </tr>\n",
              "  </thead>\n",
              "  <tbody>\n",
              "    <tr>\n",
              "      <th>alcohol</th>\n",
              "      <td>1.000000</td>\n",
              "      <td>0.094397</td>\n",
              "      <td>0.211545</td>\n",
              "      <td>-0.310235</td>\n",
              "      <td>0.270798</td>\n",
              "      <td>0.289101</td>\n",
              "      <td>0.236815</td>\n",
              "      <td>-0.155929</td>\n",
              "      <td>0.136698</td>\n",
              "      <td>0.546364</td>\n",
              "      <td>-0.071747</td>\n",
              "      <td>0.072343</td>\n",
              "      <td>0.643720</td>\n",
              "      <td>-0.328222</td>\n",
              "    </tr>\n",
              "    <tr>\n",
              "      <th>malic_acid</th>\n",
              "      <td>0.094397</td>\n",
              "      <td>1.000000</td>\n",
              "      <td>0.164045</td>\n",
              "      <td>0.288500</td>\n",
              "      <td>-0.054575</td>\n",
              "      <td>-0.335167</td>\n",
              "      <td>-0.411007</td>\n",
              "      <td>0.292977</td>\n",
              "      <td>-0.220746</td>\n",
              "      <td>0.248985</td>\n",
              "      <td>-0.561296</td>\n",
              "      <td>-0.368710</td>\n",
              "      <td>-0.192011</td>\n",
              "      <td>0.437776</td>\n",
              "    </tr>\n",
              "    <tr>\n",
              "      <th>ash</th>\n",
              "      <td>0.211545</td>\n",
              "      <td>0.164045</td>\n",
              "      <td>1.000000</td>\n",
              "      <td>0.443367</td>\n",
              "      <td>0.286587</td>\n",
              "      <td>0.128980</td>\n",
              "      <td>0.115077</td>\n",
              "      <td>0.186230</td>\n",
              "      <td>0.009652</td>\n",
              "      <td>0.258887</td>\n",
              "      <td>-0.074667</td>\n",
              "      <td>0.003911</td>\n",
              "      <td>0.223626</td>\n",
              "      <td>-0.049643</td>\n",
              "    </tr>\n",
              "    <tr>\n",
              "      <th>alcalinity_of_ash</th>\n",
              "      <td>-0.310235</td>\n",
              "      <td>0.288500</td>\n",
              "      <td>0.443367</td>\n",
              "      <td>1.000000</td>\n",
              "      <td>-0.083333</td>\n",
              "      <td>-0.321113</td>\n",
              "      <td>-0.351370</td>\n",
              "      <td>0.361922</td>\n",
              "      <td>-0.197327</td>\n",
              "      <td>0.018732</td>\n",
              "      <td>-0.273955</td>\n",
              "      <td>-0.276769</td>\n",
              "      <td>-0.440597</td>\n",
              "      <td>0.517859</td>\n",
              "    </tr>\n",
              "    <tr>\n",
              "      <th>magnesium</th>\n",
              "      <td>0.270798</td>\n",
              "      <td>-0.054575</td>\n",
              "      <td>0.286587</td>\n",
              "      <td>-0.083333</td>\n",
              "      <td>1.000000</td>\n",
              "      <td>0.214401</td>\n",
              "      <td>0.195784</td>\n",
              "      <td>-0.256294</td>\n",
              "      <td>0.236441</td>\n",
              "      <td>0.199950</td>\n",
              "      <td>0.055398</td>\n",
              "      <td>0.066004</td>\n",
              "      <td>0.393351</td>\n",
              "      <td>-0.209179</td>\n",
              "    </tr>\n",
              "    <tr>\n",
              "      <th>total_phenols</th>\n",
              "      <td>0.289101</td>\n",
              "      <td>-0.335167</td>\n",
              "      <td>0.128980</td>\n",
              "      <td>-0.321113</td>\n",
              "      <td>0.214401</td>\n",
              "      <td>1.000000</td>\n",
              "      <td>0.864564</td>\n",
              "      <td>-0.449935</td>\n",
              "      <td>0.612413</td>\n",
              "      <td>-0.055136</td>\n",
              "      <td>0.433681</td>\n",
              "      <td>0.699949</td>\n",
              "      <td>0.498115</td>\n",
              "      <td>-0.719163</td>\n",
              "    </tr>\n",
              "    <tr>\n",
              "      <th>flavanoids</th>\n",
              "      <td>0.236815</td>\n",
              "      <td>-0.411007</td>\n",
              "      <td>0.115077</td>\n",
              "      <td>-0.351370</td>\n",
              "      <td>0.195784</td>\n",
              "      <td>0.864564</td>\n",
              "      <td>1.000000</td>\n",
              "      <td>-0.537900</td>\n",
              "      <td>0.652692</td>\n",
              "      <td>-0.172379</td>\n",
              "      <td>0.543479</td>\n",
              "      <td>0.787194</td>\n",
              "      <td>0.494193</td>\n",
              "      <td>-0.847498</td>\n",
              "    </tr>\n",
              "    <tr>\n",
              "      <th>nonflavanoid_phenols</th>\n",
              "      <td>-0.155929</td>\n",
              "      <td>0.292977</td>\n",
              "      <td>0.186230</td>\n",
              "      <td>0.361922</td>\n",
              "      <td>-0.256294</td>\n",
              "      <td>-0.449935</td>\n",
              "      <td>-0.537900</td>\n",
              "      <td>1.000000</td>\n",
              "      <td>-0.365845</td>\n",
              "      <td>0.139057</td>\n",
              "      <td>-0.262640</td>\n",
              "      <td>-0.503270</td>\n",
              "      <td>-0.311385</td>\n",
              "      <td>0.489109</td>\n",
              "    </tr>\n",
              "    <tr>\n",
              "      <th>proanthocyanins</th>\n",
              "      <td>0.136698</td>\n",
              "      <td>-0.220746</td>\n",
              "      <td>0.009652</td>\n",
              "      <td>-0.197327</td>\n",
              "      <td>0.236441</td>\n",
              "      <td>0.612413</td>\n",
              "      <td>0.652692</td>\n",
              "      <td>-0.365845</td>\n",
              "      <td>1.000000</td>\n",
              "      <td>-0.025250</td>\n",
              "      <td>0.295544</td>\n",
              "      <td>0.519067</td>\n",
              "      <td>0.330417</td>\n",
              "      <td>-0.499130</td>\n",
              "    </tr>\n",
              "    <tr>\n",
              "      <th>color_intensity</th>\n",
              "      <td>0.546364</td>\n",
              "      <td>0.248985</td>\n",
              "      <td>0.258887</td>\n",
              "      <td>0.018732</td>\n",
              "      <td>0.199950</td>\n",
              "      <td>-0.055136</td>\n",
              "      <td>-0.172379</td>\n",
              "      <td>0.139057</td>\n",
              "      <td>-0.025250</td>\n",
              "      <td>1.000000</td>\n",
              "      <td>-0.521813</td>\n",
              "      <td>-0.428815</td>\n",
              "      <td>0.316100</td>\n",
              "      <td>0.265668</td>\n",
              "    </tr>\n",
              "    <tr>\n",
              "      <th>hue</th>\n",
              "      <td>-0.071747</td>\n",
              "      <td>-0.561296</td>\n",
              "      <td>-0.074667</td>\n",
              "      <td>-0.273955</td>\n",
              "      <td>0.055398</td>\n",
              "      <td>0.433681</td>\n",
              "      <td>0.543479</td>\n",
              "      <td>-0.262640</td>\n",
              "      <td>0.295544</td>\n",
              "      <td>-0.521813</td>\n",
              "      <td>1.000000</td>\n",
              "      <td>0.565468</td>\n",
              "      <td>0.236183</td>\n",
              "      <td>-0.617369</td>\n",
              "    </tr>\n",
              "    <tr>\n",
              "      <th>od280/od315_of_diluted_wines</th>\n",
              "      <td>0.072343</td>\n",
              "      <td>-0.368710</td>\n",
              "      <td>0.003911</td>\n",
              "      <td>-0.276769</td>\n",
              "      <td>0.066004</td>\n",
              "      <td>0.699949</td>\n",
              "      <td>0.787194</td>\n",
              "      <td>-0.503270</td>\n",
              "      <td>0.519067</td>\n",
              "      <td>-0.428815</td>\n",
              "      <td>0.565468</td>\n",
              "      <td>1.000000</td>\n",
              "      <td>0.312761</td>\n",
              "      <td>-0.788230</td>\n",
              "    </tr>\n",
              "    <tr>\n",
              "      <th>proline</th>\n",
              "      <td>0.643720</td>\n",
              "      <td>-0.192011</td>\n",
              "      <td>0.223626</td>\n",
              "      <td>-0.440597</td>\n",
              "      <td>0.393351</td>\n",
              "      <td>0.498115</td>\n",
              "      <td>0.494193</td>\n",
              "      <td>-0.311385</td>\n",
              "      <td>0.330417</td>\n",
              "      <td>0.316100</td>\n",
              "      <td>0.236183</td>\n",
              "      <td>0.312761</td>\n",
              "      <td>1.000000</td>\n",
              "      <td>-0.633717</td>\n",
              "    </tr>\n",
              "    <tr>\n",
              "      <th>wine_class</th>\n",
              "      <td>-0.328222</td>\n",
              "      <td>0.437776</td>\n",
              "      <td>-0.049643</td>\n",
              "      <td>0.517859</td>\n",
              "      <td>-0.209179</td>\n",
              "      <td>-0.719163</td>\n",
              "      <td>-0.847498</td>\n",
              "      <td>0.489109</td>\n",
              "      <td>-0.499130</td>\n",
              "      <td>0.265668</td>\n",
              "      <td>-0.617369</td>\n",
              "      <td>-0.788230</td>\n",
              "      <td>-0.633717</td>\n",
              "      <td>1.000000</td>\n",
              "    </tr>\n",
              "  </tbody>\n",
              "</table>\n",
              "</div>"
            ],
            "text/plain": [
              "                               alcohol  malic_acid  ...   proline  wine_class\n",
              "alcohol                       1.000000    0.094397  ...  0.643720   -0.328222\n",
              "malic_acid                    0.094397    1.000000  ... -0.192011    0.437776\n",
              "ash                           0.211545    0.164045  ...  0.223626   -0.049643\n",
              "alcalinity_of_ash            -0.310235    0.288500  ... -0.440597    0.517859\n",
              "magnesium                     0.270798   -0.054575  ...  0.393351   -0.209179\n",
              "total_phenols                 0.289101   -0.335167  ...  0.498115   -0.719163\n",
              "flavanoids                    0.236815   -0.411007  ...  0.494193   -0.847498\n",
              "nonflavanoid_phenols         -0.155929    0.292977  ... -0.311385    0.489109\n",
              "proanthocyanins               0.136698   -0.220746  ...  0.330417   -0.499130\n",
              "color_intensity               0.546364    0.248985  ...  0.316100    0.265668\n",
              "hue                          -0.071747   -0.561296  ...  0.236183   -0.617369\n",
              "od280/od315_of_diluted_wines  0.072343   -0.368710  ...  0.312761   -0.788230\n",
              "proline                       0.643720   -0.192011  ...  1.000000   -0.633717\n",
              "wine_class                   -0.328222    0.437776  ... -0.633717    1.000000\n",
              "\n",
              "[14 rows x 14 columns]"
            ]
          },
          "metadata": {
            "tags": []
          },
          "execution_count": 25
        }
      ]
    },
    {
      "cell_type": "code",
      "metadata": {
        "colab": {
          "base_uri": "https://localhost:8080/"
        },
        "id": "ueNlRUD60wZ5",
        "outputId": "714faa32-83c2-456a-8711-a4b201a5684f"
      },
      "source": [
        "# Media aritmética\n",
        "vino.mean()"
      ],
      "execution_count": null,
      "outputs": [
        {
          "output_type": "execute_result",
          "data": {
            "text/plain": [
              "alcohol                          13.000618\n",
              "malic_acid                        2.336348\n",
              "ash                               2.366517\n",
              "alcalinity_of_ash                19.494944\n",
              "magnesium                        99.741573\n",
              "total_phenols                     2.295112\n",
              "flavanoids                        2.029270\n",
              "nonflavanoid_phenols              0.361854\n",
              "proanthocyanins                   1.590899\n",
              "color_intensity                   5.058090\n",
              "hue                               0.957449\n",
              "od280/od315_of_diluted_wines      2.611685\n",
              "proline                         746.893258\n",
              "wine_class                        0.938202\n",
              "dtype: float64"
            ]
          },
          "metadata": {
            "tags": []
          },
          "execution_count": 27
        }
      ]
    },
    {
      "cell_type": "code",
      "metadata": {
        "colab": {
          "base_uri": "https://localhost:8080/"
        },
        "id": "8WbDB2VD0wZ6",
        "outputId": "7ac0b750-e485-41b5-8a13-53cfec5f42e7"
      },
      "source": [
        "# Media geometrica\n",
        "ss.gmean(vino)"
      ],
      "execution_count": null,
      "outputs": [
        {
          "output_type": "stream",
          "text": [
            "/usr/local/lib/python3.7/dist-packages/scipy/stats/stats.py:330: RuntimeWarning: divide by zero encountered in log\n",
            "  log_a = np.log(np.array(a, dtype=dtype))\n"
          ],
          "name": "stderr"
        },
        {
          "output_type": "execute_result",
          "data": {
            "text/plain": [
              "array([1.29752784e+01, 2.10655027e+00, 2.35006078e+00, 1.92047930e+01,\n",
              "       9.87945076e+01, 2.20614882e+00, 1.72633531e+00, 3.40592502e-01,\n",
              "       1.48269582e+00, 4.56323347e+00, 9.28760027e-01, 2.50412397e+00,\n",
              "       6.85605753e+02, 0.00000000e+00])"
            ]
          },
          "metadata": {
            "tags": []
          },
          "execution_count": 28
        }
      ]
    },
    {
      "cell_type": "code",
      "metadata": {
        "colab": {
          "base_uri": "https://localhost:8080/"
        },
        "id": "vCtNSMEU0wZ6",
        "outputId": "701e5fc5-a6ea-4ea2-f3e2-1f5233f235e6"
      },
      "source": [
        "# Media armónica\n",
        "ss.hmean(vino)"
      ],
      "execution_count": null,
      "outputs": [
        {
          "output_type": "execute_result",
          "data": {
            "text/plain": [
              "array([1.29498207e+01, 1.91402549e+00, 2.33268680e+00, 1.89038316e+01,\n",
              "       9.79056615e+01, 2.11425211e+00, 1.39305807e+00, 3.19560143e-01,\n",
              "       1.36201459e+00, 4.10641888e+00, 8.98573781e-01, 2.38715250e+00,\n",
              "       6.30550129e+02, 0.00000000e+00])"
            ]
          },
          "metadata": {
            "tags": []
          },
          "execution_count": 29
        }
      ]
    },
    {
      "cell_type": "code",
      "metadata": {
        "colab": {
          "base_uri": "https://localhost:8080/"
        },
        "id": "QfLTLGJ30wZ7",
        "outputId": "7ff8a98f-29a9-4d91-b005-aedd1c0f5fa5"
      },
      "source": [
        "# Mediana\n",
        "vino.median()"
      ],
      "execution_count": null,
      "outputs": [
        {
          "output_type": "execute_result",
          "data": {
            "text/plain": [
              "alcohol                          13.050\n",
              "malic_acid                        1.865\n",
              "ash                               2.360\n",
              "alcalinity_of_ash                19.500\n",
              "magnesium                        98.000\n",
              "total_phenols                     2.355\n",
              "flavanoids                        2.135\n",
              "nonflavanoid_phenols              0.340\n",
              "proanthocyanins                   1.555\n",
              "color_intensity                   4.690\n",
              "hue                               0.965\n",
              "od280/od315_of_diluted_wines      2.780\n",
              "proline                         673.500\n",
              "wine_class                        1.000\n",
              "dtype: float64"
            ]
          },
          "metadata": {
            "tags": []
          },
          "execution_count": 30
        }
      ]
    },
    {
      "cell_type": "code",
      "metadata": {
        "colab": {
          "base_uri": "https://localhost:8080/"
        },
        "id": "KUQINC1X0wZ8",
        "outputId": "2c775942-4c18-444d-cb25-d222af279862"
      },
      "source": [
        "# Media truncada\n",
        "ss.trim_mean(vino, .10)"
      ],
      "execution_count": null,
      "outputs": [
        {
          "output_type": "execute_result",
          "data": {
            "text/plain": [
              "array([1.30063889e+01, 2.21152778e+00, 2.37375000e+00, 1.94194444e+01,\n",
              "       9.84444444e+01, 2.28576389e+00, 2.02020833e+00, 3.55069444e-01,\n",
              "       1.56409722e+00, 4.82770833e+00, 9.58583333e-01, 2.63118056e+00,\n",
              "       7.19298611e+02, 9.23611111e-01])"
            ]
          },
          "metadata": {
            "tags": []
          },
          "execution_count": 31
        }
      ]
    },
    {
      "cell_type": "code",
      "metadata": {
        "colab": {
          "base_uri": "https://localhost:8080/",
          "height": 162
        },
        "id": "fqgJrxH60wZ8",
        "outputId": "957f47c1-8c61-469b-a9f0-873c5acbe6c3"
      },
      "source": [
        "# Moda\n",
        "vino.mode()"
      ],
      "execution_count": null,
      "outputs": [
        {
          "output_type": "execute_result",
          "data": {
            "text/html": [
              "<div>\n",
              "<style scoped>\n",
              "    .dataframe tbody tr th:only-of-type {\n",
              "        vertical-align: middle;\n",
              "    }\n",
              "\n",
              "    .dataframe tbody tr th {\n",
              "        vertical-align: top;\n",
              "    }\n",
              "\n",
              "    .dataframe thead th {\n",
              "        text-align: right;\n",
              "    }\n",
              "</style>\n",
              "<table border=\"1\" class=\"dataframe\">\n",
              "  <thead>\n",
              "    <tr style=\"text-align: right;\">\n",
              "      <th></th>\n",
              "      <th>alcohol</th>\n",
              "      <th>malic_acid</th>\n",
              "      <th>ash</th>\n",
              "      <th>alcalinity_of_ash</th>\n",
              "      <th>magnesium</th>\n",
              "      <th>total_phenols</th>\n",
              "      <th>flavanoids</th>\n",
              "      <th>nonflavanoid_phenols</th>\n",
              "      <th>proanthocyanins</th>\n",
              "      <th>color_intensity</th>\n",
              "      <th>hue</th>\n",
              "      <th>od280/od315_of_diluted_wines</th>\n",
              "      <th>proline</th>\n",
              "      <th>wine_class</th>\n",
              "    </tr>\n",
              "  </thead>\n",
              "  <tbody>\n",
              "    <tr>\n",
              "      <th>0</th>\n",
              "      <td>12.37</td>\n",
              "      <td>1.73</td>\n",
              "      <td>2.28</td>\n",
              "      <td>20.0</td>\n",
              "      <td>88.0</td>\n",
              "      <td>2.2</td>\n",
              "      <td>2.65</td>\n",
              "      <td>0.26</td>\n",
              "      <td>1.35</td>\n",
              "      <td>2.6</td>\n",
              "      <td>1.04</td>\n",
              "      <td>2.87</td>\n",
              "      <td>520.0</td>\n",
              "      <td>1.0</td>\n",
              "    </tr>\n",
              "    <tr>\n",
              "      <th>1</th>\n",
              "      <td>13.05</td>\n",
              "      <td>NaN</td>\n",
              "      <td>2.30</td>\n",
              "      <td>NaN</td>\n",
              "      <td>NaN</td>\n",
              "      <td>NaN</td>\n",
              "      <td>NaN</td>\n",
              "      <td>0.43</td>\n",
              "      <td>NaN</td>\n",
              "      <td>3.8</td>\n",
              "      <td>NaN</td>\n",
              "      <td>NaN</td>\n",
              "      <td>680.0</td>\n",
              "      <td>NaN</td>\n",
              "    </tr>\n",
              "    <tr>\n",
              "      <th>2</th>\n",
              "      <td>NaN</td>\n",
              "      <td>NaN</td>\n",
              "      <td>NaN</td>\n",
              "      <td>NaN</td>\n",
              "      <td>NaN</td>\n",
              "      <td>NaN</td>\n",
              "      <td>NaN</td>\n",
              "      <td>NaN</td>\n",
              "      <td>NaN</td>\n",
              "      <td>4.6</td>\n",
              "      <td>NaN</td>\n",
              "      <td>NaN</td>\n",
              "      <td>NaN</td>\n",
              "      <td>NaN</td>\n",
              "    </tr>\n",
              "  </tbody>\n",
              "</table>\n",
              "</div>"
            ],
            "text/plain": [
              "   alcohol  malic_acid   ash  ...  od280/od315_of_diluted_wines  proline  wine_class\n",
              "0    12.37        1.73  2.28  ...                          2.87    520.0         1.0\n",
              "1    13.05         NaN  2.30  ...                           NaN    680.0         NaN\n",
              "2      NaN         NaN   NaN  ...                           NaN      NaN         NaN\n",
              "\n",
              "[3 rows x 14 columns]"
            ]
          },
          "metadata": {
            "tags": []
          },
          "execution_count": 32
        }
      ]
    }
  ]
}