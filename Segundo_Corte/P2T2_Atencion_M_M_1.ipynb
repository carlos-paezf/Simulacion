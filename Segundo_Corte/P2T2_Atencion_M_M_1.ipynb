{
  "nbformat": 4,
  "nbformat_minor": 0,
  "metadata": {
    "colab": {
      "name": "P2T2_Atencion_M-M-1.ipynb",
      "provenance": []
    },
    "kernelspec": {
      "name": "python3",
      "display_name": "Python 3"
    },
    "language_info": {
      "name": "python"
    }
  },
  "cells": [
    {
      "cell_type": "markdown",
      "metadata": {
        "id": "3ZYhH85tLDmI"
      },
      "source": [
        "# Atención M/M/1"
      ]
    },
    {
      "cell_type": "markdown",
      "metadata": {
        "id": "v-rCnHwxLNr2"
      },
      "source": [
        "- $\\lambda$ = Velocidad de llegada de clientes al sistema (clientes-hora, clientes-minutos)\n",
        "- $\\mu$ = Velocidad de atención (clientes-tiempo)"
      ]
    },
    {
      "cell_type": "markdown",
      "metadata": {
        "id": "IGjh2zB-JP_K"
      },
      "source": [
        "## Ejercicio 1:"
      ]
    },
    {
      "cell_type": "markdown",
      "metadata": {
        "id": "MeD_lteXJS6N"
      },
      "source": [
        "Un doctor cuenta con 20 minutos en promedio para atender a cada paciente. si el tiempo estimado de llegada de cada cliente es de 30 minutos, determine: \n",
        "\n",
        "- Número promedio de pacientes en el sistema  \n",
        "\n",
        "- Tiempo promedio en que un paciente se encuentra en el sistema \n",
        "\n",
        "- Número promedio de pacientes en la fila de espera \n",
        "\n",
        "- Tiempo promedio en que un paciente  \n",
        "\n",
        "- Factor de uso del sistema o del servidor \n",
        "\n",
        "- Probabilidad de que ningún paciente  \n",
        "\n",
        "- Probabilidad de que el sistema tenga exactamente  "
      ]
    },
    {
      "cell_type": "code",
      "metadata": {
        "id": "E_kPCl5s-t_L"
      },
      "source": [
        "lam = 2      # llegan 2 pacientes por hora\n",
        "mu = 3       # atienden 3 pacientes por hora"
      ],
      "execution_count": 1,
      "outputs": []
    },
    {
      "cell_type": "markdown",
      "metadata": {
        "id": "xK84Xo6LHyVK"
      },
      "source": [
        "### Número promedio de pacientes en el sistema: ls\n",
        "\n",
        "$$ Ls = \\frac{\\lambda}{(\\mu - \\lambda)} $$"
      ]
    },
    {
      "cell_type": "code",
      "metadata": {
        "colab": {
          "base_uri": "https://localhost:8080/"
        },
        "id": "WS3ra7vpFkQr",
        "outputId": "c83d6c1e-ba47-42a8-bd61-bce594643314"
      },
      "source": [
        "ls = lam / (mu-lam)\n",
        "ls"
      ],
      "execution_count": 2,
      "outputs": [
        {
          "output_type": "execute_result",
          "data": {
            "text/plain": [
              "2.0"
            ]
          },
          "metadata": {
            "tags": []
          },
          "execution_count": 2
        }
      ]
    },
    {
      "cell_type": "markdown",
      "metadata": {
        "id": "8djaobtUIM9D"
      },
      "source": [
        "### Tiempo en el cual una unidad está en el sistema: ws\n",
        "\n",
        "$$ Ws = \\frac{1}{(\\mu - \\lambda)} $$"
      ]
    },
    {
      "cell_type": "code",
      "metadata": {
        "colab": {
          "base_uri": "https://localhost:8080/"
        },
        "id": "95Jh-VS2GBtR",
        "outputId": "935978d1-8817-497d-9627-f6eb8354370f"
      },
      "source": [
        "ws = 1 / (mu-lam)\n",
        "ws"
      ],
      "execution_count": 3,
      "outputs": [
        {
          "output_type": "execute_result",
          "data": {
            "text/plain": [
              "1.0"
            ]
          },
          "metadata": {
            "tags": []
          },
          "execution_count": 3
        }
      ]
    },
    {
      "cell_type": "markdown",
      "metadata": {
        "id": "uvFO7NEQI2VF"
      },
      "source": [
        "### Número promedio de unidades esperando en la fila: lq\n",
        "\n",
        "$$ Lq = \\frac{{\\lambda}^2}{\\mu(\\mu - \\lambda)} $$"
      ]
    },
    {
      "cell_type": "code",
      "metadata": {
        "colab": {
          "base_uri": "https://localhost:8080/"
        },
        "id": "zbcGXmw4GHuT",
        "outputId": "75d1a88e-efe0-4942-f8ee-dcc0bfcce04a"
      },
      "source": [
        "lq = lam**2 / (mu*(mu-lam))\n",
        "lq"
      ],
      "execution_count": 4,
      "outputs": [
        {
          "output_type": "execute_result",
          "data": {
            "text/plain": [
              "1.3333333333333333"
            ]
          },
          "metadata": {
            "tags": []
          },
          "execution_count": 4
        }
      ]
    },
    {
      "cell_type": "markdown",
      "metadata": {
        "id": "sizItL_jI80U"
      },
      "source": [
        "### Factor de uso del sistema: P\n",
        "\n",
        "$$ P = \\frac{\\lambda}{\\mu} < 1 $$"
      ]
    },
    {
      "cell_type": "code",
      "metadata": {
        "colab": {
          "base_uri": "https://localhost:8080/"
        },
        "id": "m6H4RPJAGPqT",
        "outputId": "03383e86-5e5a-459f-cd2b-8bcb0d83f525"
      },
      "source": [
        "P = lam / mu\n",
        "P"
      ],
      "execution_count": 5,
      "outputs": [
        {
          "output_type": "execute_result",
          "data": {
            "text/plain": [
              "0.6666666666666666"
            ]
          },
          "metadata": {
            "tags": []
          },
          "execution_count": 5
        }
      ]
    },
    {
      "cell_type": "markdown",
      "metadata": {
        "id": "FQX7pyg0JAhS"
      },
      "source": [
        "### Probabilidad de que ninguna unidad se encuentre en el sistema: Po\n",
        "\n",
        "$$ Po = 1 - P $$"
      ]
    },
    {
      "cell_type": "code",
      "metadata": {
        "colab": {
          "base_uri": "https://localhost:8080/"
        },
        "id": "joG4oGYzGYOq",
        "outputId": "5e3f6825-075a-4ce6-cbb9-8900a946f3db"
      },
      "source": [
        "Po = 1 - P\n",
        "Po"
      ],
      "execution_count": 6,
      "outputs": [
        {
          "output_type": "execute_result",
          "data": {
            "text/plain": [
              "0.33333333333333337"
            ]
          },
          "metadata": {
            "tags": []
          },
          "execution_count": 6
        }
      ]
    },
    {
      "cell_type": "markdown",
      "metadata": {
        "id": "S-aterHOJH_5"
      },
      "source": [
        "### Probabilidad de que el sistema tenga exactamente n unidades: Pn\n",
        "\n",
        "$$ Ls = \\lambda \\left(1- \\frac{\\lambda}{\\mu}\\right) {\\left(\\frac{\\lambda}{\\mu}\\right)}^2 $$"
      ]
    },
    {
      "cell_type": "code",
      "metadata": {
        "colab": {
          "base_uri": "https://localhost:8080/"
        },
        "id": "NsOHjwT8GeVN",
        "outputId": "a79c0926-fa88-4167-dd0a-a5dbf6eddc0d"
      },
      "source": [
        "n = 2\n",
        "Pn = lam * (1-(lam/mu)) * ((lam/mu)**n)\n",
        "Pn"
      ],
      "execution_count": 7,
      "outputs": [
        {
          "output_type": "execute_result",
          "data": {
            "text/plain": [
              "0.29629629629629634"
            ]
          },
          "metadata": {
            "tags": []
          },
          "execution_count": 7
        }
      ]
    }
  ]
}